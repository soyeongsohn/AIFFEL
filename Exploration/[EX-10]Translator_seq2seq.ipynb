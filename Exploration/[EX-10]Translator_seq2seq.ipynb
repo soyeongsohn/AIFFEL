{
 "cells": [
  {
   "cell_type": "markdown",
   "id": "9b4eef97",
   "metadata": {},
   "source": [
    "# Project: 영-프 번역기 만들기 (단어 레벨)\n",
    "- seq2seq\n",
    "- machine translation"
   ]
  },
  {
   "cell_type": "code",
   "execution_count": 1,
   "id": "f317f9ee",
   "metadata": {},
   "outputs": [],
   "source": [
    "import numpy as np\n",
    "import pandas as pd\n",
    "import matplotlib.pyplot as plt\n",
    "%matplotlib inline\n",
    "\n",
    "from tensorflow.keras.preprocessing.text import Tokenizer\n",
    "from tensorflow.keras.preprocessing.sequence import pad_sequences\n",
    "from tensorflow.keras.layers import Input, LSTM, Embedding, Dense, Masking\n",
    "from tensorflow.keras.callbacks import EarlyStopping\n",
    "from tensorflow.keras.models import Model\n",
    "\n",
    "import re"
   ]
  },
  {
   "cell_type": "code",
   "execution_count": 2,
   "id": "b65031fd",
   "metadata": {},
   "outputs": [
    {
     "data": {
      "text/plain": [
       "33000"
      ]
     },
     "execution_count": 2,
     "metadata": {},
     "output_type": "execute_result"
    }
   ],
   "source": [
    "file_path = \"./data/fra.txt\"\n",
    "lines = pd.read_csv(file_path, names=['eng', 'fra', 'cc'], sep='\\t')\n",
    "\n",
    "# 상위 33000개 샘플만 가져오기\n",
    "lines = lines[[\"eng\", \"fra\"]][:33000]\n",
    "len(lines)"
   ]
  },
  {
   "cell_type": "code",
   "execution_count": 3,
   "id": "b562908d",
   "metadata": {
    "scrolled": true
   },
   "outputs": [
    {
     "data": {
      "text/html": [
       "<div>\n",
       "<style scoped>\n",
       "    .dataframe tbody tr th:only-of-type {\n",
       "        vertical-align: middle;\n",
       "    }\n",
       "\n",
       "    .dataframe tbody tr th {\n",
       "        vertical-align: top;\n",
       "    }\n",
       "\n",
       "    .dataframe thead th {\n",
       "        text-align: right;\n",
       "    }\n",
       "</style>\n",
       "<table border=\"1\" class=\"dataframe\">\n",
       "  <thead>\n",
       "    <tr style=\"text-align: right;\">\n",
       "      <th></th>\n",
       "      <th>eng</th>\n",
       "      <th>fra</th>\n",
       "    </tr>\n",
       "  </thead>\n",
       "  <tbody>\n",
       "    <tr>\n",
       "      <th>0</th>\n",
       "      <td>Go.</td>\n",
       "      <td>Va !</td>\n",
       "    </tr>\n",
       "    <tr>\n",
       "      <th>1</th>\n",
       "      <td>Go.</td>\n",
       "      <td>Marche.</td>\n",
       "    </tr>\n",
       "    <tr>\n",
       "      <th>2</th>\n",
       "      <td>Go.</td>\n",
       "      <td>En route !</td>\n",
       "    </tr>\n",
       "    <tr>\n",
       "      <th>3</th>\n",
       "      <td>Go.</td>\n",
       "      <td>Bouge !</td>\n",
       "    </tr>\n",
       "    <tr>\n",
       "      <th>4</th>\n",
       "      <td>Hi.</td>\n",
       "      <td>Salut !</td>\n",
       "    </tr>\n",
       "    <tr>\n",
       "      <th>5</th>\n",
       "      <td>Hi.</td>\n",
       "      <td>Salut.</td>\n",
       "    </tr>\n",
       "    <tr>\n",
       "      <th>6</th>\n",
       "      <td>Run!</td>\n",
       "      <td>Cours !</td>\n",
       "    </tr>\n",
       "    <tr>\n",
       "      <th>7</th>\n",
       "      <td>Run!</td>\n",
       "      <td>Courez !</td>\n",
       "    </tr>\n",
       "    <tr>\n",
       "      <th>8</th>\n",
       "      <td>Run!</td>\n",
       "      <td>Prenez vos jambes à vos cous !</td>\n",
       "    </tr>\n",
       "    <tr>\n",
       "      <th>9</th>\n",
       "      <td>Run!</td>\n",
       "      <td>File !</td>\n",
       "    </tr>\n",
       "  </tbody>\n",
       "</table>\n",
       "</div>"
      ],
      "text/plain": [
       "    eng                             fra\n",
       "0   Go.                            Va !\n",
       "1   Go.                         Marche.\n",
       "2   Go.                      En route !\n",
       "3   Go.                         Bouge !\n",
       "4   Hi.                         Salut !\n",
       "5   Hi.                          Salut.\n",
       "6  Run!                         Cours !\n",
       "7  Run!                        Courez !\n",
       "8  Run!  Prenez vos jambes à vos cous !\n",
       "9  Run!                          File !"
      ]
     },
     "execution_count": 3,
     "metadata": {},
     "output_type": "execute_result"
    }
   ],
   "source": [
    "lines.head(10)"
   ]
  },
  {
   "cell_type": "markdown",
   "id": "e7e57952",
   "metadata": {},
   "source": [
    "## 1. Preprocessing"
   ]
  },
  {
   "cell_type": "markdown",
   "id": "ec9d6e88",
   "metadata": {},
   "source": [
    "### 텍스트 전처리\n",
    "- 소문자로 변경\n",
    "- 구두점 분리\n",
    "- 디코더 문장의 경우 `<start>`,  `<end>` 토큰 추가"
   ]
  },
  {
   "cell_type": "code",
   "execution_count": 4,
   "id": "d1828844",
   "metadata": {},
   "outputs": [],
   "source": [
    "def preprocessing(line, is_decode=False, sos_token=\"<sos> \", eos_token=\" <eos>\"):\n",
    "    # 소문자로 변환\n",
    "    line = line.lower()\n",
    "    # 구두점 분리\n",
    "    line = re.sub(r\"([?.!,¿])\", r\" \\1 \", line)\n",
    "    line = re.sub(r\"[^a-zA-Z\\u00C0-\\u017F!.?]+\", r\" \", line) # 프랑스어 악센트 포함된 알파벳도 포함하도록 한다.\n",
    "    line = re.sub(r\"\\s+\", r\" \", line)\n",
    "    line = line.strip() # 앞뒤 공백 제거\n",
    "    \n",
    "    if is_decode:\n",
    "        line = sos_token + line + eos_token\n",
    "    \n",
    "    return line"
   ]
  },
  {
   "cell_type": "code",
   "execution_count": 5,
   "id": "b2a762ce",
   "metadata": {},
   "outputs": [
    {
     "name": "stdout",
     "output_type": "stream",
     "text": [
      "this is sample sentence .\n",
      "<sos> this is sample sentence . <eos>\n"
     ]
    }
   ],
   "source": [
    "# 확인\n",
    "print(preprocessing(\"This @_is ;;;sample        sentence.\")) # 필터링 잘되는지 확인\n",
    "print(preprocessing(\"This @_is ;;;sample        sentence.\", is_decode=True))"
   ]
  },
  {
   "cell_type": "code",
   "execution_count": 6,
   "id": "78c3b705",
   "metadata": {},
   "outputs": [
    {
     "data": {
      "text/html": [
       "<div>\n",
       "<style scoped>\n",
       "    .dataframe tbody tr th:only-of-type {\n",
       "        vertical-align: middle;\n",
       "    }\n",
       "\n",
       "    .dataframe tbody tr th {\n",
       "        vertical-align: top;\n",
       "    }\n",
       "\n",
       "    .dataframe thead th {\n",
       "        text-align: right;\n",
       "    }\n",
       "</style>\n",
       "<table border=\"1\" class=\"dataframe\">\n",
       "  <thead>\n",
       "    <tr style=\"text-align: right;\">\n",
       "      <th></th>\n",
       "      <th>eng</th>\n",
       "      <th>fra</th>\n",
       "    </tr>\n",
       "  </thead>\n",
       "  <tbody>\n",
       "    <tr>\n",
       "      <th>0</th>\n",
       "      <td>go .</td>\n",
       "      <td>&lt;sos&gt; va ! &lt;eos&gt;</td>\n",
       "    </tr>\n",
       "    <tr>\n",
       "      <th>1</th>\n",
       "      <td>go .</td>\n",
       "      <td>&lt;sos&gt; marche . &lt;eos&gt;</td>\n",
       "    </tr>\n",
       "    <tr>\n",
       "      <th>2</th>\n",
       "      <td>go .</td>\n",
       "      <td>&lt;sos&gt; en route ! &lt;eos&gt;</td>\n",
       "    </tr>\n",
       "    <tr>\n",
       "      <th>3</th>\n",
       "      <td>go .</td>\n",
       "      <td>&lt;sos&gt; bouge ! &lt;eos&gt;</td>\n",
       "    </tr>\n",
       "    <tr>\n",
       "      <th>4</th>\n",
       "      <td>hi .</td>\n",
       "      <td>&lt;sos&gt; salut ! &lt;eos&gt;</td>\n",
       "    </tr>\n",
       "    <tr>\n",
       "      <th>5</th>\n",
       "      <td>hi .</td>\n",
       "      <td>&lt;sos&gt; salut . &lt;eos&gt;</td>\n",
       "    </tr>\n",
       "    <tr>\n",
       "      <th>6</th>\n",
       "      <td>run !</td>\n",
       "      <td>&lt;sos&gt; cours ! &lt;eos&gt;</td>\n",
       "    </tr>\n",
       "    <tr>\n",
       "      <th>7</th>\n",
       "      <td>run !</td>\n",
       "      <td>&lt;sos&gt; courez ! &lt;eos&gt;</td>\n",
       "    </tr>\n",
       "    <tr>\n",
       "      <th>8</th>\n",
       "      <td>run !</td>\n",
       "      <td>&lt;sos&gt; prenez vos jambes à vos cous ! &lt;eos&gt;</td>\n",
       "    </tr>\n",
       "    <tr>\n",
       "      <th>9</th>\n",
       "      <td>run !</td>\n",
       "      <td>&lt;sos&gt; file ! &lt;eos&gt;</td>\n",
       "    </tr>\n",
       "  </tbody>\n",
       "</table>\n",
       "</div>"
      ],
      "text/plain": [
       "     eng                                         fra\n",
       "0   go .                            <sos> va ! <eos>\n",
       "1   go .                        <sos> marche . <eos>\n",
       "2   go .                      <sos> en route ! <eos>\n",
       "3   go .                         <sos> bouge ! <eos>\n",
       "4   hi .                         <sos> salut ! <eos>\n",
       "5   hi .                         <sos> salut . <eos>\n",
       "6  run !                         <sos> cours ! <eos>\n",
       "7  run !                        <sos> courez ! <eos>\n",
       "8  run !  <sos> prenez vos jambes à vos cous ! <eos>\n",
       "9  run !                          <sos> file ! <eos>"
      ]
     },
     "execution_count": 6,
     "metadata": {},
     "output_type": "execute_result"
    }
   ],
   "source": [
    "lines.eng= lines.eng.apply(lambda x: preprocessing(x))\n",
    "lines.fra = lines.fra.apply(lambda x: preprocessing(x, is_decode=True))\n",
    "lines.head(10)"
   ]
  },
  {
   "cell_type": "markdown",
   "id": "c35dba07",
   "metadata": {},
   "source": [
    "## 2. Tokenize"
   ]
  },
  {
   "cell_type": "markdown",
   "id": "21fca9fd",
   "metadata": {},
   "source": [
    "### 띄어쓰기 단위로 토큰화 수행"
   ]
  },
  {
   "cell_type": "code",
   "execution_count": 7,
   "id": "e8970554",
   "metadata": {},
   "outputs": [],
   "source": [
    "def tokenize(lines):\n",
    "    tokenizer = Tokenizer(num_words=7000,\n",
    "                          filters=\" \", \n",
    "                          lower=False)\n",
    "    tokenizer.fit_on_texts(lines)\n",
    "    \n",
    "    tensor = tokenizer.texts_to_sequences(lines)\n",
    "    \n",
    "    return tensor, tokenizer"
   ]
  },
  {
   "cell_type": "code",
   "execution_count": 8,
   "id": "2e28521c",
   "metadata": {},
   "outputs": [],
   "source": [
    "eng_tensor, eng_tokenizer = tokenize(lines.eng)\n",
    "fra_tensor, fra_tokenizer = tokenize(lines.fra)"
   ]
  },
  {
   "cell_type": "code",
   "execution_count": 9,
   "id": "6c1bd4db",
   "metadata": {},
   "outputs": [
    {
     "data": {
      "text/plain": [
       "[[1, 69, 9, 2],\n",
       " [1, 314, 3, 2],\n",
       " [1, 24, 495, 9, 2],\n",
       " [1, 643, 9, 2],\n",
       " [1, 644, 9, 2]]"
      ]
     },
     "execution_count": 9,
     "metadata": {},
     "output_type": "execute_result"
    }
   ],
   "source": [
    "# 확인\n",
    "fra_tensor[:5]"
   ]
  },
  {
   "cell_type": "markdown",
   "id": "4553e5f0",
   "metadata": {},
   "source": [
    "### input, target 설정"
   ]
  },
  {
   "cell_type": "code",
   "execution_count": 10,
   "id": "871d8733",
   "metadata": {},
   "outputs": [],
   "source": [
    "# 프랑스어 시퀀스는 정답 데이터, 디코더 입력용 두 가지 버전으로 준비\n",
    "encoder_input = eng_tensor\n",
    "# 종료 토큰 제거\n",
    "decoder_input = [[ char for char in line if char != fra_tokenizer.word_index[\"<eos>\"] ] for line in fra_tensor] \n",
    "# 시작 토큰 제거\n",
    "decoder_target = [[ char for char in line if char != fra_tokenizer.word_index[\"<sos>\"] ] for line in fra_tensor]"
   ]
  },
  {
   "cell_type": "code",
   "execution_count": 11,
   "id": "816fdb07",
   "metadata": {},
   "outputs": [
    {
     "name": "stdout",
     "output_type": "stream",
     "text": [
      "[[1, 69, 9], [1, 314, 3], [1, 24, 495, 9]]\n",
      "[[69, 9, 2], [314, 3, 2], [24, 495, 9, 2]]\n"
     ]
    }
   ],
   "source": [
    "# 확인\n",
    "print(decoder_input[:3]) # \"2\"가 사라졌는지 확인\n",
    "print(decoder_target[:3]) # \"1\"이 사라졌는지 확인"
   ]
  },
  {
   "cell_type": "markdown",
   "id": "aad7f9fb",
   "metadata": {},
   "source": [
    "### padding 추가"
   ]
  },
  {
   "cell_type": "code",
   "execution_count": 12,
   "id": "d9337e42",
   "metadata": {},
   "outputs": [],
   "source": [
    "eng_vocab_size = len(eng_tokenizer.word_index) + 1\n",
    "fra_vocab_size = len(fra_tokenizer.word_index) + 1\n",
    "\n",
    "max_eng_seq_len = max([len(line) for line in eng_tensor])\n",
    "max_fra_seq_len = max([len(line) for line in fra_tensor])"
   ]
  },
  {
   "cell_type": "code",
   "execution_count": 13,
   "id": "6b89a5e9",
   "metadata": {},
   "outputs": [
    {
     "name": "stdout",
     "output_type": "stream",
     "text": [
      "전체 샘플의 수 : 33000\n",
      "영어 단어장의 크기 : 4514\n",
      "프랑스어 단어장의 크기 : 8274\n",
      "영어 시퀀스의 최대 길이 8\n",
      "프랑스어 시퀀스의 최대 길이 16\n"
     ]
    }
   ],
   "source": [
    "print('전체 샘플의 수 :',len(lines))\n",
    "print('영어 단어장의 크기 :', eng_vocab_size)\n",
    "print('프랑스어 단어장의 크기 :', fra_vocab_size)\n",
    "print('영어 시퀀스의 최대 길이', max_eng_seq_len)\n",
    "print('프랑스어 시퀀스의 최대 길이', max_fra_seq_len)"
   ]
  },
  {
   "cell_type": "code",
   "execution_count": 14,
   "id": "7788183c",
   "metadata": {},
   "outputs": [],
   "source": [
    "encoder_input = pad_sequences(encoder_input, maxlen=max_eng_seq_len, padding='post')\n",
    "decoder_input = pad_sequences(decoder_input, maxlen=max_fra_seq_len, padding='post')\n",
    "decoder_target = pad_sequences(decoder_target, maxlen=max_fra_seq_len, padding='post')"
   ]
  },
  {
   "cell_type": "code",
   "execution_count": 15,
   "id": "080bfc56",
   "metadata": {},
   "outputs": [
    {
     "name": "stdout",
     "output_type": "stream",
     "text": [
      "영어 데이터의 크기(shape) : (33000, 8)\n",
      "프랑스어 입력데이터의 크기(shape) : (33000, 16)\n",
      "프랑스어 출력데이터의 크기(shape) : (33000, 16)\n"
     ]
    }
   ],
   "source": [
    "print('영어 데이터의 크기(shape) :',np.shape(encoder_input))\n",
    "print('프랑스어 입력데이터의 크기(shape) :',np.shape(decoder_input))\n",
    "print('프랑스어 출력데이터의 크기(shape) :',np.shape(decoder_target))"
   ]
  },
  {
   "cell_type": "markdown",
   "id": "2da56729",
   "metadata": {},
   "source": [
    "### train, test 데이터 나누기"
   ]
  },
  {
   "cell_type": "code",
   "execution_count": 16,
   "id": "256e29fa",
   "metadata": {},
   "outputs": [
    {
     "name": "stdout",
     "output_type": "stream",
     "text": [
      "[28624   509 13578 ... 13651  6978 22344]\n"
     ]
    }
   ],
   "source": [
    "# 데이터 섞어주기\n",
    "indices = np.arange(encoder_input.shape[0])\n",
    "np.random.shuffle(indices)\n",
    "print(indices)\n",
    "\n",
    "encoder_input = encoder_input[indices]\n",
    "decoder_input = decoder_input[indices]\n",
    "decoder_target = decoder_target[indices]"
   ]
  },
  {
   "cell_type": "code",
   "execution_count": 17,
   "id": "5fd04194",
   "metadata": {},
   "outputs": [],
   "source": [
    "n_of_val = 3000\n",
    "\n",
    "encoder_input_train = encoder_input[:-n_of_val]\n",
    "decoder_input_train = decoder_input[:-n_of_val]\n",
    "decoder_target_train = decoder_target[:-n_of_val]\n",
    "\n",
    "encoder_input_test = encoder_input[-n_of_val:]\n",
    "decoder_input_test = decoder_input[-n_of_val:]\n",
    "decoder_target_test = decoder_target[-n_of_val:]"
   ]
  },
  {
   "cell_type": "code",
   "execution_count": 18,
   "id": "e7ae1bc8",
   "metadata": {},
   "outputs": [
    {
     "name": "stdout",
     "output_type": "stream",
     "text": [
      "영어 학습데이터의 크기(shape) : (30000, 8)\n",
      "프랑스어 학습 입력데이터의 크기(shape) : (30000, 16)\n",
      "프랑스어 학습 출력데이터의 크기(shape) : (30000, 16)\n"
     ]
    }
   ],
   "source": [
    "print('영어 학습데이터의 크기(shape) :',np.shape(encoder_input_train))\n",
    "print('프랑스어 학습 입력데이터의 크기(shape) :',np.shape(decoder_input_train))\n",
    "print('프랑스어 학습 출력데이터의 크기(shape) :',np.shape(decoder_target_train))"
   ]
  },
  {
   "cell_type": "markdown",
   "id": "dab1646f",
   "metadata": {},
   "source": [
    "## 3. Modeling "
   ]
  },
  {
   "cell_type": "code",
   "execution_count": 19,
   "id": "15aa428a",
   "metadata": {},
   "outputs": [],
   "source": [
    "embedding_dim = 128\n",
    "hidden_dim = 128"
   ]
  },
  {
   "cell_type": "code",
   "execution_count": 20,
   "id": "928f9b1f",
   "metadata": {},
   "outputs": [],
   "source": [
    "# encoder\n",
    "encoder_inputs = Input(shape=(None,))\n",
    "enc_emb =  Embedding(eng_vocab_size, embedding_dim)(encoder_inputs)\n",
    "enc_masking = Masking(mask_value=0.0)(enc_emb) # 패딩 0은 연산에서 제외\n",
    "encoder_lstm = LSTM(hidden_dim, return_state=True)\n",
    "encoder_outputs, state_h, state_c = encoder_lstm(enc_masking)\n",
    "# hidden state와 cell state를 다음 time step으로 전달하기 위해서 별도 저장\n",
    "encoder_states = [state_h, state_c]"
   ]
  },
  {
   "cell_type": "code",
   "execution_count": 21,
   "id": "f6e57e19",
   "metadata": {},
   "outputs": [],
   "source": [
    "# decoder\n",
    "decoder_inputs = Input(shape=(None,))\n",
    "dec_emb_layer =  Embedding(fra_vocab_size, embedding_dim)\n",
    "dec_emb = dec_emb_layer(decoder_inputs)\n",
    "dec_masking = Masking(mask_value=0.0)(dec_emb)\n",
    "decoder_lstm = LSTM(hidden_dim, return_sequences=True, return_state=True)\n",
    "decoder_outputs, _, _= decoder_lstm(dec_masking, initial_state=encoder_states) # initial_state: LSTM 셀의 초기 상태 지정\n",
    "\n",
    "decoder_softmax_layer = Dense(fra_vocab_size, activation='softmax')\n",
    "decoder_outputs = decoder_softmax_layer(decoder_outputs)"
   ]
  },
  {
   "cell_type": "code",
   "execution_count": 22,
   "id": "470269a4",
   "metadata": {},
   "outputs": [
    {
     "name": "stdout",
     "output_type": "stream",
     "text": [
      "Model: \"model\"\n",
      "__________________________________________________________________________________________________\n",
      "Layer (type)                    Output Shape         Param #     Connected to                     \n",
      "==================================================================================================\n",
      "input_1 (InputLayer)            [(None, None)]       0                                            \n",
      "__________________________________________________________________________________________________\n",
      "input_2 (InputLayer)            [(None, None)]       0                                            \n",
      "__________________________________________________________________________________________________\n",
      "embedding (Embedding)           (None, None, 128)    577792      input_1[0][0]                    \n",
      "__________________________________________________________________________________________________\n",
      "embedding_1 (Embedding)         (None, None, 128)    1059072     input_2[0][0]                    \n",
      "__________________________________________________________________________________________________\n",
      "masking (Masking)               (None, None, 128)    0           embedding[0][0]                  \n",
      "__________________________________________________________________________________________________\n",
      "masking_1 (Masking)             (None, None, 128)    0           embedding_1[0][0]                \n",
      "__________________________________________________________________________________________________\n",
      "lstm (LSTM)                     [(None, 128), (None, 131584      masking[0][0]                    \n",
      "__________________________________________________________________________________________________\n",
      "lstm_1 (LSTM)                   [(None, None, 128),  131584      masking_1[0][0]                  \n",
      "                                                                 lstm[0][1]                       \n",
      "                                                                 lstm[0][2]                       \n",
      "__________________________________________________________________________________________________\n",
      "dense (Dense)                   (None, None, 8274)   1067346     lstm_1[0][0]                     \n",
      "==================================================================================================\n",
      "Total params: 2,967,378\n",
      "Trainable params: 2,967,378\n",
      "Non-trainable params: 0\n",
      "__________________________________________________________________________________________________\n"
     ]
    }
   ],
   "source": [
    "model = Model([encoder_inputs, decoder_inputs], decoder_outputs)\n",
    "model.compile(optimizer=\"rmsprop\", loss=\"sparse_categorical_crossentropy\")\n",
    "\n",
    "model.summary()"
   ]
  },
  {
   "cell_type": "code",
   "execution_count": 23,
   "id": "7d794ed7",
   "metadata": {},
   "outputs": [
    {
     "name": "stdout",
     "output_type": "stream",
     "text": [
      "Epoch 1/50\n",
      "235/235 [==============================] - 15s 28ms/step - loss: 2.1589 - val_loss: 1.5467\n",
      "Epoch 2/50\n",
      "235/235 [==============================] - 5s 20ms/step - loss: 1.4414 - val_loss: 1.3558\n",
      "Epoch 3/50\n",
      "235/235 [==============================] - 5s 20ms/step - loss: 1.2667 - val_loss: 1.2170\n",
      "Epoch 4/50\n",
      "235/235 [==============================] - 5s 20ms/step - loss: 1.1493 - val_loss: 1.1317\n",
      "Epoch 5/50\n",
      "235/235 [==============================] - 5s 20ms/step - loss: 1.0696 - val_loss: 1.0736\n",
      "Epoch 6/50\n",
      "235/235 [==============================] - 5s 20ms/step - loss: 1.0091 - val_loss: 1.0227\n",
      "Epoch 7/50\n",
      "235/235 [==============================] - 5s 20ms/step - loss: 0.9572 - val_loss: 0.9867\n",
      "Epoch 8/50\n",
      "235/235 [==============================] - 5s 20ms/step - loss: 0.9106 - val_loss: 0.9562\n",
      "Epoch 9/50\n",
      "235/235 [==============================] - 5s 20ms/step - loss: 0.8701 - val_loss: 0.9241\n",
      "Epoch 10/50\n",
      "235/235 [==============================] - 5s 20ms/step - loss: 0.8335 - val_loss: 0.8891\n",
      "Epoch 11/50\n",
      "235/235 [==============================] - 5s 20ms/step - loss: 0.8016 - val_loss: 0.8727\n",
      "Epoch 12/50\n",
      "235/235 [==============================] - 5s 20ms/step - loss: 0.7723 - val_loss: 0.8551\n",
      "Epoch 13/50\n",
      "235/235 [==============================] - 5s 20ms/step - loss: 0.7460 - val_loss: 0.8369\n",
      "Epoch 14/50\n",
      "235/235 [==============================] - 5s 20ms/step - loss: 0.7214 - val_loss: 0.8174\n",
      "Epoch 15/50\n",
      "235/235 [==============================] - 5s 20ms/step - loss: 0.6988 - val_loss: 0.8099\n",
      "Epoch 16/50\n",
      "235/235 [==============================] - 5s 20ms/step - loss: 0.6778 - val_loss: 0.7970\n",
      "Epoch 17/50\n",
      "235/235 [==============================] - 5s 20ms/step - loss: 0.6565 - val_loss: 0.7823\n",
      "Epoch 18/50\n",
      "235/235 [==============================] - 5s 20ms/step - loss: 0.6371 - val_loss: 0.7725\n",
      "Epoch 19/50\n",
      "235/235 [==============================] - 5s 20ms/step - loss: 0.6182 - val_loss: 0.7601\n",
      "Epoch 20/50\n",
      "235/235 [==============================] - 5s 20ms/step - loss: 0.6013 - val_loss: 0.7544\n",
      "Epoch 21/50\n",
      "235/235 [==============================] - 5s 20ms/step - loss: 0.5860 - val_loss: 0.7457\n",
      "Epoch 22/50\n",
      "235/235 [==============================] - 5s 20ms/step - loss: 0.5710 - val_loss: 0.7394\n",
      "Epoch 23/50\n",
      "235/235 [==============================] - 5s 20ms/step - loss: 0.5576 - val_loss: 0.7356\n",
      "Epoch 24/50\n",
      "235/235 [==============================] - 5s 20ms/step - loss: 0.5450 - val_loss: 0.7286\n",
      "Epoch 25/50\n",
      "235/235 [==============================] - 5s 20ms/step - loss: 0.5323 - val_loss: 0.7236\n",
      "Epoch 26/50\n",
      "235/235 [==============================] - 5s 20ms/step - loss: 0.5199 - val_loss: 0.7203\n",
      "Epoch 27/50\n",
      "235/235 [==============================] - 5s 20ms/step - loss: 0.5085 - val_loss: 0.7165\n",
      "Epoch 28/50\n",
      "235/235 [==============================] - 5s 20ms/step - loss: 0.4968 - val_loss: 0.7177\n",
      "Epoch 29/50\n",
      "235/235 [==============================] - 5s 20ms/step - loss: 0.4856 - val_loss: 0.7098\n",
      "Epoch 30/50\n",
      "235/235 [==============================] - 5s 20ms/step - loss: 0.4743 - val_loss: 0.7050\n",
      "Epoch 31/50\n",
      "235/235 [==============================] - 5s 20ms/step - loss: 0.4645 - val_loss: 0.7020\n",
      "Epoch 32/50\n",
      "235/235 [==============================] - 5s 20ms/step - loss: 0.4558 - val_loss: 0.6978\n",
      "Epoch 33/50\n",
      "235/235 [==============================] - 5s 20ms/step - loss: 0.4479 - val_loss: 0.6979\n",
      "Epoch 34/50\n",
      "235/235 [==============================] - 5s 20ms/step - loss: 0.4403 - val_loss: 0.6973\n",
      "Epoch 35/50\n",
      "235/235 [==============================] - 5s 20ms/step - loss: 0.4324 - val_loss: 0.6950\n",
      "Epoch 36/50\n",
      "235/235 [==============================] - 5s 20ms/step - loss: 0.4252 - val_loss: 0.6941\n",
      "Epoch 37/50\n",
      "235/235 [==============================] - 5s 20ms/step - loss: 0.4178 - val_loss: 0.6927\n",
      "Epoch 38/50\n",
      "235/235 [==============================] - 5s 20ms/step - loss: 0.4107 - val_loss: 0.6933\n",
      "Epoch 39/50\n",
      "235/235 [==============================] - 5s 20ms/step - loss: 0.4039 - val_loss: 0.6899\n",
      "Epoch 40/50\n",
      "235/235 [==============================] - 5s 20ms/step - loss: 0.3971 - val_loss: 0.6882\n",
      "Epoch 41/50\n",
      "235/235 [==============================] - 5s 20ms/step - loss: 0.3908 - val_loss: 0.6885\n",
      "Epoch 42/50\n",
      "235/235 [==============================] - 5s 21ms/step - loss: 0.3847 - val_loss: 0.6841\n",
      "Epoch 43/50\n",
      "235/235 [==============================] - 5s 20ms/step - loss: 0.3788 - val_loss: 0.6859\n",
      "Epoch 44/50\n",
      "235/235 [==============================] - 5s 20ms/step - loss: 0.3734 - val_loss: 0.6849\n",
      "Epoch 45/50\n",
      "235/235 [==============================] - 5s 21ms/step - loss: 0.3686 - val_loss: 0.6820\n",
      "Epoch 46/50\n",
      "235/235 [==============================] - 5s 20ms/step - loss: 0.3642 - val_loss: 0.6847\n",
      "Epoch 47/50\n",
      "235/235 [==============================] - 5s 20ms/step - loss: 0.3601 - val_loss: 0.6845\n",
      "Epoch 48/50\n",
      "235/235 [==============================] - 5s 20ms/step - loss: 0.3564 - val_loss: 0.6864\n",
      "Epoch 00048: early stopping\n"
     ]
    }
   ],
   "source": [
    "early_stopping = EarlyStopping(monitor=\"val_loss\", mode=\"min\", verbose=1, patience=3)\n",
    "\n",
    "history = model.fit(x=[encoder_input_train, decoder_input_train], y=decoder_target_train,\n",
    "          validation_data = ([encoder_input_test, decoder_input_test], decoder_target_test),\n",
    "          batch_size=128, epochs=50, callbacks=[early_stopping])"
   ]
  },
  {
   "cell_type": "markdown",
   "id": "ea1e48ab",
   "metadata": {},
   "source": [
    "## 6. Evaluate"
   ]
  },
  {
   "cell_type": "markdown",
   "id": "ab7d1a56",
   "metadata": {},
   "source": [
    "### visualize loss"
   ]
  },
  {
   "cell_type": "code",
   "execution_count": 24,
   "id": "3fececd9",
   "metadata": {},
   "outputs": [
    {
     "data": {
      "image/png": "[encoded data removed]",
      "text/plain": [
       "<Figure size 720x576 with 1 Axes>"
      ]
     },
     "metadata": {
      "needs_background": "light"
     },
     "output_type": "display_data"
    }
   ],
   "source": [
    "fig, ax = plt.subplots(1, 1, figsize=(10, 8))\n",
    "\n",
    "ax.plot(history.history['loss'], color='b',label = 'train loss')\n",
    "ax.plot(history.history['val_loss'], color='r', label = 'valid loss')\n",
    "\n",
    "\n",
    "ax.set_xlabel('epoch')\n",
    "ax.set_ylabel('loss')\n",
    "\n",
    "ax.legend(loc='upper left')\n",
    "\n",
    "plt.show()"
   ]
  },
  {
   "cell_type": "markdown",
   "id": "d46c4048",
   "metadata": {},
   "source": [
    "### test"
   ]
  },
  {
   "cell_type": "code",
   "execution_count": 25,
   "id": "29f37a43",
   "metadata": {},
   "outputs": [
    {
     "name": "stdout",
     "output_type": "stream",
     "text": [
      "Model: \"model_1\"\n",
      "_________________________________________________________________\n",
      "Layer (type)                 Output Shape              Param #   \n",
      "=================================================================\n",
      "input_1 (InputLayer)         [(None, None)]            0         \n",
      "_________________________________________________________________\n",
      "embedding (Embedding)        (None, None, 128)         577792    \n",
      "_________________________________________________________________\n",
      "masking (Masking)            (None, None, 128)         0         \n",
      "_________________________________________________________________\n",
      "lstm (LSTM)                  [(None, 128), (None, 128) 131584    \n",
      "=================================================================\n",
      "Total params: 709,376\n",
      "Trainable params: 709,376\n",
      "Non-trainable params: 0\n",
      "_________________________________________________________________\n"
     ]
    }
   ],
   "source": [
    "# 인코더 재설계\n",
    "encoder_model = Model(inputs = encoder_inputs, outputs = encoder_states)\n",
    "encoder_model.summary()"
   ]
  },
  {
   "cell_type": "code",
   "execution_count": 26,
   "id": "24f7a398",
   "metadata": {},
   "outputs": [
    {
     "name": "stdout",
     "output_type": "stream",
     "text": [
      "Model: \"model_2\"\n",
      "__________________________________________________________________________________________________\n",
      "Layer (type)                    Output Shape         Param #     Connected to                     \n",
      "==================================================================================================\n",
      "input_2 (InputLayer)            [(None, None)]       0                                            \n",
      "__________________________________________________________________________________________________\n",
      "embedding_1 (Embedding)         (None, None, 128)    1059072     input_2[0][0]                    \n",
      "__________________________________________________________________________________________________\n",
      "input_3 (InputLayer)            [(None, 128)]        0                                            \n",
      "__________________________________________________________________________________________________\n",
      "input_4 (InputLayer)            [(None, 128)]        0                                            \n",
      "__________________________________________________________________________________________________\n",
      "lstm_1 (LSTM)                   [(None, None, 128),  131584      embedding_1[1][0]                \n",
      "                                                                 input_3[0][0]                    \n",
      "                                                                 input_4[0][0]                    \n",
      "__________________________________________________________________________________________________\n",
      "dense (Dense)                   (None, None, 8274)   1067346     lstm_1[1][0]                     \n",
      "==================================================================================================\n",
      "Total params: 2,258,002\n",
      "Trainable params: 2,258,002\n",
      "Non-trainable params: 0\n",
      "__________________________________________________________________________________________________\n"
     ]
    }
   ],
   "source": [
    "# 디코더 재설계\n",
    "# 이전 time step의 hidden state를 저장하는 텐서\n",
    "decoder_state_input_h = Input(shape=(embedding_dim,))\n",
    "# 이전 time step의 cell state를 저장하는 텐서\n",
    "decoder_state_input_c = Input(shape=(embedding_dim,))\n",
    "# 이전 time step의 hidden state와 cell state를 하나의 변수에 저장\n",
    "decoder_states_inputs = [decoder_state_input_h, decoder_state_input_c]\n",
    "\n",
    "# decoder_states_inputs를 현재 time step의 초기 상태로 사용.\n",
    "# embedding layer\n",
    "dec_emb2 = dec_emb_layer(decoder_inputs)\n",
    "# 구체적인 동작 자체는 def decode_sequence()에 구현.\n",
    "decoder_outputs2, state_h2, state_c2 = decoder_lstm(dec_emb2, initial_state = decoder_states_inputs)\n",
    "# 현재 time step의 hidden state와 cell state를 하나의 변수에 저장.\n",
    "decoder_states2 = [state_h2, state_c2]\n",
    "\n",
    "# 디코더 출력층 재설계\n",
    "decoder_outputs2 = decoder_softmax_layer(decoder_outputs2)\n",
    "decoder_model = Model(inputs=[decoder_inputs] + decoder_states_inputs, outputs=[decoder_outputs2] + decoder_states2)\n",
    "decoder_model.summary()"
   ]
  },
  {
   "cell_type": "code",
   "execution_count": 27,
   "id": "70ea1594",
   "metadata": {},
   "outputs": [],
   "source": [
    "# 사전 준비\n",
    "eng2idx = eng_tokenizer.word_index\n",
    "fra2idx = fra_tokenizer.word_index\n",
    "idx2eng = eng_tokenizer.index_word\n",
    "idx2fra = fra_tokenizer.index_word"
   ]
  },
  {
   "cell_type": "code",
   "execution_count": 31,
   "id": "5c1c2b33",
   "metadata": {},
   "outputs": [],
   "source": [
    "# 예측 과정을 위한 함수\n",
    "def decode_sequence(input_seq):\n",
    "    # 입력으로부터 인코더의 상태를 얻음\n",
    "    states_value = encoder_model.predict(input_seq)\n",
    "\n",
    "    # <SOS>에 해당하는 원-핫 벡터 생성\n",
    "    target_seq = np.zeros((1, 1))\n",
    "    target_seq[0, 0] = fra2idx['<sos>']\n",
    "\n",
    "    stop_condition = False\n",
    "    decoded_sentence = \"\"\n",
    "\n",
    "    # stop_condition이 True가 될 때까지 루프 반복\n",
    "    while not stop_condition:\n",
    "        # 이점 시점의 상태 states_value를 현 시점의 초기 상태로 사용\n",
    "        output_tokens, h, c = decoder_model.predict([target_seq] + states_value)\n",
    "\n",
    "        # 예측 결과를 문자로 변환\n",
    "        sampled_token_index = np.argmax(output_tokens[0, -1, :])\n",
    "        sampled_char = idx2fra[sampled_token_index]\n",
    "\n",
    "        # 현재 시점의 예측 문자를 예측 문장에 추가\n",
    "        decoded_sentence += \" \" + sampled_char\n",
    "\n",
    "        # <eos>에 도달하거나 최대 길이를 넘으면 중단.\n",
    "        if sampled_char == '<eos>' or len(decoded_sentence) > max_fra_seq_len * 2:\n",
    "            stop_condition = True\n",
    "\n",
    "        # 현재 시점의 예측 결과를 다음 시점의 입력으로 사용하기 위해 저장\n",
    "        target_seq = np.zeros((1, 1))\n",
    "        target_seq[0, 0] = sampled_token_index\n",
    "\n",
    "        # 현재 시점의 상태를 다음 시점의 상태로 사용하기 위해 저장\n",
    "        states_value = [h, c]\n",
    "\n",
    "    return decoded_sentence"
   ]
  },
  {
   "cell_type": "code",
   "execution_count": 32,
   "id": "30f73350",
   "metadata": {},
   "outputs": [],
   "source": [
    "def seq2eng(input_seq):\n",
    "    sent = \"\"\n",
    "    for i in input_seq:\n",
    "        if i != 0:\n",
    "            sent += idx2eng[i] + \" \"\n",
    "    return sent\n",
    "\n",
    "def seq2fra(input_seq):\n",
    "    sent = \"\"\n",
    "    for i in input_seq:\n",
    "        if i != 0 and i != fra2idx[\"<sos>\"] and i != fra2idx[\"<eos>\"]:\n",
    "            sent += idx2fra[i] + \" \"\n",
    "    return sent"
   ]
  },
  {
   "cell_type": "code",
   "execution_count": 42,
   "id": "a836d79b",
   "metadata": {},
   "outputs": [
    {
     "name": "stdout",
     "output_type": "stream",
     "text": [
      "-----------------------------------\n",
      "입력 문장: you ve got to go . \n",
      "정답 문장: tu dois t en aller . \n",
      "번역기가 번역한 문장:  il faut que tu y ailles . \n",
      "-----------------------------------\n",
      "입력 문장: it is a book . \n",
      "정답 문장: c est un livre . \n",
      "번역기가 번역한 문장:  c est un livre . \n",
      "-----------------------------------\n",
      "입력 문장: do you smoke ? \n",
      "정답 문장: est ce que vous fumez ? \n",
      "번역기가 번역한 문장:  est ce que tu vas que tu vas . \n",
      "-----------------------------------\n",
      "입력 문장: open your hand . \n",
      "정답 문장: ouvre la main ! \n",
      "번역기가 번역한 문장:  ouvrez la main ! \n",
      "-----------------------------------\n",
      "입력 문장: i have done that . \n",
      "정답 문장: j ai fait ça . \n",
      "번역기가 번역한 문장:  j ai fait cela . \n"
     ]
    }
   ],
   "source": [
    "# 테스트\n",
    "for seq_index in [5, 150, 500, 700, 1500]:\n",
    "    input_seq = encoder_input_test[seq_index: seq_index + 1]\n",
    "    decoded_sentence = decode_sequence(input_seq)\n",
    "    print(35 * \"-\")\n",
    "    print('입력 문장:', seq2eng(encoder_input_test[seq_index]))\n",
    "    print('정답 문장:', seq2fra(decoder_input_test[seq_index]))\n",
    "    print('번역기가 번역한 문장:', decoded_sentence[:-5])"
   ]
  },
  {
   "cell_type": "markdown",
   "id": "63825f92",
   "metadata": {},
   "source": [
    "#### 번역 결과\n",
    "- 구글 번역기로 번역한 결과 <br>\n",
    "\n",
    "\\[입력 문장\\]\n",
    "1. 당신은 가야합니다.\n",
    "2. 그것은 책이다.\n",
    "3. 담배를 피우십니까 ?\n",
    "4. 손을 펴라!\n",
    "5. 나는 이걸했다 .\n",
    "<br>\n",
    "\n",
    "\\[출력 문장\\]\n",
    "1. 넌 가야 해.\n",
    "2. 그것은 책이다.\n",
    "3. 가니 가니?\n",
    "4. 손을 펴라!\n",
    "5. 나는 이걸했다."
   ]
  },
  {
   "cell_type": "markdown",
   "id": "710f571d",
   "metadata": {},
   "source": [
    "## 회고"
   ]
  },
  {
   "cell_type": "markdown",
   "id": "2a4984a4",
   "metadata": {},
   "source": [
    "- 다른 프로젝트에서 썼던 전처리 함수를 그대로 사용할 경우 프랑스어의 악센트가 들어간 알파벳들이 사라진다. 따라서 유니코드를 추가하여 단어를 그대로 보존할 수 있도록 해주었다.\n",
    "- 처음에 파라미터를 바꿔봐도 `val_loss`가 2점대 이하로 안떨어지고, 결과도 이상해서 뭐지 싶었는데, `max_eng_seq_len`과 `max_fra_seq_len`을 반대로 구했다... 삽질...\n",
    "- 번역 결과 번역이 엉뚱하게 된 문장도 있지만 제대로 된 문장도 꽤 있었다. 특히 동사 형태(복수, 단수와 같은)만 다르거나 동의어를 써서 번역이 된 것도 있었다.\n",
    "- embedding을 pre-trained 모델을 사용한다면 더 성능이 향상될 것 같다고 생각한다."
   ]
  }
 ],
 "metadata": {
  "kernelspec": {
   "display_name": "Python 3 (ipykernel)",
   "language": "python",
   "name": "python3"
  },
  "language_info": {
   "codemirror_mode": {
    "name": "ipython",
    "version": 3
   },
   "file_extension": ".py",
   "mimetype": "text/x-python",
   "name": "python",
   "nbconvert_exporter": "python",
   "pygments_lexer": "ipython3",
   "version": "3.9.7"
  }
 },
 "nbformat": 4,
 "nbformat_minor": 5
}
