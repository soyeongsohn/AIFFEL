{
 "cells": [
  {
   "cell_type": "markdown",
   "id": "317e2572",
   "metadata": {},
   "source": [
    "# Project: 뉴스기사 요약해보기\n",
    "- Attention\n",
    "- Text Summarization\n",
    "- NLG"
   ]
  },
  {
   "cell_type": "code",
   "execution_count": 1,
   "id": "6228171f",
   "metadata": {},
   "outputs": [
    {
     "name": "stderr",
     "output_type": "stream",
     "text": [
      "[nltk_data] Downloading package stopwords to /aiffel/nltk_data...\n",
      "[nltk_data]   Unzipping corpora/stopwords.zip.\n"
     ]
    }
   ],
   "source": [
    "from importlib.metadata import version\n",
    "import nltk\n",
    "nltk.download(\"stopwords\")\n",
    "\n",
    "import numpy as np\n",
    "import pandas as pd\n",
    "import os\n",
    "import re\n",
    "import matplotlib.pyplot as plt\n",
    "%matplotlib inline\n",
    "\n",
    "from nltk.corpus import stopwords\n",
    "import urllib.request\n",
    "\n",
    "from tensorflow.keras.preprocessing.text import Tokenizer \n",
    "from tensorflow.keras.preprocessing.sequence import pad_sequences\n",
    "from tensorflow.keras.layers import Input, LSTM, Embedding, Dense, Concatenate, TimeDistributed, AdditiveAttention\n",
    "from tensorflow.keras.models import Model\n",
    "from tensorflow.keras.callbacks import EarlyStopping, ModelCheckpoint\n",
    "\n",
    "from summa.summarizer import summarize"
   ]
  },
  {
   "cell_type": "markdown",
   "id": "837117eb",
   "metadata": {},
   "source": [
    "## 1. 데이터 수집"
   ]
  },
  {
   "cell_type": "code",
   "execution_count": 2,
   "id": "3513ad7b",
   "metadata": {},
   "outputs": [
    {
     "data": {
      "text/html": [
       "<div>\n",
       "<style scoped>\n",
       "    .dataframe tbody tr th:only-of-type {\n",
       "        vertical-align: middle;\n",
       "    }\n",
       "\n",
       "    .dataframe tbody tr th {\n",
       "        vertical-align: top;\n",
       "    }\n",
       "\n",
       "    .dataframe thead th {\n",
       "        text-align: right;\n",
       "    }\n",
       "</style>\n",
       "<table border=\"1\" class=\"dataframe\">\n",
       "  <thead>\n",
       "    <tr style=\"text-align: right;\">\n",
       "      <th></th>\n",
       "      <th>headlines</th>\n",
       "      <th>text</th>\n",
       "    </tr>\n",
       "  </thead>\n",
       "  <tbody>\n",
       "    <tr>\n",
       "      <th>28085</th>\n",
       "      <td>Girl calls off wedding midway after lightning ...</td>\n",
       "      <td>A bride in Bihar called off her wedding midway...</td>\n",
       "    </tr>\n",
       "    <tr>\n",
       "      <th>37839</th>\n",
       "      <td>Officer poses for pic with rescued snake, almo...</td>\n",
       "      <td>A forest officer was almost choked while posin...</td>\n",
       "    </tr>\n",
       "    <tr>\n",
       "      <th>448</th>\n",
       "      <td>US roadside assistance startup gets Ã¢ÂÂ¹149c...</td>\n",
       "      <td>US-based roadside assistance startup Urgent.ly...</td>\n",
       "    </tr>\n",
       "    <tr>\n",
       "      <th>47161</th>\n",
       "      <td>Black Panther earns Ã¢ÂÂ¹2331 crore in openin...</td>\n",
       "      <td>Chadwick Boseman starrer 'Black Panther' has e...</td>\n",
       "    </tr>\n",
       "    <tr>\n",
       "      <th>51610</th>\n",
       "      <td>Pak paid crores to abduct Jadhav from Iran: Ba...</td>\n",
       "      <td>Baloch activist Mama Qadeer has alleged that P...</td>\n",
       "    </tr>\n",
       "    <tr>\n",
       "      <th>25736</th>\n",
       "      <td>105 couples tie the knot in Kashmir's biggest ...</td>\n",
       "      <td>As many as 105 couples tied the knot in Kashmi...</td>\n",
       "    </tr>\n",
       "    <tr>\n",
       "      <th>42119</th>\n",
       "      <td>5.38 lakh of 17 lakh registered firms shut sho...</td>\n",
       "      <td>Around 5.38 lakh firms or 32% of the 17 lakh f...</td>\n",
       "    </tr>\n",
       "    <tr>\n",
       "      <th>70381</th>\n",
       "      <td>Zomato trolls Apple after iPhone X launch</td>\n",
       "      <td>Restaurant discovery and food ordering startup...</td>\n",
       "    </tr>\n",
       "    <tr>\n",
       "      <th>19185</th>\n",
       "      <td>BJP leader's drunk son runs car over sleeping ...</td>\n",
       "      <td>Rajasthan BJP leader Badri Narayan Meena's son...</td>\n",
       "    </tr>\n",
       "    <tr>\n",
       "      <th>79591</th>\n",
       "      <td>Old Delhi's 150-year-old Town Hall to be redev...</td>\n",
       "      <td>The North Delhi Municipal Corporation on Thurs...</td>\n",
       "    </tr>\n",
       "  </tbody>\n",
       "</table>\n",
       "</div>"
      ],
      "text/plain": [
       "                                               headlines  \\\n",
       "28085  Girl calls off wedding midway after lightning ...   \n",
       "37839  Officer poses for pic with rescued snake, almo...   \n",
       "448    US roadside assistance startup gets Ã¢ÂÂ¹149c...   \n",
       "47161  Black Panther earns Ã¢ÂÂ¹2331 crore in openin...   \n",
       "51610  Pak paid crores to abduct Jadhav from Iran: Ba...   \n",
       "25736  105 couples tie the knot in Kashmir's biggest ...   \n",
       "42119  5.38 lakh of 17 lakh registered firms shut sho...   \n",
       "70381          Zomato trolls Apple after iPhone X launch   \n",
       "19185  BJP leader's drunk son runs car over sleeping ...   \n",
       "79591  Old Delhi's 150-year-old Town Hall to be redev...   \n",
       "\n",
       "                                                    text  \n",
       "28085  A bride in Bihar called off her wedding midway...  \n",
       "37839  A forest officer was almost choked while posin...  \n",
       "448    US-based roadside assistance startup Urgent.ly...  \n",
       "47161  Chadwick Boseman starrer 'Black Panther' has e...  \n",
       "51610  Baloch activist Mama Qadeer has alleged that P...  \n",
       "25736  As many as 105 couples tied the knot in Kashmi...  \n",
       "42119  Around 5.38 lakh firms or 32% of the 17 lakh f...  \n",
       "70381  Restaurant discovery and food ordering startup...  \n",
       "19185  Rajasthan BJP leader Badri Narayan Meena's son...  \n",
       "79591  The North Delhi Municipal Corporation on Thurs...  "
      ]
     },
     "execution_count": 2,
     "metadata": {},
     "output_type": "execute_result"
    }
   ],
   "source": [
    "urllib.request.urlretrieve(\"https://raw.githubusercontent.com/sunnysai12345/News_Summary/master/news_summary_more.csv\", filename=\"news_summary_more.csv\")\n",
    "data = pd.read_csv('news_summary_more.csv', encoding='iso-8859-1')\n",
    "data_summa = data.copy()\n",
    "data.sample(10)"
   ]
  },
  {
   "cell_type": "markdown",
   "id": "79440644",
   "metadata": {},
   "source": [
    "## 2. 데이터 전처리"
   ]
  },
  {
   "cell_type": "markdown",
   "id": "540f436f",
   "metadata": {},
   "source": [
    "### 중복 값 및 결측치 처리"
   ]
  },
  {
   "cell_type": "code",
   "execution_count": 3,
   "id": "646cdc7b",
   "metadata": {},
   "outputs": [
    {
     "name": "stdout",
     "output_type": "stream",
     "text": [
      "text 열에서 중복을 배제한 유일한 샘플의 수 : 98360\n",
      "headlines 열에서 중복을 배제한 유일한 샘플의 수 : 98280\n",
      "전체 샘플수 : 98360\n"
     ]
    }
   ],
   "source": [
    "print('text 열에서 중복을 배제한 유일한 샘플의 수 :', data['text'].nunique())\n",
    "print('headlines 열에서 중복을 배제한 유일한 샘플의 수 :', data['headlines'].nunique())\n",
    "\n",
    "data.drop_duplicates(subset = ['text'], inplace=True)\n",
    "print('전체 샘플수 :', (len(data)))"
   ]
  },
  {
   "cell_type": "code",
   "execution_count": 4,
   "id": "91f5041e",
   "metadata": {},
   "outputs": [
    {
     "name": "stdout",
     "output_type": "stream",
     "text": [
      "headlines    0\n",
      "text         0\n",
      "dtype: int64\n"
     ]
    }
   ],
   "source": [
    "# 결측치 확인\n",
    "print(data.isnull().sum())"
   ]
  },
  {
   "cell_type": "markdown",
   "id": "6e6566ab",
   "metadata": {},
   "source": [
    "결측치가 없으므로 결측치 제거는 하지 않는다"
   ]
  },
  {
   "cell_type": "markdown",
   "id": "e4dd8379",
   "metadata": {},
   "source": [
    "### 텍스트 정규화 및 불용어 제거"
   ]
  },
  {
   "cell_type": "code",
   "execution_count": 5,
   "id": "8cbd0e4f",
   "metadata": {},
   "outputs": [
    {
     "name": "stdout",
     "output_type": "stream",
     "text": [
      "정규화 사전의 수:  120\n"
     ]
    }
   ],
   "source": [
    "contractions = {\"ain't\": \"is not\", \"aren't\": \"are not\",\"can't\": \"cannot\", \"'cause\": \"because\", \"could've\": \"could have\", \"couldn't\": \"could not\",\n",
    "                           \"didn't\": \"did not\",  \"doesn't\": \"does not\", \"don't\": \"do not\", \"hadn't\": \"had not\", \"hasn't\": \"has not\", \"haven't\": \"have not\",\n",
    "                           \"he'd\": \"he would\",\"he'll\": \"he will\", \"he's\": \"he is\", \"how'd\": \"how did\", \"how'd'y\": \"how do you\", \"how'll\": \"how will\", \"how's\": \"how is\",\n",
    "                           \"I'd\": \"I would\", \"I'd've\": \"I would have\", \"I'll\": \"I will\", \"I'll've\": \"I will have\",\"I'm\": \"I am\", \"I've\": \"I have\", \"i'd\": \"i would\",\n",
    "                           \"i'd've\": \"i would have\", \"i'll\": \"i will\",  \"i'll've\": \"i will have\",\"i'm\": \"i am\", \"i've\": \"i have\", \"isn't\": \"is not\", \"it'd\": \"it would\",\n",
    "                           \"it'd've\": \"it would have\", \"it'll\": \"it will\", \"it'll've\": \"it will have\",\"it's\": \"it is\", \"let's\": \"let us\", \"ma'am\": \"madam\",\n",
    "                           \"mayn't\": \"may not\", \"might've\": \"might have\",\"mightn't\": \"might not\",\"mightn't've\": \"might not have\", \"must've\": \"must have\",\n",
    "                           \"mustn't\": \"must not\", \"mustn't've\": \"must not have\", \"needn't\": \"need not\", \"needn't've\": \"need not have\",\"o'clock\": \"of the clock\",\n",
    "                           \"oughtn't\": \"ought not\", \"oughtn't've\": \"ought not have\", \"shan't\": \"shall not\", \"sha'n't\": \"shall not\", \"shan't've\": \"shall not have\",\n",
    "                           \"she'd\": \"she would\", \"she'd've\": \"she would have\", \"she'll\": \"she will\", \"she'll've\": \"she will have\", \"she's\": \"she is\",\n",
    "                           \"should've\": \"should have\", \"shouldn't\": \"should not\", \"shouldn't've\": \"should not have\", \"so've\": \"so have\",\"so's\": \"so as\",\n",
    "                           \"this's\": \"this is\",\"that'd\": \"that would\", \"that'd've\": \"that would have\", \"that's\": \"that is\", \"there'd\": \"there would\",\n",
    "                           \"there'd've\": \"there would have\", \"there's\": \"there is\", \"here's\": \"here is\",\"they'd\": \"they would\", \"they'd've\": \"they would have\",\n",
    "                           \"they'll\": \"they will\", \"they'll've\": \"they will have\", \"they're\": \"they are\", \"they've\": \"they have\", \"to've\": \"to have\",\n",
    "                           \"wasn't\": \"was not\", \"we'd\": \"we would\", \"we'd've\": \"we would have\", \"we'll\": \"we will\", \"we'll've\": \"we will have\", \"we're\": \"we are\",\n",
    "                           \"we've\": \"we have\", \"weren't\": \"were not\", \"what'll\": \"what will\", \"what'll've\": \"what will have\", \"what're\": \"what are\",\n",
    "                           \"what's\": \"what is\", \"what've\": \"what have\", \"when's\": \"when is\", \"when've\": \"when have\", \"where'd\": \"where did\", \"where's\": \"where is\",\n",
    "                           \"where've\": \"where have\", \"who'll\": \"who will\", \"who'll've\": \"who will have\", \"who's\": \"who is\", \"who've\": \"who have\",\n",
    "                           \"why's\": \"why is\", \"why've\": \"why have\", \"will've\": \"will have\", \"won't\": \"will not\", \"won't've\": \"will not have\",\n",
    "                           \"would've\": \"would have\", \"wouldn't\": \"would not\", \"wouldn't've\": \"would not have\", \"y'all\": \"you all\",\n",
    "                           \"y'all'd\": \"you all would\",\"y'all'd've\": \"you all would have\",\"y'all're\": \"you all are\",\"y'all've\": \"you all have\",\n",
    "                           \"you'd\": \"you would\", \"you'd've\": \"you would have\", \"you'll\": \"you will\", \"you'll've\": \"you will have\",\n",
    "                           \"you're\": \"you are\", \"you've\": \"you have\"}\n",
    "\n",
    "print(\"정규화 사전의 수: \", len(contractions))"
   ]
  },
  {
   "cell_type": "code",
   "execution_count": 6,
   "id": "e3231974",
   "metadata": {},
   "outputs": [
    {
     "name": "stdout",
     "output_type": "stream",
     "text": [
      "불용어 개수 : 179\n",
      "['i', 'me', 'my', 'myself', 'we', 'our', 'ours', 'ourselves', 'you', \"you're\", \"you've\", \"you'll\", \"you'd\", 'your', 'yours', 'yourself', 'yourselves', 'he', 'him', 'his', 'himself', 'she', \"she's\", 'her', 'hers', 'herself', 'it', \"it's\", 'its', 'itself', 'they', 'them', 'their', 'theirs', 'themselves', 'what', 'which', 'who', 'whom', 'this', 'that', \"that'll\", 'these', 'those', 'am', 'is', 'are', 'was', 'were', 'be', 'been', 'being', 'have', 'has', 'had', 'having', 'do', 'does', 'did', 'doing', 'a', 'an', 'the', 'and', 'but', 'if', 'or', 'because', 'as', 'until', 'while', 'of', 'at', 'by', 'for', 'with', 'about', 'against', 'between', 'into', 'through', 'during', 'before', 'after', 'above', 'below', 'to', 'from', 'up', 'down', 'in', 'out', 'on', 'off', 'over', 'under', 'again', 'further', 'then', 'once', 'here', 'there', 'when', 'where', 'why', 'how', 'all', 'any', 'both', 'each', 'few', 'more', 'most', 'other', 'some', 'such', 'no', 'nor', 'not', 'only', 'own', 'same', 'so', 'than', 'too', 'very', 's', 't', 'can', 'will', 'just', 'don', \"don't\", 'should', \"should've\", 'now', 'd', 'll', 'm', 'o', 're', 've', 'y', 'ain', 'aren', \"aren't\", 'couldn', \"couldn't\", 'didn', \"didn't\", 'doesn', \"doesn't\", 'hadn', \"hadn't\", 'hasn', \"hasn't\", 'haven', \"haven't\", 'isn', \"isn't\", 'ma', 'mightn', \"mightn't\", 'mustn', \"mustn't\", 'needn', \"needn't\", 'shan', \"shan't\", 'shouldn', \"shouldn't\", 'wasn', \"wasn't\", 'weren', \"weren't\", 'won', \"won't\", 'wouldn', \"wouldn't\"]\n"
     ]
    }
   ],
   "source": [
    "# 불용어 제거\n",
    "print('불용어 개수 :', len(stopwords.words('english') ))\n",
    "print(stopwords.words('english'))"
   ]
  },
  {
   "cell_type": "code",
   "execution_count": 7,
   "id": "9b4c40d1",
   "metadata": {},
   "outputs": [],
   "source": [
    "# 데이터 전처리 함수\n",
    "def preprocess_sentence(sentence, remove_stopwords=True):\n",
    "    sentence = sentence.lower()\n",
    "    sentence = re.sub('(<([^>]+)>)', ' ', sentence) # html 태그 제거용\n",
    "    sentence = re.sub(r'\\([^)]*\\)', '', sentence)\n",
    "    sentence = re.sub('\"','', sentence)\n",
    "    sentence = ' '.join([contractions[t] if t in contractions else t for t in sentence.split(\" \")]) # 약어 정규화\n",
    "    sentence = re.sub(r\"'s\\b\",\"\", sentence)\n",
    "    sentence = re.sub(\"[^a-zA-Z]\", \" \", sentence)\n",
    "    sentence = re.sub(r'[\" \"]+', \" \", sentence)\n",
    "    sentence = sentence.strip()\n",
    "    \n",
    "    \n",
    "    # 불용어 제거 (Text)\n",
    "    if remove_stopwords:\n",
    "        tokens = ' '.join(word for word in sentence.split() if not word in stopwords.words('english') if len(word) > 1)\n",
    "    # 불용어 미제거 (Summary)\n",
    "    else:\n",
    "        tokens = ' '.join(word for word in sentence.split() if len(word) > 1)\n",
    "    return tokens"
   ]
  },
  {
   "cell_type": "code",
   "execution_count": 8,
   "id": "967aa8f7",
   "metadata": {},
   "outputs": [
    {
     "name": "stdout",
     "output_type": "stream",
     "text": [
      "text:  everything bought great infact ordered twice third ordered mother father\n",
      "summary: great way to start the day\n"
     ]
    }
   ],
   "source": [
    "# 확인\n",
    "temp_text = 'Everything I bought was great, infact I ordered twice and the third ordered was<br />for my mother and father.'\n",
    "temp_summary = 'Great way to start (or finish) the day!!!'\n",
    "\n",
    "print(\"text: \", preprocess_sentence(temp_text))\n",
    "print(\"summary:\", preprocess_sentence(temp_summary, False))"
   ]
  },
  {
   "cell_type": "code",
   "execution_count": 9,
   "id": "4c1cad47",
   "metadata": {},
   "outputs": [],
   "source": [
    "data[\"text\"] = data[\"text\"].apply(lambda x: preprocess_sentence(x)).values\n",
    "data[\"headlines\"] = data[\"headlines\"].apply(lambda x: preprocess_sentence(x, False)).values # 불용어 제거 X"
   ]
  },
  {
   "cell_type": "code",
   "execution_count": 10,
   "id": "e0b2f281",
   "metadata": {},
   "outputs": [],
   "source": [
    "data.replace(\"\", np.nan, inplace=True)"
   ]
  },
  {
   "cell_type": "code",
   "execution_count": 11,
   "id": "9505a46a",
   "metadata": {},
   "outputs": [
    {
     "data": {
      "text/plain": [
       "headlines    0\n",
       "text         0\n",
       "dtype: int64"
      ]
     },
     "execution_count": 11,
     "metadata": {},
     "output_type": "execute_result"
    }
   ],
   "source": [
    "data.isnull().sum()"
   ]
  },
  {
   "cell_type": "markdown",
   "id": "4ddbbb3d",
   "metadata": {},
   "source": [
    "### 샘플의 최대 길이 정하기"
   ]
  },
  {
   "cell_type": "code",
   "execution_count": 12,
   "id": "a43dfeb0",
   "metadata": {},
   "outputs": [
    {
     "name": "stdout",
     "output_type": "stream",
     "text": [
      "텍스트의 최소 길이 : 1\n",
      "텍스트의 최대 길이 : 60\n",
      "텍스트의 평균 길이 : 35.09968483123221\n",
      "헤드라인의 최소 길이 : 1\n",
      "헤드라인의 최대 길이 : 16\n",
      "헤드라인의 평균 길이 : 9.299532330215534\n"
     ]
    },
    {
     "data": {
      "image/png": "[encoded data removed]",
      "text/plain": [
       "<Figure size 432x288 with 2 Axes>"
      ]
     },
     "metadata": {
      "needs_background": "light"
     },
     "output_type": "display_data"
    },
    {
     "data": {
      "image/png": "[encoded data removed]",
      "text/plain": [
       "<Figure size 432x288 with 1 Axes>"
      ]
     },
     "metadata": {
      "needs_background": "light"
     },
     "output_type": "display_data"
    },
    {
     "data": {
      "image/png": "[encoded data removed]",
      "text/plain": [
       "<Figure size 432x288 with 1 Axes>"
      ]
     },
     "metadata": {
      "needs_background": "light"
     },
     "output_type": "display_data"
    }
   ],
   "source": [
    "# 길이 분포 출력\n",
    "text_len = [len(s.split()) for s in data['text']]\n",
    "headlines_len = [len(s.split()) for s in data['headlines']]\n",
    "\n",
    "print('텍스트의 최소 길이 : {}'.format(np.min(text_len)))\n",
    "print('텍스트의 최대 길이 : {}'.format(np.max(text_len)))\n",
    "print('텍스트의 평균 길이 : {}'.format(np.mean(text_len)))\n",
    "print('헤드라인의 최소 길이 : {}'.format(np.min(headlines_len)))\n",
    "print('헤드라인의 최대 길이 : {}'.format(np.max(headlines_len)))\n",
    "print('헤드라인의 평균 길이 : {}'.format(np.mean(headlines_len)))\n",
    "\n",
    "plt.subplot(1,2,1)\n",
    "plt.boxplot(text_len)\n",
    "plt.title('text')\n",
    "plt.subplot(1,2,2)\n",
    "plt.boxplot(headlines_len)\n",
    "plt.title('headlines')\n",
    "plt.tight_layout()\n",
    "plt.show()\n",
    "\n",
    "plt.title('text')\n",
    "plt.hist(text_len, bins = 40)\n",
    "plt.xlabel('length of samples')\n",
    "plt.ylabel('number of samples')\n",
    "plt.show()\n",
    "\n",
    "plt.title('headlines')\n",
    "plt.hist(headlines_len, bins = 40)\n",
    "plt.xlabel('length of samples')\n",
    "plt.ylabel('number of samples')\n",
    "plt.show()"
   ]
  },
  {
   "cell_type": "code",
   "execution_count": 13,
   "id": "b21a3608",
   "metadata": {},
   "outputs": [],
   "source": [
    "text_max_len = 45\n",
    "headlines_max_len = 13"
   ]
  },
  {
   "cell_type": "code",
   "execution_count": 14,
   "id": "3e720109",
   "metadata": {},
   "outputs": [],
   "source": [
    "def below_threshold_len(max_len, nested_list):\n",
    "    cnt = 0\n",
    "    for s in nested_list:\n",
    "        if(len(s.split()) <= max_len):\n",
    "            cnt = cnt + 1\n",
    "    print('전체 샘플 중 길이가 %s 이하인 샘플의 비율: %s'%(max_len, (cnt / len(nested_list))))"
   ]
  },
  {
   "cell_type": "code",
   "execution_count": 15,
   "id": "8b907729",
   "metadata": {},
   "outputs": [
    {
     "name": "stdout",
     "output_type": "stream",
     "text": [
      "전체 샘플 중 길이가 45 이하인 샘플의 비율: 0.9967771451809678\n",
      "전체 샘플 중 길이가 13 이하인 샘플의 비율: 0.9981699877999186\n"
     ]
    }
   ],
   "source": [
    "below_threshold_len(text_max_len, data['text'])\n",
    "below_threshold_len(headlines_max_len,  data['headlines'])"
   ]
  },
  {
   "cell_type": "code",
   "execution_count": 16,
   "id": "eca97ba0",
   "metadata": {},
   "outputs": [
    {
     "name": "stdout",
     "output_type": "stream",
     "text": [
      "전체 샘플수 : 97863\n"
     ]
    }
   ],
   "source": [
    "# max_len보다 길면 제외\n",
    "data = data[data['text'].apply(lambda x: len(x.split()) <= text_max_len)]\n",
    "data = data[data['headlines'].apply(lambda x: len(x.split()) <= headlines_max_len)]\n",
    "print('전체 샘플수 :', (len(data)))"
   ]
  },
  {
   "cell_type": "markdown",
   "id": "f81f313f",
   "metadata": {},
   "source": [
    "### 시작 토큰과 종료 토큰 추가"
   ]
  },
  {
   "cell_type": "code",
   "execution_count": 17,
   "id": "a39558ce",
   "metadata": {},
   "outputs": [
    {
     "data": {
      "text/html": [
       "<div>\n",
       "<style scoped>\n",
       "    .dataframe tbody tr th:only-of-type {\n",
       "        vertical-align: middle;\n",
       "    }\n",
       "\n",
       "    .dataframe tbody tr th {\n",
       "        vertical-align: top;\n",
       "    }\n",
       "\n",
       "    .dataframe thead th {\n",
       "        text-align: right;\n",
       "    }\n",
       "</style>\n",
       "<table border=\"1\" class=\"dataframe\">\n",
       "  <thead>\n",
       "    <tr style=\"text-align: right;\">\n",
       "      <th></th>\n",
       "      <th>headlines</th>\n",
       "      <th>text</th>\n",
       "      <th>decoder_input</th>\n",
       "      <th>decoder_target</th>\n",
       "    </tr>\n",
       "  </thead>\n",
       "  <tbody>\n",
       "    <tr>\n",
       "      <th>0</th>\n",
       "      <td>upgrad learner switches to career in ml al wit...</td>\n",
       "      <td>saurav kant alumnus upgrad iiit pg program mac...</td>\n",
       "      <td>sostoken upgrad learner switches to career in ...</td>\n",
       "      <td>upgrad learner switches to career in ml al wit...</td>\n",
       "    </tr>\n",
       "    <tr>\n",
       "      <th>1</th>\n",
       "      <td>delhi techie wins free food from swiggy for on...</td>\n",
       "      <td>kunal shah credit card bill payment platform c...</td>\n",
       "      <td>sostoken delhi techie wins free food from swig...</td>\n",
       "      <td>delhi techie wins free food from swiggy for on...</td>\n",
       "    </tr>\n",
       "    <tr>\n",
       "      <th>2</th>\n",
       "      <td>new zealand end rohit sharma led india match w...</td>\n",
       "      <td>new zealand defeated india wickets fourth odi ...</td>\n",
       "      <td>sostoken new zealand end rohit sharma led indi...</td>\n",
       "      <td>new zealand end rohit sharma led india match w...</td>\n",
       "    </tr>\n",
       "    <tr>\n",
       "      <th>3</th>\n",
       "      <td>aegon life iterm insurance plan helps customer...</td>\n",
       "      <td>aegon life iterm insurance plan customers enjo...</td>\n",
       "      <td>sostoken aegon life iterm insurance plan helps...</td>\n",
       "      <td>aegon life iterm insurance plan helps customer...</td>\n",
       "    </tr>\n",
       "    <tr>\n",
       "      <th>4</th>\n",
       "      <td>have known hirani for yrs what if metoo claims...</td>\n",
       "      <td>speaking sexual harassment allegations rajkuma...</td>\n",
       "      <td>sostoken have known hirani for yrs what if met...</td>\n",
       "      <td>have known hirani for yrs what if metoo claims...</td>\n",
       "    </tr>\n",
       "  </tbody>\n",
       "</table>\n",
       "</div>"
      ],
      "text/plain": [
       "                                           headlines  \\\n",
       "0  upgrad learner switches to career in ml al wit...   \n",
       "1  delhi techie wins free food from swiggy for on...   \n",
       "2  new zealand end rohit sharma led india match w...   \n",
       "3  aegon life iterm insurance plan helps customer...   \n",
       "4  have known hirani for yrs what if metoo claims...   \n",
       "\n",
       "                                                text  \\\n",
       "0  saurav kant alumnus upgrad iiit pg program mac...   \n",
       "1  kunal shah credit card bill payment platform c...   \n",
       "2  new zealand defeated india wickets fourth odi ...   \n",
       "3  aegon life iterm insurance plan customers enjo...   \n",
       "4  speaking sexual harassment allegations rajkuma...   \n",
       "\n",
       "                                       decoder_input  \\\n",
       "0  sostoken upgrad learner switches to career in ...   \n",
       "1  sostoken delhi techie wins free food from swig...   \n",
       "2  sostoken new zealand end rohit sharma led indi...   \n",
       "3  sostoken aegon life iterm insurance plan helps...   \n",
       "4  sostoken have known hirani for yrs what if met...   \n",
       "\n",
       "                                      decoder_target  \n",
       "0  upgrad learner switches to career in ml al wit...  \n",
       "1  delhi techie wins free food from swiggy for on...  \n",
       "2  new zealand end rohit sharma led india match w...  \n",
       "3  aegon life iterm insurance plan helps customer...  \n",
       "4  have known hirani for yrs what if metoo claims...  "
      ]
     },
     "execution_count": 17,
     "metadata": {},
     "output_type": "execute_result"
    }
   ],
   "source": [
    "data['decoder_input'] = data['headlines'].apply(lambda x : 'sostoken '+ x)\n",
    "data['decoder_target'] = data['headlines'].apply(lambda x : x + ' eostoken')\n",
    "data.head()"
   ]
  },
  {
   "cell_type": "code",
   "execution_count": 18,
   "id": "d220ba05",
   "metadata": {},
   "outputs": [],
   "source": [
    "encoder_input = np.array(data['text']) # 인코더의 입력\n",
    "decoder_input = np.array(data['decoder_input']) # 디코더의 입력\n",
    "decoder_target = np.array(data['decoder_target']) # 디코더의 레이블"
   ]
  },
  {
   "cell_type": "markdown",
   "id": "80e7db9a",
   "metadata": {},
   "source": [
    "### train test split"
   ]
  },
  {
   "cell_type": "code",
   "execution_count": 19,
   "id": "5c7b5877",
   "metadata": {},
   "outputs": [
    {
     "name": "stdout",
     "output_type": "stream",
     "text": [
      "[91363 73773 74979 ... 60628 27025 38691]\n",
      "테스트 데이터의 수 : 19572\n"
     ]
    }
   ],
   "source": [
    "indices = np.arange(encoder_input.shape[0])\n",
    "np.random.shuffle(indices)\n",
    "print(indices)\n",
    "\n",
    "encoder_input = encoder_input[indices]\n",
    "decoder_input = decoder_input[indices]\n",
    "decoder_target = decoder_target[indices]\n",
    "\n",
    "n_of_val = int(len(encoder_input)*0.2)\n",
    "print('테스트 데이터의 수 :', n_of_val)"
   ]
  },
  {
   "cell_type": "code",
   "execution_count": 20,
   "id": "b4dddc01",
   "metadata": {},
   "outputs": [
    {
     "name": "stdout",
     "output_type": "stream",
     "text": [
      "훈련 데이터의 개수 : 78291\n",
      "훈련 레이블의 개수 : 78291\n",
      "테스트 데이터의 개수 : 19572\n",
      "테스트 레이블의 개수 : 19572\n"
     ]
    }
   ],
   "source": [
    "encoder_input_train = encoder_input[:-n_of_val]\n",
    "decoder_input_train = decoder_input[:-n_of_val]\n",
    "decoder_target_train = decoder_target[:-n_of_val]\n",
    "\n",
    "encoder_input_test = encoder_input[-n_of_val:]\n",
    "decoder_input_test = decoder_input[-n_of_val:]\n",
    "decoder_target_test = decoder_target[-n_of_val:]\n",
    "\n",
    "print('훈련 데이터의 개수 :', len(encoder_input_train))\n",
    "print('훈련 레이블의 개수 :', len(decoder_input_train))\n",
    "print('테스트 데이터의 개수 :', len(encoder_input_test))\n",
    "print('테스트 레이블의 개수 :', len(decoder_input_test))"
   ]
  },
  {
   "cell_type": "markdown",
   "id": "7684fa8b",
   "metadata": {},
   "source": [
    "### 단어 집합 만들기 및 정수 인코딩"
   ]
  },
  {
   "cell_type": "code",
   "execution_count": 21,
   "id": "4d535fb1",
   "metadata": {},
   "outputs": [
    {
     "name": "stdout",
     "output_type": "stream",
     "text": [
      "단어 집합(vocabulary)의 크기 : 69374\n",
      "등장 빈도가 6번 이하인 희귀 단어의 수: 47357\n",
      "단어 집합에서 희귀 단어를 제외시킬 경우의 단어 집합의 크기 22017\n",
      "단어 집합에서 희귀 단어의 비율: 68.2633263182172\n",
      "전체 등장 빈도에서 희귀 단어 등장 빈도 비율: 3.5153774314757644\n"
     ]
    }
   ],
   "source": [
    "src_tokenizer = Tokenizer() # 토크나이저 정의\n",
    "src_tokenizer.fit_on_texts(encoder_input_train) # 입력된 데이터로부터 단어 집합 생성\n",
    "\n",
    "threshold = 7\n",
    "total_cnt = len(src_tokenizer.word_index) # 단어의 수\n",
    "rare_cnt = 0 # 등장 빈도수가 threshold보다 작은 단어의 개수를 카운트\n",
    "total_freq = 0 # 훈련 데이터의 전체 단어 빈도수 총 합\n",
    "rare_freq = 0 # 등장 빈도수가 threshold보다 작은 단어의 등장 빈도수의 총 합\n",
    "\n",
    "# 단어와 빈도수의 쌍(pair)을 key와 value로 받는다.\n",
    "for key, value in src_tokenizer.word_counts.items():\n",
    "    total_freq = total_freq + value\n",
    "\n",
    "    # 단어의 등장 빈도수가 threshold보다 작으면\n",
    "    if(value < threshold):\n",
    "        rare_cnt = rare_cnt + 1\n",
    "        rare_freq = rare_freq + value\n",
    "\n",
    "print('단어 집합(vocabulary)의 크기 :', total_cnt)\n",
    "print('등장 빈도가 %s번 이하인 희귀 단어의 수: %s'%(threshold - 1, rare_cnt))\n",
    "print('단어 집합에서 희귀 단어를 제외시킬 경우의 단어 집합의 크기 %s'%(total_cnt - rare_cnt))\n",
    "print(\"단어 집합에서 희귀 단어의 비율:\", (rare_cnt / total_cnt)*100)\n",
    "print(\"전체 등장 빈도에서 희귀 단어 등장 빈도 비율:\", (rare_freq / total_freq)*100)"
   ]
  },
  {
   "cell_type": "code",
   "execution_count": 22,
   "id": "cae2dc87",
   "metadata": {},
   "outputs": [
    {
     "name": "stdout",
     "output_type": "stream",
     "text": [
      "[[151, 52, 3971, 2863, 1665, 179, 15, 1895, 366, 881, 208, 163, 222, 52, 22018, 15280, 151, 3971, 2382, 7650, 3431, 3038, 274, 482, 3266, 1895, 366, 15, 6, 321, 5577, 13325, 3732, 20551, 16603, 2173, 190, 212, 1167], [13751, 3, 13, 5156, 1924, 894, 1227, 6322, 270, 9617, 2485, 15906, 19, 199, 1835, 86, 33, 10201, 20552, 6668, 2383, 220, 1924, 894, 3754, 40, 6322, 270, 1835, 353, 270, 30, 9978, 30, 20553, 1924, 894], [517, 17392, 1137, 20554, 2286, 322, 43, 427, 87, 1182, 25, 27, 171, 42, 2, 1221, 42, 1987, 54, 144, 3322, 43, 506, 2079, 1221, 42, 427, 12508, 119, 42, 7750, 13326, 799, 964, 4320, 5115]]\n"
     ]
    }
   ],
   "source": [
    "src_vocab = 22100\n",
    "src_tokenizer = Tokenizer(num_words=src_vocab)\n",
    "src_tokenizer.fit_on_texts(encoder_input_train)\n",
    "\n",
    "# 텍스트 시퀀스를 정수 시퀀스로 변환\n",
    "encoder_input_train = src_tokenizer.texts_to_sequences(encoder_input_train) \n",
    "encoder_input_test = src_tokenizer.texts_to_sequences(encoder_input_test)\n",
    "\n",
    "# 잘 진행되었는지 샘플 출력\n",
    "print(encoder_input_train[:3])"
   ]
  },
  {
   "cell_type": "code",
   "execution_count": 23,
   "id": "a4f2f301",
   "metadata": {},
   "outputs": [
    {
     "name": "stdout",
     "output_type": "stream",
     "text": [
      "단어 집합(vocabulary)의 크기 : 30073\n",
      "등장 빈도가 5번 이하인 희귀 단어의 수: 19747\n",
      "단어 집합에서 희귀 단어를 제외시킬 경우의 단어 집합의 크기 10326\n",
      "단어 집합에서 희귀 단어의 비율: 65.6635520234097\n",
      "전체 등장 빈도에서 희귀 단어 등장 빈도 비율: 4.702659357901113\n"
     ]
    }
   ],
   "source": [
    "tar_tokenizer = Tokenizer()\n",
    "tar_tokenizer.fit_on_texts(decoder_input_train)\n",
    "\n",
    "threshold = 6\n",
    "total_cnt = len(tar_tokenizer.word_index) # 단어의 수\n",
    "rare_cnt = 0 # 등장 빈도수가 threshold보다 작은 단어의 개수를 카운트\n",
    "total_freq = 0 # 훈련 데이터의 전체 단어 빈도수 총 합\n",
    "rare_freq = 0 # 등장 빈도수가 threshold보다 작은 단어의 등장 빈도수의 총 합\n",
    "\n",
    "# 단어와 빈도수의 쌍(pair)을 key와 value로 받는다.\n",
    "for key, value in tar_tokenizer.word_counts.items():\n",
    "    total_freq = total_freq + value\n",
    "\n",
    "    # 단어의 등장 빈도수가 threshold보다 작으면\n",
    "    if(value < threshold):\n",
    "        rare_cnt = rare_cnt + 1\n",
    "        rare_freq = rare_freq + value\n",
    "\n",
    "print('단어 집합(vocabulary)의 크기 :', total_cnt)\n",
    "print('등장 빈도가 %s번 이하인 희귀 단어의 수: %s'%(threshold - 1, rare_cnt))\n",
    "print('단어 집합에서 희귀 단어를 제외시킬 경우의 단어 집합의 크기 %s'%(total_cnt - rare_cnt))\n",
    "print(\"단어 집합에서 희귀 단어의 비율:\", (rare_cnt / total_cnt)*100)\n",
    "print(\"전체 등장 빈도에서 희귀 단어 등장 빈도 비율:\", (rare_freq / total_freq)*100)"
   ]
  },
  {
   "cell_type": "code",
   "execution_count": 24,
   "id": "20253ec7",
   "metadata": {},
   "outputs": [
    {
     "name": "stdout",
     "output_type": "stream",
     "text": [
      "input\n",
      "input  [[1, 164, 247, 2467, 2616, 7, 18, 378, 6, 43, 1459, 57], [1, 62, 27, 165, 2523, 5, 8, 12, 2896, 28, 224], [1, 220, 251, 55, 1477, 51, 7, 2834, 51, 161, 8], [1, 695, 189, 1110, 300, 515, 7172, 12, 5400, 1874], [1, 675, 6, 15, 52, 3, 648, 204, 252, 3785, 7599]]\n",
      "target\n",
      "decoder  [[164, 247, 2467, 2616, 7, 18, 378, 6, 43, 1459, 57, 2], [62, 27, 165, 2523, 5, 8, 12, 2896, 28, 224, 2], [220, 251, 55, 1477, 51, 7, 2834, 51, 161, 8, 2], [695, 189, 1110, 300, 515, 7172, 12, 5400, 1874, 2], [675, 6, 15, 52, 3, 648, 204, 252, 3785, 7599, 2]]\n"
     ]
    }
   ],
   "source": [
    "tar_vocab = 10400\n",
    "tar_tokenizer = Tokenizer(num_words=tar_vocab) \n",
    "tar_tokenizer.fit_on_texts(decoder_input_train)\n",
    "tar_tokenizer.fit_on_texts(decoder_target_train)\n",
    "\n",
    "# 텍스트 시퀀스를 정수 시퀀스로 변환\n",
    "decoder_input_train = tar_tokenizer.texts_to_sequences(decoder_input_train) \n",
    "decoder_target_train = tar_tokenizer.texts_to_sequences(decoder_target_train)\n",
    "decoder_input_test = tar_tokenizer.texts_to_sequences(decoder_input_test)\n",
    "decoder_target_test = tar_tokenizer.texts_to_sequences(decoder_target_test)\n",
    "\n",
    "# 잘 변환되었는지 확인\n",
    "print('input')\n",
    "print('input ',decoder_input_train[:5])\n",
    "print('target')\n",
    "print('decoder ',decoder_target_train[:5])"
   ]
  },
  {
   "cell_type": "code",
   "execution_count": 25,
   "id": "f4a66496",
   "metadata": {},
   "outputs": [
    {
     "name": "stdout",
     "output_type": "stream",
     "text": [
      "삭제할 훈련 데이터의 개수 : 0\n",
      "삭제할 테스트 데이터의 개수 : 0\n",
      "훈련 데이터의 개수 : 78291\n",
      "훈련 레이블의 개수 : 78291\n",
      "테스트 데이터의 개수 : 19572\n",
      "테스트 레이블의 개수 : 19572\n"
     ]
    }
   ],
   "source": [
    "drop_train = [index for index, sentence in enumerate(decoder_input_train) if len(sentence) == 1]\n",
    "drop_test = [index for index, sentence in enumerate(decoder_input_test) if len(sentence) == 1]\n",
    "\n",
    "print('삭제할 훈련 데이터의 개수 :', len(drop_train))\n",
    "print('삭제할 테스트 데이터의 개수 :', len(drop_test))\n",
    "\n",
    "encoder_input_train = [sentence for index, sentence in enumerate(encoder_input_train) if index not in drop_train]\n",
    "decoder_input_train = [sentence for index, sentence in enumerate(decoder_input_train) if index not in drop_train]\n",
    "decoder_target_train = [sentence for index, sentence in enumerate(decoder_target_train) if index not in drop_train]\n",
    "\n",
    "encoder_input_test = [sentence for index, sentence in enumerate(encoder_input_test) if index not in drop_test]\n",
    "decoder_input_test = [sentence for index, sentence in enumerate(decoder_input_test) if index not in drop_test]\n",
    "decoder_target_test = [sentence for index, sentence in enumerate(decoder_target_test) if index not in drop_test]\n",
    "\n",
    "print('훈련 데이터의 개수 :', len(encoder_input_train))\n",
    "print('훈련 레이블의 개수 :', len(decoder_input_train))\n",
    "print('테스트 데이터의 개수 :', len(encoder_input_test))\n",
    "print('테스트 레이블의 개수 :', len(decoder_input_test))"
   ]
  },
  {
   "cell_type": "markdown",
   "id": "4044d613",
   "metadata": {},
   "source": [
    "### padding 추가"
   ]
  },
  {
   "cell_type": "code",
   "execution_count": 26,
   "id": "cf2986f6",
   "metadata": {},
   "outputs": [],
   "source": [
    "encoder_input_train = pad_sequences(encoder_input_train, maxlen=text_max_len, padding='post')\n",
    "encoder_input_test = pad_sequences(encoder_input_test, maxlen=text_max_len, padding='post')\n",
    "decoder_input_train = pad_sequences(decoder_input_train, maxlen=headlines_max_len, padding='post')\n",
    "decoder_target_train = pad_sequences(decoder_target_train, maxlen=headlines_max_len, padding='post')\n",
    "decoder_input_test = pad_sequences(decoder_input_test, maxlen=headlines_max_len, padding='post')\n",
    "decoder_target_test = pad_sequences(decoder_target_test, maxlen=headlines_max_len, padding='post')"
   ]
  },
  {
   "cell_type": "markdown",
   "id": "561801c1",
   "metadata": {},
   "source": [
    "## 3. 모델 설계"
   ]
  },
  {
   "cell_type": "markdown",
   "id": "b35bd33e",
   "metadata": {},
   "source": [
    "### encoder"
   ]
  },
  {
   "cell_type": "code",
   "execution_count": 27,
   "id": "c08f7b2f",
   "metadata": {},
   "outputs": [],
   "source": [
    "embedding_dim = 128\n",
    "hidden_size = 256\n",
    "\n",
    "encoder_inputs = Input(shape=(text_max_len,))\n",
    "\n",
    "enc_emb = Embedding(src_vocab, embedding_dim)(encoder_inputs)\n",
    "\n",
    "# encoder_lstm1 = LSTM(hidden_size, return_sequences=True, return_state=True ,dropout = 0.4, recurrent_dropout = 0.4)\n",
    "encoder_lstm1 = LSTM(hidden_size, return_sequences=True, return_state=True ,dropout = 0.4)\n",
    "encoder_output1, state_h1, state_c1 = encoder_lstm1(enc_emb)\n",
    "\n",
    "# encoder_lstm2 = LSTM(hidden_size, return_sequences=True, return_state=True, dropout=0.4, recurrent_dropout=0.4)\n",
    "encoder_lstm2 = LSTM(hidden_size, return_sequences=True, return_state=True, dropout=0.4)\n",
    "encoder_output2, state_h2, state_c2 = encoder_lstm2(encoder_output1)\n",
    "\n",
    "# encoder_lstm3 = LSTM(hidden_size, return_state=True, return_sequences=True, dropout=0.4, recurrent_dropout=0.4)\n",
    "encoder_lstm3 = LSTM(hidden_size, return_state=True, return_sequences=True, dropout=0.4)\n",
    "encoder_outputs, state_h, state_c= encoder_lstm3(encoder_output2)"
   ]
  },
  {
   "cell_type": "markdown",
   "id": "e2e4191a",
   "metadata": {},
   "source": [
    "### decoder"
   ]
  },
  {
   "cell_type": "code",
   "execution_count": 28,
   "id": "7e93866a",
   "metadata": {},
   "outputs": [],
   "source": [
    "decoder_inputs = Input(shape=(None,))\n",
    "\n",
    "# 디코더의 임베딩 층\n",
    "dec_emb_layer = Embedding(tar_vocab, embedding_dim)\n",
    "dec_emb = dec_emb_layer(decoder_inputs)\n",
    "\n",
    "# 디코더의 LSTM\n",
    "# decoder_lstm = LSTM(hidden_size, return_sequences=True, return_state=True, dropout=0.4, recurrent_dropout=0.2)\n",
    "decoder_lstm = LSTM(hidden_size, return_sequences=True, return_state=True, dropout=0.4)\n",
    "decoder_outputs, _, _ = decoder_lstm(dec_emb, initial_state=[state_h, state_c])\n",
    "\n",
    "# 디코더의 출력층\n",
    "decoder_softmax_layer = Dense(tar_vocab, activation='softmax')\n",
    "decoder_softmax_outputs = decoder_softmax_layer(decoder_outputs) "
   ]
  },
  {
   "cell_type": "markdown",
   "id": "7426fced",
   "metadata": {},
   "source": [
    "### 모델 정의"
   ]
  },
  {
   "cell_type": "code",
   "execution_count": 29,
   "id": "419d049a",
   "metadata": {},
   "outputs": [
    {
     "name": "stdout",
     "output_type": "stream",
     "text": [
      "Model: \"model\"\n",
      "__________________________________________________________________________________________________\n",
      "Layer (type)                    Output Shape         Param #     Connected to                     \n",
      "==================================================================================================\n",
      "input_1 (InputLayer)            [(None, 45)]         0                                            \n",
      "__________________________________________________________________________________________________\n",
      "embedding (Embedding)           (None, 45, 128)      2828800     input_1[0][0]                    \n",
      "__________________________________________________________________________________________________\n",
      "lstm (LSTM)                     [(None, 45, 256), (N 394240      embedding[0][0]                  \n",
      "__________________________________________________________________________________________________\n",
      "input_2 (InputLayer)            [(None, None)]       0                                            \n",
      "__________________________________________________________________________________________________\n",
      "lstm_1 (LSTM)                   [(None, 45, 256), (N 525312      lstm[0][0]                       \n",
      "__________________________________________________________________________________________________\n",
      "embedding_1 (Embedding)         (None, None, 128)    1331200     input_2[0][0]                    \n",
      "__________________________________________________________________________________________________\n",
      "lstm_2 (LSTM)                   [(None, 45, 256), (N 525312      lstm_1[0][0]                     \n",
      "__________________________________________________________________________________________________\n",
      "lstm_3 (LSTM)                   [(None, None, 256),  394240      embedding_1[0][0]                \n",
      "                                                                 lstm_2[0][1]                     \n",
      "                                                                 lstm_2[0][2]                     \n",
      "__________________________________________________________________________________________________\n",
      "dense (Dense)                   (None, None, 10400)  2672800     lstm_3[0][0]                     \n",
      "==================================================================================================\n",
      "Total params: 8,671,904\n",
      "Trainable params: 8,671,904\n",
      "Non-trainable params: 0\n",
      "__________________________________________________________________________________________________\n"
     ]
    }
   ],
   "source": [
    "# 모델 정의\n",
    "model = Model([encoder_inputs, decoder_inputs], decoder_softmax_outputs)\n",
    "model.summary()"
   ]
  },
  {
   "cell_type": "markdown",
   "id": "ea1bc840",
   "metadata": {},
   "source": [
    "### 어텐션 매커니즘"
   ]
  },
  {
   "cell_type": "code",
   "execution_count": 30,
   "id": "624c2ba0",
   "metadata": {},
   "outputs": [
    {
     "name": "stdout",
     "output_type": "stream",
     "text": [
      "Model: \"model_1\"\n",
      "__________________________________________________________________________________________________\n",
      "Layer (type)                    Output Shape         Param #     Connected to                     \n",
      "==================================================================================================\n",
      "input_1 (InputLayer)            [(None, 45)]         0                                            \n",
      "__________________________________________________________________________________________________\n",
      "embedding (Embedding)           (None, 45, 128)      2828800     input_1[0][0]                    \n",
      "__________________________________________________________________________________________________\n",
      "lstm (LSTM)                     [(None, 45, 256), (N 394240      embedding[0][0]                  \n",
      "__________________________________________________________________________________________________\n",
      "input_2 (InputLayer)            [(None, None)]       0                                            \n",
      "__________________________________________________________________________________________________\n",
      "lstm_1 (LSTM)                   [(None, 45, 256), (N 525312      lstm[0][0]                       \n",
      "__________________________________________________________________________________________________\n",
      "embedding_1 (Embedding)         (None, None, 128)    1331200     input_2[0][0]                    \n",
      "__________________________________________________________________________________________________\n",
      "lstm_2 (LSTM)                   [(None, 45, 256), (N 525312      lstm_1[0][0]                     \n",
      "__________________________________________________________________________________________________\n",
      "lstm_3 (LSTM)                   [(None, None, 256),  394240      embedding_1[0][0]                \n",
      "                                                                 lstm_2[0][1]                     \n",
      "                                                                 lstm_2[0][2]                     \n",
      "__________________________________________________________________________________________________\n",
      "attention_layer (AdditiveAttent (None, None, 256)    256         lstm_3[0][0]                     \n",
      "                                                                 lstm_2[0][0]                     \n",
      "__________________________________________________________________________________________________\n",
      "concat_layer (Concatenate)      (None, None, 512)    0           lstm_3[0][0]                     \n",
      "                                                                 attention_layer[0][0]            \n",
      "__________________________________________________________________________________________________\n",
      "dense_1 (Dense)                 (None, None, 10400)  5335200     concat_layer[0][0]               \n",
      "==================================================================================================\n",
      "Total params: 11,334,560\n",
      "Trainable params: 11,334,560\n",
      "Non-trainable params: 0\n",
      "__________________________________________________________________________________________________\n"
     ]
    }
   ],
   "source": [
    "# 어텐션 층(어텐션 함수)\n",
    "attn_layer = AdditiveAttention(name='attention_layer')\n",
    "\n",
    "# 인코더와 디코더의 모든 time step의 hidden state를 어텐션 층에 전달하고 결과를 리턴\n",
    "attn_out = attn_layer([decoder_outputs, encoder_outputs])\n",
    "\n",
    "\n",
    "# 어텐션의 결과와 디코더의 hidden state들을 연결\n",
    "decoder_concat_input = Concatenate(axis=-1, name='concat_layer')([decoder_outputs, attn_out])\n",
    "\n",
    "# 디코더의 출력층\n",
    "decoder_softmax_layer = Dense(tar_vocab, activation='softmax')\n",
    "decoder_softmax_outputs = decoder_softmax_layer(decoder_concat_input)\n",
    "\n",
    "# 모델 정의\n",
    "model = Model([encoder_inputs, decoder_inputs], decoder_softmax_outputs)\n",
    "model.summary()"
   ]
  },
  {
   "cell_type": "markdown",
   "id": "7d6b9562",
   "metadata": {},
   "source": [
    "### train"
   ]
  },
  {
   "cell_type": "code",
   "execution_count": 31,
   "id": "c5720e21",
   "metadata": {},
   "outputs": [
    {
     "name": "stdout",
     "output_type": "stream",
     "text": [
      "Epoch 1/50\n",
      "306/306 [==============================] - 62s 104ms/step - loss: 5.2659 - val_loss: 4.8767\n",
      "Epoch 2/50\n",
      "306/306 [==============================] - 31s 103ms/step - loss: 4.6939 - val_loss: 4.4915\n",
      "Epoch 3/50\n",
      "306/306 [==============================] - 32s 106ms/step - loss: 4.3691 - val_loss: 4.2428\n",
      "Epoch 4/50\n",
      "306/306 [==============================] - 34s 110ms/step - loss: 4.1314 - val_loss: 4.0591\n",
      "Epoch 5/50\n",
      "306/306 [==============================] - 34s 111ms/step - loss: 3.9414 - val_loss: 3.9330\n",
      "Epoch 6/50\n",
      "306/306 [==============================] - 34s 110ms/step - loss: 3.7840 - val_loss: 3.8323\n",
      "Epoch 7/50\n",
      "306/306 [==============================] - 34s 111ms/step - loss: 3.6488 - val_loss: 3.7533\n",
      "Epoch 8/50\n",
      "306/306 [==============================] - 34s 111ms/step - loss: 3.5308 - val_loss: 3.6905\n",
      "Epoch 9/50\n",
      "306/306 [==============================] - 34s 111ms/step - loss: 3.4292 - val_loss: 3.6388\n",
      "Epoch 10/50\n",
      "306/306 [==============================] - 34s 111ms/step - loss: 3.3376 - val_loss: 3.5940\n",
      "Epoch 11/50\n",
      "306/306 [==============================] - 34s 111ms/step - loss: 3.2545 - val_loss: 3.5635\n",
      "Epoch 12/50\n",
      "306/306 [==============================] - 34s 111ms/step - loss: 3.1787 - val_loss: 3.5358\n",
      "Epoch 13/50\n",
      "306/306 [==============================] - 34s 111ms/step - loss: 3.1099 - val_loss: 3.5109\n",
      "Epoch 14/50\n",
      "306/306 [==============================] - 34s 111ms/step - loss: 3.0456 - val_loss: 3.4873\n",
      "Epoch 15/50\n",
      "306/306 [==============================] - 34s 111ms/step - loss: 2.9853 - val_loss: 3.4712\n",
      "Epoch 16/50\n",
      "306/306 [==============================] - 34s 111ms/step - loss: 2.9303 - val_loss: 3.4623\n",
      "Epoch 17/50\n",
      "306/306 [==============================] - 34s 111ms/step - loss: 2.8824 - val_loss: 3.4443\n",
      "Epoch 18/50\n",
      "306/306 [==============================] - 34s 111ms/step - loss: 2.8342 - val_loss: 3.4387\n",
      "Epoch 19/50\n",
      "306/306 [==============================] - 34s 111ms/step - loss: 2.7887 - val_loss: 3.4278\n",
      "Epoch 20/50\n",
      "306/306 [==============================] - 34s 111ms/step - loss: 2.7475 - val_loss: 3.4232\n",
      "Epoch 21/50\n",
      "306/306 [==============================] - 34s 111ms/step - loss: 2.7085 - val_loss: 3.4165\n",
      "Epoch 22/50\n",
      "306/306 [==============================] - 34s 111ms/step - loss: 2.6731 - val_loss: 3.4160\n",
      "Epoch 23/50\n",
      "306/306 [==============================] - 34s 111ms/step - loss: 2.6384 - val_loss: 3.4116\n",
      "Epoch 24/50\n",
      "306/306 [==============================] - 34s 111ms/step - loss: 2.6027 - val_loss: 3.4138\n",
      "Epoch 25/50\n",
      "306/306 [==============================] - 34s 111ms/step - loss: 2.5675 - val_loss: 3.4047\n",
      "Epoch 26/50\n",
      "306/306 [==============================] - 34s 111ms/step - loss: 2.5359 - val_loss: 3.4106\n",
      "Epoch 27/50\n",
      "306/306 [==============================] - 34s 111ms/step - loss: 2.5069 - val_loss: 3.4096\n",
      "Epoch 00027: early stopping\n"
     ]
    }
   ],
   "source": [
    "model.compile(optimizer='rmsprop', loss='sparse_categorical_crossentropy')\n",
    "es = EarlyStopping(monitor='val_loss', mode=\"min\", patience=2, verbose=1)\n",
    "history = model.fit(x=[encoder_input_train, decoder_input_train], y=decoder_target_train, \\\n",
    "          validation_data=([encoder_input_test, decoder_input_test], decoder_target_test), \\\n",
    "          batch_size=256, callbacks=[es], epochs=50)"
   ]
  },
  {
   "cell_type": "code",
   "execution_count": 31,
   "id": "cacc0022",
   "metadata": {
    "scrolled": false
   },
   "outputs": [
    {
     "name": "stdout",
     "output_type": "stream",
     "text": [
      "Epoch 1/50\n",
      "306/306 [==============================] - 225s 705ms/step - loss: 5.2720 - val_loss: 4.8256\n",
      "Epoch 2/50\n",
      "306/306 [==============================] - 214s 701ms/step - loss: 4.6958 - val_loss: 4.4674\n",
      "Epoch 3/50\n",
      "306/306 [==============================] - 214s 699ms/step - loss: 4.3906 - val_loss: 4.2379\n",
      "Epoch 4/50\n",
      "306/306 [==============================] - 215s 704ms/step - loss: 4.1515 - val_loss: 4.0576\n",
      "Epoch 5/50\n",
      "306/306 [==============================] - 213s 696ms/step - loss: 3.9585 - val_loss: 3.9303\n",
      "Epoch 6/50\n",
      "306/306 [==============================] - 215s 704ms/step - loss: 3.8004 - val_loss: 3.8178\n",
      "Epoch 7/50\n",
      "306/306 [==============================] - 215s 704ms/step - loss: 3.6662 - val_loss: 3.7402\n",
      "Epoch 8/50\n",
      "306/306 [==============================] - 215s 703ms/step - loss: 3.5536 - val_loss: 3.6735\n",
      "Epoch 9/50\n",
      "306/306 [==============================] - 214s 698ms/step - loss: 3.4508 - val_loss: 3.6186\n",
      "Epoch 10/50\n",
      "306/306 [==============================] - 213s 696ms/step - loss: 3.3601 - val_loss: 3.5732\n",
      "Epoch 11/50\n",
      "306/306 [==============================] - 213s 696ms/step - loss: 3.2795 - val_loss: 3.5393\n",
      "Epoch 12/50\n",
      "306/306 [==============================] - 212s 692ms/step - loss: 3.2076 - val_loss: 3.5026\n",
      "Epoch 13/50\n",
      "306/306 [==============================] - 211s 690ms/step - loss: 3.1438 - val_loss: 3.4750\n",
      "Epoch 14/50\n",
      "306/306 [==============================] - 211s 691ms/step - loss: 3.0839 - val_loss: 3.4549\n",
      "Epoch 15/50\n",
      "306/306 [==============================] - 212s 693ms/step - loss: 3.0293 - val_loss: 3.4342\n",
      "Epoch 16/50\n",
      "306/306 [==============================] - 212s 692ms/step - loss: 2.9783 - val_loss: 3.4171\n",
      "Epoch 17/50\n",
      "306/306 [==============================] - 212s 692ms/step - loss: 2.9287 - val_loss: 3.4061\n",
      "Epoch 18/50\n",
      "306/306 [==============================] - 211s 690ms/step - loss: 2.8830 - val_loss: 3.3914\n",
      "Epoch 19/50\n",
      "306/306 [==============================] - 211s 691ms/step - loss: 2.8386 - val_loss: 3.3835\n",
      "Epoch 20/50\n",
      "306/306 [==============================] - 211s 690ms/step - loss: 2.7977 - val_loss: 3.3763\n",
      "Epoch 21/50\n",
      "306/306 [==============================] - 212s 691ms/step - loss: 2.7601 - val_loss: 3.3647\n",
      "Epoch 22/50\n",
      "306/306 [==============================] - 211s 690ms/step - loss: 2.7257 - val_loss: 3.3604\n",
      "Epoch 23/50\n",
      "306/306 [==============================] - 211s 690ms/step - loss: 2.6924 - val_loss: 3.3507\n",
      "Epoch 24/50\n",
      "306/306 [==============================] - 210s 686ms/step - loss: 2.6596 - val_loss: 3.3549\n",
      "Epoch 25/50\n",
      "306/306 [==============================] - 210s 688ms/step - loss: 2.6320 - val_loss: 3.3440\n",
      "Epoch 26/50\n",
      "306/306 [==============================] - 211s 690ms/step - loss: 2.6015 - val_loss: 3.3437\n",
      "Epoch 27/50\n",
      "306/306 [==============================] - 211s 689ms/step - loss: 2.5705 - val_loss: 3.3407\n",
      "Epoch 28/50\n",
      "306/306 [==============================] - 209s 682ms/step - loss: 2.5412 - val_loss: 3.3416\n",
      "Epoch 29/50\n",
      "306/306 [==============================] - 209s 683ms/step - loss: 2.5154 - val_loss: 3.3369\n",
      "Epoch 30/50\n",
      "306/306 [==============================] - 211s 688ms/step - loss: 2.4916 - val_loss: 3.3384\n",
      "Epoch 31/50\n",
      "306/306 [==============================] - 210s 685ms/step - loss: 2.4694 - val_loss: 3.3423\n",
      "Epoch 00031: early stopping\n"
     ]
    }
   ],
   "source": [
    "# recurrent dropout\n",
    "model.compile(optimizer='rmsprop', loss='sparse_categorical_crossentropy')\n",
    "es = EarlyStopping(monitor='val_loss', mode=\"min\", patience=2, verbose=1)\n",
    "history = model.fit(x=[encoder_input_train, decoder_input_train], y=decoder_target_train, \\\n",
    "          validation_data=([encoder_input_test, decoder_input_test], decoder_target_test), \\\n",
    "          batch_size=256, callbacks=[es], epochs=50)"
   ]
  },
  {
   "cell_type": "code",
   "execution_count": 32,
   "id": "a4854674",
   "metadata": {},
   "outputs": [
    {
     "data": {
      "image/png": "[encoded data removed]",
      "text/plain": [
       "<Figure size 432x288 with 1 Axes>"
      ]
     },
     "metadata": {
      "needs_background": "light"
     },
     "output_type": "display_data"
    }
   ],
   "source": [
    "plt.plot(history.history['loss'], label='train')\n",
    "plt.plot(history.history['val_loss'], label='test')\n",
    "plt.legend()\n",
    "plt.show()"
   ]
  },
  {
   "cell_type": "code",
   "execution_count": 32,
   "id": "41eeb54b",
   "metadata": {},
   "outputs": [
    {
     "data": {
      "image/png": "[encoded data removed]",
      "text/plain": [
       "<Figure size 432x288 with 1 Axes>"
      ]
     },
     "metadata": {
      "needs_background": "light"
     },
     "output_type": "display_data"
    }
   ],
   "source": [
    "# recurrent dropout\n",
    "plt.plot(history.history['loss'], label='train')\n",
    "plt.plot(history.history['val_loss'], label='test')\n",
    "plt.legend()\n",
    "plt.show()"
   ]
  },
  {
   "cell_type": "markdown",
   "id": "1cae31b7",
   "metadata": {},
   "source": [
    "## 4. 결과"
   ]
  },
  {
   "cell_type": "markdown",
   "id": "cb3346b0",
   "metadata": {},
   "source": [
    "### 인퍼런스 모델 구현"
   ]
  },
  {
   "cell_type": "code",
   "execution_count": 33,
   "id": "404b28c9",
   "metadata": {},
   "outputs": [],
   "source": [
    "src_index_to_word = src_tokenizer.index_word # 원문 단어 집합에서 정수 -> 단어를 얻음\n",
    "tar_word_to_index = tar_tokenizer.word_index # 요약 단어 집합에서 단어 -> 정수를 얻음\n",
    "tar_index_to_word = tar_tokenizer.index_word # 요약 단어 집합에서 정수 -> 단어를 얻음"
   ]
  },
  {
   "cell_type": "code",
   "execution_count": 34,
   "id": "330926a1",
   "metadata": {},
   "outputs": [],
   "source": [
    "# 인코더 설계\n",
    "encoder_model = Model(inputs=encoder_inputs, outputs=[encoder_outputs, state_h, state_c])\n",
    "\n",
    "# 이전 시점의 상태들을 저장하는 텐서\n",
    "decoder_state_input_h = Input(shape=(hidden_size,))\n",
    "decoder_state_input_c = Input(shape=(hidden_size,))\n",
    "\n",
    "dec_emb2 = dec_emb_layer(decoder_inputs)\n",
    "\n",
    "# 문장의 다음 단어를 예측하기 위해서 초기 상태(initial_state)를 이전 시점의 상태로 사용. 이는 뒤의 함수 decode_sequence()에 구현\n",
    "# 훈련 과정에서와 달리 LSTM의 리턴하는 은닉 상태와 셀 상태인 state_h와 state_c를 버리지 않음.\n",
    "decoder_outputs2, state_h2, state_c2 = decoder_lstm(dec_emb2, initial_state=[decoder_state_input_h, decoder_state_input_c])"
   ]
  },
  {
   "cell_type": "code",
   "execution_count": 35,
   "id": "228b5809",
   "metadata": {},
   "outputs": [],
   "source": [
    "# 어텐션 함수\n",
    "decoder_hidden_state_input = Input(shape=(text_max_len, hidden_size))\n",
    "attn_out_inf = attn_layer([decoder_outputs2, decoder_hidden_state_input])\n",
    "decoder_inf_concat = Concatenate(axis=-1, name='concat')([decoder_outputs2, attn_out_inf])\n",
    "\n",
    "# 디코더의 출력층\n",
    "decoder_outputs2 = decoder_softmax_layer(decoder_inf_concat) \n",
    "\n",
    "# 최종 디코더 모델\n",
    "decoder_model = Model(\n",
    "    [decoder_inputs] + [decoder_hidden_state_input,decoder_state_input_h, decoder_state_input_c],\n",
    "    [decoder_outputs2] + [state_h2, state_c2])"
   ]
  },
  {
   "cell_type": "code",
   "execution_count": 36,
   "id": "cf68b5f6",
   "metadata": {},
   "outputs": [],
   "source": [
    "def decode_sequence(input_seq):\n",
    "    # 입력으로부터 인코더의 상태를 얻음\n",
    "    e_out, e_h, e_c = encoder_model.predict(input_seq)\n",
    "\n",
    "     # <SOS>에 해당하는 토큰 생성\n",
    "    target_seq = np.zeros((1,1))\n",
    "    target_seq[0, 0] = tar_word_to_index['sostoken']\n",
    "\n",
    "    stop_condition = False\n",
    "    decoded_sentence = ''\n",
    "    while not stop_condition: # stop_condition이 True가 될 때까지 루프 반복\n",
    "\n",
    "        output_tokens, h, c = decoder_model.predict([target_seq] + [e_out, e_h, e_c])\n",
    "        sampled_token_index = np.argmax(output_tokens[0, -1, :])\n",
    "        sampled_token = tar_index_to_word[sampled_token_index]\n",
    "\n",
    "        if (sampled_token!='eostoken'):\n",
    "            decoded_sentence += ' '+sampled_token\n",
    "\n",
    "        #  <eos>에 도달하거나 최대 길이를 넘으면 중단.\n",
    "        if (sampled_token == 'eostoken'  or len(decoded_sentence.split()) >= (headlines_max_len-1)):\n",
    "            stop_condition = True\n",
    "\n",
    "        # 길이가 1인 타겟 시퀀스를 업데이트\n",
    "        target_seq = np.zeros((1,1))\n",
    "        target_seq[0, 0] = sampled_token_index\n",
    "\n",
    "        # 상태를 업데이트 합니다.\n",
    "        e_h, e_c = h, c\n",
    "\n",
    "    return decoded_sentence"
   ]
  },
  {
   "cell_type": "markdown",
   "id": "beea45db",
   "metadata": {},
   "source": [
    "### test"
   ]
  },
  {
   "cell_type": "code",
   "execution_count": 37,
   "id": "96d4a614",
   "metadata": {},
   "outputs": [],
   "source": [
    "# 원문의 정수 시퀀스를 텍스트 시퀀스로 변환\n",
    "def seq2text(input_seq):\n",
    "    temp=''\n",
    "    for i in input_seq:\n",
    "        if (i!=0):\n",
    "            temp = temp + src_index_to_word[i]+' '\n",
    "    return temp\n",
    "\n",
    "# 헤드라인의 정수 시퀀스를 텍스트 시퀀스로 변환\n",
    "def seq2headlines(input_seq):\n",
    "    temp=''\n",
    "    for i in input_seq:\n",
    "        if ((i!=0 and i!=tar_word_to_index['sostoken']) and i!=tar_word_to_index['eostoken']):\n",
    "            temp = temp + tar_index_to_word[i] + ' '\n",
    "    return temp"
   ]
  },
  {
   "cell_type": "code",
   "execution_count": 38,
   "id": "69bfcc49",
   "metadata": {},
   "outputs": [
    {
     "name": "stdout",
     "output_type": "stream",
     "text": [
      "원문: bengaluru based food delivery startup swiggy hired management team bengaluru based asian food startup east part deal east founders joseph ghosh join swiggy team coo new supply business line founded east offers asian dishes weekly changing menu \n",
      "실제 헤드라인: swiggy hires asian food startup east \n",
      "예측 헤드라인:  swiggy to get its employees for its food delivery startup\n",
      "\n",
      "\n",
      "원문: per reports virat kohli hiked endorsement fee crore day crore making highest paid brand ambassador india kohli ms dhoni actors shah rukh khan aamir khan reported charge crore per day kohli hiked fee negotiating contract renewal pepsico \n",
      "실제 헤드라인: virat kohli endorsement fee highest in india reports \n",
      "예측 헤드라인:  kohli overtakes bcci to buy stake in india reports\n",
      "\n",
      "\n",
      "원문: stating israel enemies know well country capable prime minister benjamin netanyahu said whoever tries hurt us hurt netanyahu said middle east place weak weak slaughtered erased history strong good ill survive \n",
      "실제 헤드라인: tries to hurt us we hurt them israel pm netanyahu \n",
      "예측 헤드라인:  israel pm netanyahu are threat to us\n",
      "\n",
      "\n",
      "원문: physicists observed liquid properties light photons form light wave made interact light became flowing without friction across obstacles without ripples normally observed near absolute zero scientists said however achieved room temperature using particles called \n",
      "실제 헤드라인: liquid light created at room temperature \n",
      "예측 헤드라인:  astronomers discover new planets\n",
      "\n",
      "\n",
      "원문: sand artist sudarsan pattnaik made sculpture late actress sridevi puri beach odisha tweeting tribute one brightest stars indian cinema sridevi meanwhile karnataka based cartoonist satish acharya dedicated sketch late actress sridevi passed away dubai saturday cardiac arrest \n",
      "실제 헤드라인: sand artist pays tribute to sridevi with sculpture \n",
      "예측 헤드라인:  sridevi tribute to sridevi in new york\n",
      "\n",
      "\n",
      "원문: scientists developed smartphone tool track user work developed researchers cornell university measures pupil size captured burst photographs taken every time users unlock smartphones according researchers people alert pupils pupils contract \n",
      "실제 헤드라인: smartphone tool to track employees at work made \n",
      "예측 헤드라인:  smart that can see users in user developed\n",
      "\n",
      "\n",
      "원문: rishi kapoor asked approves son ranbir kapoor girlfriend alia bhatt said ranbir life wants get married neetu likes like ranbir likes cannot uncles chose life partners ranbir entitled choose rishi added \n",
      "실제 헤드라인: ranbir likes alia neetu and like her too rishi \n",
      "예측 헤드라인:  ranbir is the first person to be with ranbir\n",
      "\n",
      "\n",
      "원문: ex rajasthan royals captain shane warne autobiography revealed mohammad kaif got angry given little hotel room like players said reception noticed kaif go front desk repeatedly say kaif warne added explained kaif everyone get room \n",
      "실제 헤드라인: am kaif kaif told hotel reception warne on getting small room \n",
      "예측 헤드라인:  not sure if you are not warne on warne\n",
      "\n",
      "\n",
      "원문: finance minister arun jaitley elected rajya sabha fourth consecutive term bjp candidate uttar pradesh leader house jaitley served rajya sabha mp gujarat years appointed leader rajya sabha well \n",
      "실제 헤드라인: arun jaitley as leader of rajya sabha \n",
      "예측 헤드라인:  congress to be in as ls polls jaitley\n",
      "\n",
      "\n",
      "원문: filmmaker philip bloom claimed google used seconds footage seven videos internal video leaked last week without permission bloom added contacted google said video internal use offered compensation google said executive made video reminded strict copyright rules \n",
      "실제 헤드라인: filmmaker accuses google of using his videos in leaked clip \n",
      "예측 헤드라인:  google ai head of ai to fix\n",
      "\n",
      "\n"
     ]
    }
   ],
   "source": [
    "for i in range(0, 10):\n",
    "    print(\"원문:\", seq2text(encoder_input_test[i]))\n",
    "    print(\"실제 헤드라인:\", seq2headlines(decoder_input_test[i]))\n",
    "    print(\"예측 헤드라인:\", decode_sequence(encoder_input_test[i].reshape(1, text_max_len)))\n",
    "    print(\"\\n\")"
   ]
  },
  {
   "cell_type": "code",
   "execution_count": 38,
   "id": "d82b2e14",
   "metadata": {},
   "outputs": [
    {
     "name": "stdout",
     "output_type": "stream",
     "text": [
      "원문: harry potter writer world highest paid author jk rowling earned million last year according forbes income surge came largely stage play harry potter cursed child second largest income came chain harry potter themed attractions universal studios hollywood us \n",
      "실제 헤드라인: harry potter author jk rowling earned million in year \n",
      "예측 헤드라인:  harry potter highest paid times in one kate\n",
      "\n",
      "\n",
      "원문: exiled chinese billionaire guo accused former business partner long framing crimes says commit conviction overturned embezzling million company owned guo long said revenge find lawyer make pay added \n",
      "실제 헤드라인: chinese billionaire accused of ex business partner \n",
      "예측 헤드라인:  billionaire was billionaire\n",
      "\n",
      "\n",
      "원문: rss affiliate bharatiya sangh president criticising centre policies said nda government nothing upa iii far economic labour reforms concerned added upa government thrown dustbin certain reforms due public government picked saying reforms \n",
      "실제 헤드라인: nda government nothing but upa iii rss \n",
      "예측 헤드라인:  nda govt upa upa upa is not nda rss leader\n",
      "\n",
      "\n",
      "원문: spain fifa world cup despite scoring eight goals day tournament becoming lowest scoring side win quadrennial tournament spain scored four goals three group matches four knockout games including final scoreline spain also became first team win wc losing opening match \n",
      "실제 헤드라인: spain won fifa world cup despite scoring just goals \n",
      "예측 헤드라인:  india beat world cup to reach fifa world cup\n",
      "\n",
      "\n",
      "원문: former aam aadmi party leader ashutosh claimed forced use surname gupta lok sabha elections ashutosh said elections introduced aap workers candidate surname mentioned despite protest comes reports claimed aap asked marlena drop surname \n",
      "실제 헤드라인: ashutosh claims aap asked him to use surname gupta for votes \n",
      "예측 헤드라인:  aap leader calls aap leader for election remark\n",
      "\n",
      "\n",
      "원문: firefox web browser maker mozilla reportedly working voice controlled web browser named accept verbal commands instance users ask browser search car designs open gmail read article however company revealed details integrate technology web browser \n",
      "실제 헤드라인: working on voice controlled web browser report \n",
      "예측 헤드라인:  chrome extension lets users voice based\n",
      "\n",
      "\n",
      "원문: reliance industries raised million selling year bonds priced lowest year bond issued indian entity issue company assigned rating global baa moody company use proceeds existing debt \n",
      "실제 헤드라인: ril raises million through year at lowest rate \n",
      "예측 헤드라인:  oneplus to be valued at crore in\n",
      "\n",
      "\n",
      "원문: pigs saved fire farm england earlier year served firefighters farmer mark gratitude efforts two rescued fire later slaughtered farmer rachel rivers said wanted thank firefighters \n",
      "실제 헤드라인: pigs saved by firefighters from fire served to them as meal \n",
      "예측 헤드라인:  fire breaks out at school in maharashtra\n",
      "\n",
      "\n",
      "원문: al female reporter saudi arabia fled country investigation launched wearing indecent clothes authorities said reporting lifting ban women driving saudi arabia blown open wind revealing trousers top \n",
      "실제 헤드라인: saudi journo flees country amid probe over indecent dress \n",
      "예측 헤드라인:  saudi arabia arrests women for wearing\n",
      "\n",
      "\n",
      "원문: reacting actor kamal haasan remark hindu terror akhil bharat hindu mahasabha friday said others like shot dead hanged claimed use abusive language people belonging hindu faith right live holy land \n",
      "실제 헤드라인: haasan should be hanged for hindu terror remark hindu body \n",
      "예측 헤드라인:  kamal haasan calls for his anti terror attack\n",
      "\n",
      "\n"
     ]
    }
   ],
   "source": [
    "# recurrent dropout\n",
    "for i in range(0, 10):\n",
    "    print(\"원문:\", seq2text(encoder_input_test[i]))\n",
    "    print(\"실제 헤드라인:\", seq2headlines(decoder_input_test[i]))\n",
    "    print(\"예측 헤드라인:\", decode_sequence(encoder_input_test[i].reshape(1, text_max_len)))\n",
    "    print(\"\\n\")"
   ]
  },
  {
   "cell_type": "markdown",
   "id": "d9661fd9",
   "metadata": {},
   "source": [
    "## 5. Summa 이용해서 추출적 요약"
   ]
  },
  {
   "cell_type": "code",
   "execution_count": 39,
   "id": "dacf8b4d",
   "metadata": {
    "scrolled": false
   },
   "outputs": [
    {
     "name": "stdout",
     "output_type": "stream",
     "text": [
      "원문: Saurav Kant, an alumnus of upGrad and IIIT-B's PG Program in Machine learning and Artificial Intelligence, was a Sr Systems Engineer at Infosys with almost 5 years of work experience. The program and upGrad's 360-degree career support helped him transition to a Data Scientist at Tech Mahindra with 90% salary hike. upGrad's Online Power Learning has powered 3 lakh+ careers.\n",
      "실제 헤드라인: upGrad learner switches to career in ML & Al with 90% salary hike\n",
      "예측 헤드라인: upGrad's Online Power Learning has powered 3 lakh+ careers.\n",
      "\n",
      "\n",
      "원문: Kunal Shah's credit card bill payment platform, CRED, gave users a chance to win free food from Swiggy for one year. Pranav Kaushik, a Delhi techie, bagged this reward after spending 2000 CRED coins. Users get one CRED coin per rupee of bill paid, which can be used to avail rewards from brands like Ixigo, BookMyShow, UberEats, Cult.Fit and more.\n",
      "실제 헤드라인: Delhi techie wins free food from Swiggy for one year on CRED\n",
      "예측 헤드라인: Users get one CRED coin per rupee of bill paid, which can be used to avail rewards from brands like Ixigo, BookMyShow, UberEats, Cult.Fit and more.\n",
      "\n",
      "\n",
      "원문: New Zealand defeated India by 8 wickets in the fourth ODI at Hamilton on Thursday to win their first match of the five-match ODI series. India lost an international match under Rohit Sharma's captaincy after 12 consecutive victories dating back to March 2018. The match witnessed India getting all out for 92, their seventh lowest total in ODI cricket history.\n",
      "실제 헤드라인: New Zealand end Rohit Sharma-led India's 12-match winning streak\n",
      "예측 헤드라인: The match witnessed India getting all out for 92, their seventh lowest total in ODI cricket history.\n",
      "\n",
      "\n",
      "원문: With Aegon Life iTerm Insurance plan, customers can enjoy tax benefits on your premiums paid and save up to Ã¢ÂÂ¹46,800^ on taxes. The plan provides life cover up to the age of 100 years. Also, customers have options to insure against Critical Illnesses, Disability and Accidental Death Benefit Rider with a life cover up to the age of 80 years.\n",
      "실제 헤드라인: Aegon life iTerm insurance plan helps customers save tax\n",
      "예측 헤드라인: Also, customers have options to insure against Critical Illnesses, Disability and Accidental Death Benefit Rider with a life cover up to the age of 80 years.\n",
      "\n",
      "\n",
      "원문: Speaking about the sexual harassment allegations against Rajkumar Hirani, Sonam Kapoor said, \"I've known Hirani for many years...What if it's not true, the [#MeToo] movement will get derailed.\" \"In the #MeToo movement, I always believe a woman. But in this case, we need to reserve our judgment,\" she added. Hirani has been accused by an assistant who worked in 'Sanju'.\n",
      "실제 헤드라인: Have known Hirani for yrs, what if MeToo claims are not true: Sonam\n",
      "예측 헤드라인: Speaking about the sexual harassment allegations against Rajkumar Hirani, Sonam Kapoor said, \"I've known Hirani for many years...What if it's not true, the [#MeToo] movement will get derailed.\" \"In the #MeToo movement, I always believe a woman.\n",
      "\n",
      "\n",
      "원문: Pakistani singer Rahat Fateh Ali Khan has denied receiving any notice from the Enforcement Directorate over allegedly smuggling foreign currency out of India. \"It would have been better if the authorities would have served the notice first if any and then publicised this,\" reads a press release issued on behalf of Rahat. The statement further called the allegation \"bizarre\".\n",
      "실제 헤드라인: Rahat Fateh Ali Khan denies getting notice for smuggling currency\n",
      "예측 헤드라인: Pakistani singer Rahat Fateh Ali Khan has denied receiving any notice from the Enforcement Directorate over allegedly smuggling foreign currency out of India.\n",
      "\n",
      "\n",
      "원문: India recorded their lowest ODI total in New Zealand after getting all out for 92 runs in 30.5 overs in the fourth ODI at Hamilton on Thursday. Seven of India's batsmen were dismissed for single-digit scores, while their number ten batsman Yuzvendra Chahal top-scored with 18*(37). India's previous lowest ODI total in New Zealand was 108.\n",
      "실제 헤드라인: India get all out for 92, their lowest ODI total in New Zealand\n",
      "예측 헤드라인: India's previous lowest ODI total in New Zealand was 108.\n",
      "\n",
      "\n",
      "원문: Weeks after ex-CBI Director Alok Verma told the Department of Personnel and Training to consider him retired, the Home Ministry asked him to join work on the last day of his fixed tenure as Director on Thursday. The ministry directed him to immediately join as DG, Fire Services, the post he was transferred to after his removal as CBI chief.\n",
      "실제 헤드라인: Govt directs Alok Verma to join work 1 day before his retirement\n",
      "예측 헤드라인: \n",
      "\n",
      "\n",
      "원문: Andhra Pradesh CM N Chandrababu Naidu has said, \"When I met then US President Bill Clinton, I addressed him as Mr Clinton, not as 'sir'. (PM Narendra) Modi is my junior in politics...I addressed him as sir 10 times.\" \"I did this...to satisfy his ego in the hope that he will do justice to the state,\" he added.\n",
      "실제 헤드라인: Called PM Modi 'sir' 10 times to satisfy his ego: Andhra CM\n",
      "예측 헤드라인: \n",
      "\n",
      "\n",
      "원문: Congress candidate Shafia Zubair won the Ramgarh Assembly seat in Rajasthan, by defeating BJP's Sukhwant Singh with a margin of 12,228 votes in the bypoll. With this victory, Congress has taken its total to 100 seats in the 200-member assembly. The election to the Ramgarh seat was delayed due to the death of sitting MLA and BSP candidate Laxman Singh.\n",
      "실제 헤드라인: Cong wins Ramgarh bypoll in Rajasthan, takes total to 100 seats\n",
      "예측 헤드라인: Congress candidate Shafia Zubair won the Ramgarh Assembly seat in Rajasthan, by defeating BJP's Sukhwant Singh with a margin of 12,228 votes in the bypoll.\n",
      "\n",
      "\n"
     ]
    }
   ],
   "source": [
    "for i in range(0, 10):\n",
    "    print(\"원문:\", data_summa['text'][i])\n",
    "    print(\"실제 헤드라인:\", data_summa['headlines'][i])\n",
    "    print(\"예측 헤드라인:\", summarize(data_summa['text'][i], ratio=0.4))\n",
    "    \n",
    "    print(\"\\n\")"
   ]
  },
  {
   "cell_type": "markdown",
   "id": "6c024046",
   "metadata": {},
   "source": [
    "대부분의 글이 두괄식 또는 미괄식으로 작성되는 특성이 반영된건지 예측 결과가 첫 문장 또는 마지막 문장이다. <br>\n",
    "하지만 해당 문장이 항상 글의 전체를 대표할 수는 없다."
   ]
  },
  {
   "cell_type": "markdown",
   "id": "249a7719",
   "metadata": {},
   "source": [
    "## Report"
   ]
  },
  {
   "cell_type": "markdown",
   "id": "654685d1",
   "metadata": {},
   "source": [
    "||Abstractive|Extractive|\n",
    "|------|---|---|\n",
    "|문법 완성도|△|O|\n",
    "|핵심 단어 포함|O|△|\n",
    "\n",
    "\n",
    "<br>\n",
    "\n",
    "- Abstractive는 문법의 완성도는 비교적 떨어지지만 핵심 단어를 포함, 또는 실제 헤드라인과 비슷한 의미의 헤드라인을 생성해낸 것을 확인했다.\n",
    "- 하지만 문법적인 측면에서는 확실히 문장 전체를 뽑는 Extractive는 완성도가 높고, 문장을 생성해내는 Abstractive는 상대적으로 문법적인 완성도가 떨어진다."
   ]
  },
  {
   "cell_type": "markdown",
   "id": "16a3663e",
   "metadata": {},
   "source": [
    "## 회고"
   ]
  },
  {
   "cell_type": "markdown",
   "id": "be421e2e",
   "metadata": {},
   "source": [
    "- `BeautifulSoup`를 사용해서 html 태그를 제거한 경우 공백이 사라져 앞뒤 단어가 붙는 문제가 있어서 정규표현식으로 제거해주었다.\n",
    "- recurrent dropout을 사용한 경우에 사용하지 않은 경우보다 loss가 더 떨어졌다. 하지만 학습 시간이 굉장히 오래 걸렸다.\n",
    "- abstractive 방식이 완전한 문장을 생성해내지는 못했지만 좀 더 핵심 단어를 잘 뽑아낸다는 점에서 성능을 개선하면 더 쓸만하겠다고 생각했다."
   ]
  }
 ],
 "metadata": {
  "kernelspec": {
   "display_name": "Python 3 (ipykernel)",
   "language": "python",
   "name": "python3"
  },
  "language_info": {
   "codemirror_mode": {
    "name": "ipython",
    "version": 3
   },
   "file_extension": ".py",
   "mimetype": "text/x-python",
   "name": "python",
   "nbconvert_exporter": "python",
   "pygments_lexer": "ipython3",
   "version": "3.9.7"
  }
 },
 "nbformat": 4,
 "nbformat_minor": 5
}
