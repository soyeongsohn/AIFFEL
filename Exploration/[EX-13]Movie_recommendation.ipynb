{
 "cells": [
  {
   "cell_type": "markdown",
   "id": "c8a7d1a2",
   "metadata": {},
   "source": [
    "# Project: Movielens 영화 추천\n",
    "- Recommendation System\n",
    "- Collaborative Filtering\n",
    "- Matrix Factorization"
   ]
  },
  {
   "cell_type": "code",
   "execution_count": 1,
   "id": "a25af7c0",
   "metadata": {},
   "outputs": [],
   "source": [
    "import numpy as np\n",
    "import pandas as pd\n",
    "import os\n",
    "\n",
    "from scipy.sparse import csr_matrix\n",
    "from implicit.als import AlternatingLeastSquares"
   ]
  },
  {
   "cell_type": "markdown",
   "id": "4db7e190",
   "metadata": {},
   "source": [
    "## 1. 데이터 준비 및 전처리"
   ]
  },
  {
   "cell_type": "code",
   "execution_count": 2,
   "id": "a33e1aff",
   "metadata": {},
   "outputs": [
    {
     "data": {
      "text/html": [
       "<div>\n",
       "<style scoped>\n",
       "    .dataframe tbody tr th:only-of-type {\n",
       "        vertical-align: middle;\n",
       "    }\n",
       "\n",
       "    .dataframe tbody tr th {\n",
       "        vertical-align: top;\n",
       "    }\n",
       "\n",
       "    .dataframe thead th {\n",
       "        text-align: right;\n",
       "    }\n",
       "</style>\n",
       "<table border=\"1\" class=\"dataframe\">\n",
       "  <thead>\n",
       "    <tr style=\"text-align: right;\">\n",
       "      <th></th>\n",
       "      <th>user_id</th>\n",
       "      <th>movie_id</th>\n",
       "      <th>ratings</th>\n",
       "      <th>timestamp</th>\n",
       "    </tr>\n",
       "  </thead>\n",
       "  <tbody>\n",
       "    <tr>\n",
       "      <th>0</th>\n",
       "      <td>1</td>\n",
       "      <td>1193</td>\n",
       "      <td>5</td>\n",
       "      <td>978300760</td>\n",
       "    </tr>\n",
       "    <tr>\n",
       "      <th>1</th>\n",
       "      <td>1</td>\n",
       "      <td>661</td>\n",
       "      <td>3</td>\n",
       "      <td>978302109</td>\n",
       "    </tr>\n",
       "    <tr>\n",
       "      <th>2</th>\n",
       "      <td>1</td>\n",
       "      <td>914</td>\n",
       "      <td>3</td>\n",
       "      <td>978301968</td>\n",
       "    </tr>\n",
       "    <tr>\n",
       "      <th>3</th>\n",
       "      <td>1</td>\n",
       "      <td>3408</td>\n",
       "      <td>4</td>\n",
       "      <td>978300275</td>\n",
       "    </tr>\n",
       "    <tr>\n",
       "      <th>4</th>\n",
       "      <td>1</td>\n",
       "      <td>2355</td>\n",
       "      <td>5</td>\n",
       "      <td>978824291</td>\n",
       "    </tr>\n",
       "  </tbody>\n",
       "</table>\n",
       "</div>"
      ],
      "text/plain": [
       "   user_id  movie_id  ratings  timestamp\n",
       "0        1      1193        5  978300760\n",
       "1        1       661        3  978302109\n",
       "2        1       914        3  978301968\n",
       "3        1      3408        4  978300275\n",
       "4        1      2355        5  978824291"
      ]
     },
     "execution_count": 2,
     "metadata": {},
     "output_type": "execute_result"
    }
   ],
   "source": [
    "rating_file_path='./data/ml-1m/ratings.dat'\n",
    "ratings_cols = ['user_id', 'movie_id', 'ratings', 'timestamp']\n",
    "ratings = pd.read_csv(rating_file_path, sep='::', names=ratings_cols, engine='python', encoding = \"ISO-8859-1\")\n",
    "orginal_data_size = len(ratings)\n",
    "ratings.head()"
   ]
  },
  {
   "cell_type": "code",
   "execution_count": 3,
   "id": "e5f92d30",
   "metadata": {},
   "outputs": [],
   "source": [
    "# timestamp 제외\n",
    "ratings = ratings[[\"user_id\", \"movie_id\", \"ratings\"]]"
   ]
  },
  {
   "cell_type": "code",
   "execution_count": 4,
   "id": "4a3a4508",
   "metadata": {},
   "outputs": [
    {
     "name": "stdout",
     "output_type": "stream",
     "text": [
      "orginal_data_size: 1000209, filtered_data_size: 836478\n",
      "Ratio of Remaining Data is 83.63%\n"
     ]
    }
   ],
   "source": [
    "# 3점 이상만 남기기\n",
    "ratings = ratings[ratings['ratings']>=3]\n",
    "filtered_data_size = len(ratings)\n",
    "\n",
    "print(f'orginal_data_size: {orginal_data_size}, filtered_data_size: {filtered_data_size}')\n",
    "print(f'Ratio of Remaining Data is {filtered_data_size / orginal_data_size:.2%}')"
   ]
  },
  {
   "cell_type": "code",
   "execution_count": 5,
   "id": "6fb8021e",
   "metadata": {},
   "outputs": [
    {
     "data": {
      "text/plain": [
       "0          5\n",
       "1          3\n",
       "2          3\n",
       "3          4\n",
       "4          5\n",
       "          ..\n",
       "1000203    3\n",
       "1000205    5\n",
       "1000206    5\n",
       "1000207    4\n",
       "1000208    4\n",
       "Name: counts, Length: 836478, dtype: int64"
      ]
     },
     "execution_count": 5,
     "metadata": {},
     "output_type": "execute_result"
    }
   ],
   "source": [
    "# ratings 컬럼의 이름을 counts로 바꿉니다.\n",
    "ratings.rename(columns={'ratings':'counts'}, inplace=True)\n",
    "ratings['counts']"
   ]
  },
  {
   "cell_type": "code",
   "execution_count": 6,
   "id": "a47303ba",
   "metadata": {},
   "outputs": [
    {
     "data": {
      "text/html": [
       "<div>\n",
       "<style scoped>\n",
       "    .dataframe tbody tr th:only-of-type {\n",
       "        vertical-align: middle;\n",
       "    }\n",
       "\n",
       "    .dataframe tbody tr th {\n",
       "        vertical-align: top;\n",
       "    }\n",
       "\n",
       "    .dataframe thead th {\n",
       "        text-align: right;\n",
       "    }\n",
       "</style>\n",
       "<table border=\"1\" class=\"dataframe\">\n",
       "  <thead>\n",
       "    <tr style=\"text-align: right;\">\n",
       "      <th></th>\n",
       "      <th>movie_id</th>\n",
       "      <th>title</th>\n",
       "      <th>genre</th>\n",
       "    </tr>\n",
       "  </thead>\n",
       "  <tbody>\n",
       "    <tr>\n",
       "      <th>0</th>\n",
       "      <td>1</td>\n",
       "      <td>Toy Story (1995)</td>\n",
       "      <td>Animation|Children's|Comedy</td>\n",
       "    </tr>\n",
       "    <tr>\n",
       "      <th>1</th>\n",
       "      <td>2</td>\n",
       "      <td>Jumanji (1995)</td>\n",
       "      <td>Adventure|Children's|Fantasy</td>\n",
       "    </tr>\n",
       "    <tr>\n",
       "      <th>2</th>\n",
       "      <td>3</td>\n",
       "      <td>Grumpier Old Men (1995)</td>\n",
       "      <td>Comedy|Romance</td>\n",
       "    </tr>\n",
       "    <tr>\n",
       "      <th>3</th>\n",
       "      <td>4</td>\n",
       "      <td>Waiting to Exhale (1995)</td>\n",
       "      <td>Comedy|Drama</td>\n",
       "    </tr>\n",
       "    <tr>\n",
       "      <th>4</th>\n",
       "      <td>5</td>\n",
       "      <td>Father of the Bride Part II (1995)</td>\n",
       "      <td>Comedy</td>\n",
       "    </tr>\n",
       "  </tbody>\n",
       "</table>\n",
       "</div>"
      ],
      "text/plain": [
       "   movie_id                               title                         genre\n",
       "0         1                    Toy Story (1995)   Animation|Children's|Comedy\n",
       "1         2                      Jumanji (1995)  Adventure|Children's|Fantasy\n",
       "2         3             Grumpier Old Men (1995)                Comedy|Romance\n",
       "3         4            Waiting to Exhale (1995)                  Comedy|Drama\n",
       "4         5  Father of the Bride Part II (1995)                        Comedy"
      ]
     },
     "execution_count": 6,
     "metadata": {},
     "output_type": "execute_result"
    }
   ],
   "source": [
    "# 영화 제목을 보기 위해 메타 데이터를 읽어오기\n",
    "movie_file_path='./data/ml-1m/movies.dat'\n",
    "cols = ['movie_id', 'title', 'genre'] \n",
    "movies = pd.read_csv(movie_file_path, sep='::', names=cols, engine='python', encoding='ISO-8859-1')\n",
    "movies.head()"
   ]
  },
  {
   "cell_type": "markdown",
   "id": "41d6fdcb",
   "metadata": {},
   "source": [
    "## 2. 데이터 탐색"
   ]
  },
  {
   "cell_type": "markdown",
   "id": "f8af4532",
   "metadata": {},
   "source": [
    "### ratings에 있는 unique한 영화 개수"
   ]
  },
  {
   "cell_type": "code",
   "execution_count": 7,
   "id": "4bd70938",
   "metadata": {},
   "outputs": [
    {
     "data": {
      "text/plain": [
       "3628"
      ]
     },
     "execution_count": 7,
     "metadata": {},
     "output_type": "execute_result"
    }
   ],
   "source": [
    "ratings[\"movie_id\"].nunique()"
   ]
  },
  {
   "cell_type": "markdown",
   "id": "bc8d1d74",
   "metadata": {},
   "source": [
    "### ratings에 있는 unique한 사용자 수"
   ]
  },
  {
   "cell_type": "code",
   "execution_count": 8,
   "id": "1ee1e406",
   "metadata": {},
   "outputs": [
    {
     "data": {
      "text/plain": [
       "6039"
      ]
     },
     "execution_count": 8,
     "metadata": {},
     "output_type": "execute_result"
    }
   ],
   "source": [
    "ratings[\"user_id\"].nunique()"
   ]
  },
  {
   "cell_type": "markdown",
   "id": "dd41fb51",
   "metadata": {},
   "source": [
    "### 가장 인기 있는 영화 30개 (인기순)"
   ]
  },
  {
   "cell_type": "code",
   "execution_count": 9,
   "id": "c8b54ed7",
   "metadata": {},
   "outputs": [],
   "source": [
    "# 데이터 합치기\n",
    "data = pd.merge(movies, ratings)\n",
    "data = data[[\"user_id\", \"title\", \"counts\"]]"
   ]
  },
  {
   "cell_type": "code",
   "execution_count": 10,
   "id": "ebce0272",
   "metadata": {},
   "outputs": [
    {
     "data": {
      "text/plain": [
       "title\n",
       "American Beauty (1999)                                   3211\n",
       "Star Wars: Episode IV - A New Hope (1977)                2910\n",
       "Star Wars: Episode V - The Empire Strikes Back (1980)    2885\n",
       "Star Wars: Episode VI - Return of the Jedi (1983)        2716\n",
       "Saving Private Ryan (1998)                               2561\n",
       "Terminator 2: Judgment Day (1991)                        2509\n",
       "Silence of the Lambs, The (1991)                         2498\n",
       "Raiders of the Lost Ark (1981)                           2473\n",
       "Back to the Future (1985)                                2460\n",
       "Matrix, The (1999)                                       2434\n",
       "Jurassic Park (1993)                                     2413\n",
       "Sixth Sense, The (1999)                                  2385\n",
       "Fargo (1996)                                             2371\n",
       "Braveheart (1995)                                        2314\n",
       "Men in Black (1997)                                      2297\n",
       "Schindler's List (1993)                                  2257\n",
       "Princess Bride, The (1987)                               2252\n",
       "Shakespeare in Love (1998)                               2213\n",
       "L.A. Confidential (1997)                                 2210\n",
       "Shawshank Redemption, The (1994)                         2194\n",
       "Godfather, The (1972)                                    2167\n",
       "Groundhog Day (1993)                                     2121\n",
       "E.T. the Extra-Terrestrial (1982)                        2102\n",
       "Being John Malkovich (1999)                              2066\n",
       "Ghostbusters (1984)                                      2051\n",
       "Pulp Fiction (1994)                                      2030\n",
       "Forrest Gump (1994)                                      2022\n",
       "Terminator, The (1984)                                   2019\n",
       "Toy Story (1995)                                         2000\n",
       "Fugitive, The (1993)                                     1941\n",
       "Name: user_id, dtype: int64"
      ]
     },
     "execution_count": 10,
     "metadata": {},
     "output_type": "execute_result"
    }
   ],
   "source": [
    "movie_count = data.groupby(\"title\")[\"user_id\"].count()\n",
    "movie_count.sort_values(ascending=False).head(30)"
   ]
  },
  {
   "cell_type": "code",
   "execution_count": 11,
   "id": "1777606b",
   "metadata": {},
   "outputs": [
    {
     "data": {
      "text/plain": [
       "count    6039.000000\n",
       "mean      138.512668\n",
       "std       156.241599\n",
       "min         1.000000\n",
       "25%        38.000000\n",
       "50%        81.000000\n",
       "75%       177.000000\n",
       "max      1968.000000\n",
       "Name: title, dtype: float64"
      ]
     },
     "execution_count": 11,
     "metadata": {},
     "output_type": "execute_result"
    }
   ],
   "source": [
    "# 유저별 몇 편의 영화를 시청했는지에 대한 통계\n",
    "user_count = data.groupby(\"user_id\")[\"title\"].count()\n",
    "user_count.describe()"
   ]
  },
  {
   "cell_type": "markdown",
   "id": "1267dddc",
   "metadata": {},
   "source": [
    "## 3. 모델 검증을 위한 사용자 초기 정보 세팅\n",
    "- 내가 선호하는 영화 5가지를 골라 ratings에 추가"
   ]
  },
  {
   "cell_type": "code",
   "execution_count": 12,
   "id": "fa77a7da",
   "metadata": {},
   "outputs": [
    {
     "data": {
      "text/html": [
       "<div>\n",
       "<style scoped>\n",
       "    .dataframe tbody tr th:only-of-type {\n",
       "        vertical-align: middle;\n",
       "    }\n",
       "\n",
       "    .dataframe tbody tr th {\n",
       "        vertical-align: top;\n",
       "    }\n",
       "\n",
       "    .dataframe thead th {\n",
       "        text-align: right;\n",
       "    }\n",
       "</style>\n",
       "<table border=\"1\" class=\"dataframe\">\n",
       "  <thead>\n",
       "    <tr style=\"text-align: right;\">\n",
       "      <th></th>\n",
       "      <th>user_id</th>\n",
       "      <th>title</th>\n",
       "      <th>counts</th>\n",
       "    </tr>\n",
       "  </thead>\n",
       "  <tbody>\n",
       "    <tr>\n",
       "      <th>836473</th>\n",
       "      <td>5682</td>\n",
       "      <td>Contender, The (2000)</td>\n",
       "      <td>3</td>\n",
       "    </tr>\n",
       "    <tr>\n",
       "      <th>836474</th>\n",
       "      <td>5812</td>\n",
       "      <td>Contender, The (2000)</td>\n",
       "      <td>4</td>\n",
       "    </tr>\n",
       "    <tr>\n",
       "      <th>836475</th>\n",
       "      <td>5831</td>\n",
       "      <td>Contender, The (2000)</td>\n",
       "      <td>3</td>\n",
       "    </tr>\n",
       "    <tr>\n",
       "      <th>836476</th>\n",
       "      <td>5837</td>\n",
       "      <td>Contender, The (2000)</td>\n",
       "      <td>4</td>\n",
       "    </tr>\n",
       "    <tr>\n",
       "      <th>836477</th>\n",
       "      <td>5998</td>\n",
       "      <td>Contender, The (2000)</td>\n",
       "      <td>4</td>\n",
       "    </tr>\n",
       "    <tr>\n",
       "      <th>0</th>\n",
       "      <td>soyeong</td>\n",
       "      <td>Toy Story (1995)</td>\n",
       "      <td>5</td>\n",
       "    </tr>\n",
       "    <tr>\n",
       "      <th>1</th>\n",
       "      <td>soyeong</td>\n",
       "      <td>Life Is Beautiful (La Vita è bella) (1997)</td>\n",
       "      <td>5</td>\n",
       "    </tr>\n",
       "    <tr>\n",
       "      <th>2</th>\n",
       "      <td>soyeong</td>\n",
       "      <td>Truman Show, The (1998)</td>\n",
       "      <td>5</td>\n",
       "    </tr>\n",
       "    <tr>\n",
       "      <th>3</th>\n",
       "      <td>soyeong</td>\n",
       "      <td>Toy Story 2 (1999)</td>\n",
       "      <td>5</td>\n",
       "    </tr>\n",
       "    <tr>\n",
       "      <th>4</th>\n",
       "      <td>soyeong</td>\n",
       "      <td>Lion King, The (1994)</td>\n",
       "      <td>5</td>\n",
       "    </tr>\n",
       "  </tbody>\n",
       "</table>\n",
       "</div>"
      ],
      "text/plain": [
       "        user_id                                       title  counts\n",
       "836473     5682                       Contender, The (2000)       3\n",
       "836474     5812                       Contender, The (2000)       4\n",
       "836475     5831                       Contender, The (2000)       3\n",
       "836476     5837                       Contender, The (2000)       4\n",
       "836477     5998                       Contender, The (2000)       4\n",
       "0       soyeong                            Toy Story (1995)       5\n",
       "1       soyeong  Life Is Beautiful (La Vita è bella) (1997)       5\n",
       "2       soyeong                     Truman Show, The (1998)       5\n",
       "3       soyeong                          Toy Story 2 (1999)       5\n",
       "4       soyeong                       Lion King, The (1994)       5"
      ]
     },
     "execution_count": 12,
     "metadata": {},
     "output_type": "execute_result"
    }
   ],
   "source": [
    "my_favorite = [\"Toy Story (1995)\", \"Life Is Beautiful (La Vita è bella) (1997)\", \"Truman Show, The (1998)\",\n",
    "              \"Toy Story 2 (1999)\", \"Lion King, The (1994)\"]\n",
    "my_watchlist = pd.DataFrame({\"user_id\": [\"soyeong\"] * 5, \"title\": my_favorite, \"counts\": [5] * 5})\n",
    "\n",
    "if not data.isin({'user_id':[\"soyeong\"]})['user_id'].any():\n",
    "    data = data.append(my_watchlist) \n",
    "\n",
    "data.tail(10)"
   ]
  },
  {
   "cell_type": "markdown",
   "id": "a5c81fa3",
   "metadata": {},
   "source": [
    "### 모델에 활용하기 위한 전처리"
   ]
  },
  {
   "cell_type": "code",
   "execution_count": 13,
   "id": "34dbf783",
   "metadata": {},
   "outputs": [
    {
     "name": "stdout",
     "output_type": "stream",
     "text": [
      "6039\n",
      "0\n"
     ]
    }
   ],
   "source": [
    "# 고유한 유저, 영화 제목 찾기\n",
    "user_unique = data['user_id'].unique()\n",
    "title_unique = data['title'].unique()\n",
    "\n",
    "# 유저, 영화 제목 indexing\n",
    "user_to_idx = {v:k for k,v in enumerate(user_unique)}\n",
    "title_to_idx = {v:k for k,v in enumerate(title_unique)}\n",
    "\n",
    "# 인덱싱이 잘 되었는지 확인 \n",
    "print(user_to_idx['soyeong']) \n",
    "print(title_to_idx['Toy Story (1995)']) "
   ]
  },
  {
   "cell_type": "code",
   "execution_count": 14,
   "id": "b9ed0db4",
   "metadata": {},
   "outputs": [
    {
     "name": "stdout",
     "output_type": "stream",
     "text": [
      "user_id column indexing OK!!\n",
      "title column indexing OK!!\n"
     ]
    },
    {
     "data": {
      "text/html": [
       "<div>\n",
       "<style scoped>\n",
       "    .dataframe tbody tr th:only-of-type {\n",
       "        vertical-align: middle;\n",
       "    }\n",
       "\n",
       "    .dataframe tbody tr th {\n",
       "        vertical-align: top;\n",
       "    }\n",
       "\n",
       "    .dataframe thead th {\n",
       "        text-align: right;\n",
       "    }\n",
       "</style>\n",
       "<table border=\"1\" class=\"dataframe\">\n",
       "  <thead>\n",
       "    <tr style=\"text-align: right;\">\n",
       "      <th></th>\n",
       "      <th>user_id</th>\n",
       "      <th>title</th>\n",
       "      <th>counts</th>\n",
       "    </tr>\n",
       "  </thead>\n",
       "  <tbody>\n",
       "    <tr>\n",
       "      <th>0</th>\n",
       "      <td>0</td>\n",
       "      <td>0</td>\n",
       "      <td>5</td>\n",
       "    </tr>\n",
       "    <tr>\n",
       "      <th>1</th>\n",
       "      <td>1</td>\n",
       "      <td>0</td>\n",
       "      <td>4</td>\n",
       "    </tr>\n",
       "    <tr>\n",
       "      <th>2</th>\n",
       "      <td>2</td>\n",
       "      <td>0</td>\n",
       "      <td>4</td>\n",
       "    </tr>\n",
       "    <tr>\n",
       "      <th>3</th>\n",
       "      <td>3</td>\n",
       "      <td>0</td>\n",
       "      <td>5</td>\n",
       "    </tr>\n",
       "    <tr>\n",
       "      <th>4</th>\n",
       "      <td>4</td>\n",
       "      <td>0</td>\n",
       "      <td>5</td>\n",
       "    </tr>\n",
       "    <tr>\n",
       "      <th>...</th>\n",
       "      <td>...</td>\n",
       "      <td>...</td>\n",
       "      <td>...</td>\n",
       "    </tr>\n",
       "    <tr>\n",
       "      <th>0</th>\n",
       "      <td>6039</td>\n",
       "      <td>0</td>\n",
       "      <td>5</td>\n",
       "    </tr>\n",
       "    <tr>\n",
       "      <th>1</th>\n",
       "      <td>6039</td>\n",
       "      <td>2084</td>\n",
       "      <td>5</td>\n",
       "    </tr>\n",
       "    <tr>\n",
       "      <th>2</th>\n",
       "      <td>6039</td>\n",
       "      <td>1514</td>\n",
       "      <td>5</td>\n",
       "    </tr>\n",
       "    <tr>\n",
       "      <th>3</th>\n",
       "      <td>6039</td>\n",
       "      <td>2845</td>\n",
       "      <td>5</td>\n",
       "    </tr>\n",
       "    <tr>\n",
       "      <th>4</th>\n",
       "      <td>6039</td>\n",
       "      <td>350</td>\n",
       "      <td>5</td>\n",
       "    </tr>\n",
       "  </tbody>\n",
       "</table>\n",
       "<p>836483 rows × 3 columns</p>\n",
       "</div>"
      ],
      "text/plain": [
       "    user_id  title  counts\n",
       "0         0      0       5\n",
       "1         1      0       4\n",
       "2         2      0       4\n",
       "3         3      0       5\n",
       "4         4      0       5\n",
       "..      ...    ...     ...\n",
       "0      6039      0       5\n",
       "1      6039   2084       5\n",
       "2      6039   1514       5\n",
       "3      6039   2845       5\n",
       "4      6039    350       5\n",
       "\n",
       "[836483 rows x 3 columns]"
      ]
     },
     "execution_count": 14,
     "metadata": {},
     "output_type": "execute_result"
    }
   ],
   "source": [
    "temp_user_data = data['user_id'].map(user_to_idx.get).dropna()\n",
    "if len(temp_user_data) == len(data):\n",
    "    print('user_id column indexing OK!!')\n",
    "    data['user_id'] = temp_user_data  \n",
    "else:\n",
    "    print('user_id column indexing Fail!!')\n",
    "\n",
    "temp_title_data = data['title'].map(title_to_idx.get).dropna()\n",
    "if len(temp_title_data) == len(data):\n",
    "    print('title column indexing OK!!')\n",
    "    data['title'] = temp_title_data\n",
    "else:\n",
    "    print('title column indexing Fail!!')\n",
    "\n",
    "data"
   ]
  },
  {
   "cell_type": "markdown",
   "id": "02c294fd",
   "metadata": {},
   "source": [
    "## 4. CSR matrix"
   ]
  },
  {
   "cell_type": "code",
   "execution_count": 15,
   "id": "93d75c88",
   "metadata": {},
   "outputs": [
    {
     "data": {
      "text/plain": [
       "<6040x3628 sparse matrix of type '<class 'numpy.int64'>'\n",
       "\twith 836483 stored elements in Compressed Sparse Row format>"
      ]
     },
     "execution_count": 15,
     "metadata": {},
     "output_type": "execute_result"
    }
   ],
   "source": [
    "num_user = data['user_id'].nunique()\n",
    "num_title = data['title'].nunique()\n",
    "\n",
    "csr_data = csr_matrix((data.counts, (data.user_id, data.title)), shape= (num_user, num_title))\n",
    "csr_data"
   ]
  },
  {
   "cell_type": "markdown",
   "id": "623137ea",
   "metadata": {},
   "source": [
    "## 5. MF 모델 학습\n",
    "- ALS (Alternating Least Squares) 사용"
   ]
  },
  {
   "cell_type": "code",
   "execution_count": 16,
   "id": "c30ac741",
   "metadata": {},
   "outputs": [],
   "source": [
    "os.environ['OPENBLAS_NUM_THREADS']='1'\n",
    "os.environ['KMP_DUPLICATE_LIB_OK']='True'\n",
    "os.environ['MKL_NUM_THREADS']='1'"
   ]
  },
  {
   "cell_type": "code",
   "execution_count": 17,
   "id": "8e035a4b",
   "metadata": {},
   "outputs": [],
   "source": [
    "# 모델 선언\n",
    "als_model = AlternatingLeastSquares(factors=300, regularization=0.01, use_gpu=False, iterations=30, dtype=np.float32)"
   ]
  },
  {
   "cell_type": "code",
   "execution_count": 18,
   "id": "6c42c84d",
   "metadata": {},
   "outputs": [
    {
     "data": {
      "text/plain": [
       "<3628x6040 sparse matrix of type '<class 'numpy.int64'>'\n",
       "\twith 836483 stored elements in Compressed Sparse Column format>"
      ]
     },
     "execution_count": 18,
     "metadata": {},
     "output_type": "execute_result"
    }
   ],
   "source": [
    "# als 모델은 input으로 (item X user 꼴의 matrix를 받기 때문에 Transpose해준다.)\n",
    "csr_data_transpose = csr_data.T\n",
    "csr_data_transpose"
   ]
  },
  {
   "cell_type": "code",
   "execution_count": 19,
   "id": "da7fa4f6",
   "metadata": {},
   "outputs": [
    {
     "data": {
      "application/vnd.jupyter.widget-view+json": {
       "model_id": "528952396eb7453497c58a5cd8286ab1",
       "version_major": 2,
       "version_minor": 0
      },
      "text/plain": [
       "  0%|          | 0/30 [00:00<?, ?it/s]"
      ]
     },
     "metadata": {},
     "output_type": "display_data"
    }
   ],
   "source": [
    "# 모델 훈련\n",
    "als_model.fit(csr_data_transpose)"
   ]
  },
  {
   "cell_type": "markdown",
   "id": "d5f9358f",
   "metadata": {},
   "source": [
    "## 6. 나의 선호도 파악"
   ]
  },
  {
   "cell_type": "code",
   "execution_count": 20,
   "id": "e92ac014",
   "metadata": {},
   "outputs": [],
   "source": [
    "soyeong, toy_story = user_to_idx[\"soyeong\"], title_to_idx[\"Toy Story (1995)\"]\n",
    "\n",
    "soyeong_vector, toy_story_vector = als_model.user_factors[soyeong], als_model.item_factors[toy_story]"
   ]
  },
  {
   "cell_type": "code",
   "execution_count": 21,
   "id": "40446184",
   "metadata": {},
   "outputs": [
    {
     "data": {
      "text/plain": [
       "array([ 4.95051235e-01, -1.28993496e-01, -3.05350304e-01,  1.84229463e-01,\n",
       "       -4.71477598e-01,  1.79344997e-01, -6.03165589e-02, -9.10841972e-02,\n",
       "       -3.04145068e-01,  2.07532924e-02,  1.04689442e-01,  1.01477087e-01,\n",
       "        7.17327371e-02, -1.08596407e-01,  2.36286148e-01,  3.64758134e-01,\n",
       "        6.62290275e-01, -4.03824925e-01,  9.14487697e-04,  1.62008554e-01,\n",
       "        8.61241102e-01,  2.28964344e-01, -1.91724643e-01, -4.36233610e-01,\n",
       "       -8.38745892e-01, -3.02895516e-01, -1.23656057e-01,  8.70488808e-02,\n",
       "       -1.17123574e-01, -5.69056332e-01, -1.84489533e-01,  4.41144407e-01,\n",
       "        2.20572472e-01, -4.44786876e-01,  7.74650514e-01, -1.67753369e-01,\n",
       "       -1.20355375e-01,  5.91404885e-02, -2.22167507e-01,  3.81161004e-01,\n",
       "        2.38925088e-02, -5.05977750e-01, -7.69670978e-02, -1.86990470e-01,\n",
       "       -5.22318073e-02, -3.83317977e-01,  4.50285137e-01,  4.88729104e-02,\n",
       "        3.21333408e-02,  1.52075425e-01,  2.58306175e-01,  4.29145154e-03,\n",
       "       -2.77757078e-01,  3.74552727e-01, -4.09823745e-01,  1.92993909e-01,\n",
       "       -3.22028875e-01, -5.06527305e-01, -1.19942538e-01, -7.75247514e-01,\n",
       "        8.66379589e-02, -7.36634359e-02,  7.32850432e-01,  4.30387765e-01,\n",
       "        1.08021058e-01, -6.19771659e-01,  9.36573446e-02,  1.66494086e-01,\n",
       "       -3.23794559e-02,  1.85546383e-01, -1.72447525e-02,  2.89159328e-01,\n",
       "       -4.86415029e-02,  2.72255987e-01, -7.01605737e-01, -1.01881057e-01,\n",
       "        1.11103788e-01, -1.88642219e-01,  1.33667752e-01, -4.49382007e-01,\n",
       "        4.76409048e-01, -5.67772537e-02,  5.32286316e-02, -7.34241530e-02,\n",
       "       -2.92394668e-01, -9.07686427e-02, -1.81739982e-02, -1.16549216e-01,\n",
       "       -2.49185234e-01,  3.78214300e-01,  1.01162896e-01,  4.28364635e-01,\n",
       "        3.23546864e-02, -7.32550979e-01,  1.96193665e-01, -2.61147320e-01,\n",
       "        2.16790199e-01,  5.81212521e-01, -1.51477009e-01, -4.22776822e-04,\n",
       "        5.62962949e-01,  1.71119109e-01,  8.43312999e-04,  1.91502497e-01,\n",
       "        1.78299189e-01, -1.95887715e-01,  3.30753267e-01,  1.31744877e-01,\n",
       "       -5.27486056e-02, -1.71454862e-01, -3.39914531e-01, -1.49147213e-01,\n",
       "        3.89331907e-01, -4.97673959e-01,  2.42623612e-01, -1.71345949e-01,\n",
       "       -5.00525713e-01,  1.20543279e-01, -1.46756291e-01, -8.66594762e-02,\n",
       "       -4.19354737e-01, -3.64820063e-01, -1.61177963e-01,  6.13237262e-01,\n",
       "       -8.05092975e-02, -1.77607939e-01, -1.38798507e-03, -1.29124731e-01,\n",
       "        4.24770236e-01, -3.12529027e-01, -4.18091178e-01,  2.20157444e-01,\n",
       "        1.14291243e-01,  1.59227893e-01,  1.98402703e-01, -4.60235290e-02,\n",
       "       -1.27083585e-01,  4.52903152e-01, -1.62868693e-01,  2.52880603e-01,\n",
       "       -4.77493741e-02, -6.07761383e-01, -2.94091344e-01, -3.65180999e-01,\n",
       "        2.86379963e-01, -3.91817153e-01, -4.49905694e-01,  2.57739455e-01,\n",
       "       -5.59503138e-01, -5.24081647e-01,  2.83348765e-02,  3.47189814e-01,\n",
       "       -4.72335517e-02,  1.31856665e-01, -7.05896839e-02,  6.16357863e-01,\n",
       "        1.62270129e-01,  3.01926643e-01,  4.00467098e-01,  6.19459927e-01,\n",
       "        2.28117138e-01,  4.11857128e-01,  2.65527368e-01, -2.59274602e-01,\n",
       "       -4.84656449e-03,  1.51186779e-01, -2.88337301e-02,  3.04784328e-01,\n",
       "        3.17816913e-01, -3.89388740e-01, -1.27974942e-01, -3.60389918e-01,\n",
       "        5.49554937e-02, -3.80224474e-02,  5.87866418e-02,  2.06926852e-01,\n",
       "       -5.84313236e-02, -9.24942493e-02, -1.14713244e-01,  4.04306173e-01,\n",
       "       -1.22622214e-01,  4.29606251e-02,  1.79403760e-02,  1.72182262e-01,\n",
       "        2.26315215e-01,  2.07694829e-01, -4.02558774e-01,  4.25881296e-01,\n",
       "       -2.43660688e-01,  5.41294992e-01, -3.75356860e-02,  3.26939076e-01,\n",
       "        9.61564034e-02, -2.41702989e-01,  3.46226022e-02, -6.71501160e-01,\n",
       "        9.19856653e-02, -2.36153528e-01,  1.92431062e-02,  4.22680080e-02,\n",
       "       -5.79678640e-02,  2.88086627e-02, -4.31589961e-01, -1.16906956e-01,\n",
       "       -3.88152093e-01,  1.53254988e-02,  4.09619004e-01,  2.13648573e-01,\n",
       "        1.29029647e-01, -1.06089137e-01, -3.64521831e-01,  1.00348815e-01,\n",
       "        2.04881832e-01,  8.38509440e-01,  2.38418296e-01,  5.87908737e-02,\n",
       "       -3.04327548e-01, -9.32135433e-02,  1.23106942e-01, -1.02292538e-01,\n",
       "       -4.08747420e-02, -4.63738889e-01,  5.35098374e-01,  2.79158711e-01,\n",
       "       -4.92574990e-01, -7.97363892e-02,  6.22649193e-01, -1.00048646e-01,\n",
       "       -1.14499144e-01,  1.66068971e-01, -2.16733515e-01,  8.08348656e-01,\n",
       "        6.05761409e-02, -5.10338068e-01,  2.35065177e-01, -2.51125157e-01,\n",
       "       -3.46186385e-02,  9.15143639e-02,  1.92505434e-01, -2.32515514e-01,\n",
       "       -5.46319067e-01, -2.14625567e-01,  3.75268131e-01, -1.75378367e-01,\n",
       "        8.05630386e-01,  5.40533243e-03,  2.05882505e-01,  1.69472039e-01,\n",
       "        4.39001441e-01,  2.97365576e-01, -1.17979363e-01, -4.80978012e-01,\n",
       "        7.32772471e-03, -4.11822617e-01,  6.10389590e-01, -7.57005764e-03,\n",
       "       -2.73727387e-01, -3.20955575e-01, -3.25689286e-01, -4.83340204e-01,\n",
       "       -1.28050800e-02,  6.84815347e-01,  7.46949986e-02,  1.01976216e-01,\n",
       "        1.66483730e-01,  2.04067484e-01, -2.82985806e-01,  2.46883050e-01,\n",
       "        3.93127769e-01,  1.14692105e-02,  2.67865270e-01, -1.35824323e-01,\n",
       "       -1.74545780e-01,  2.64027387e-01, -2.31157497e-01,  1.74178660e-01,\n",
       "       -2.18035057e-01, -7.12966025e-02,  7.31354346e-04,  3.74894440e-01,\n",
       "       -2.11075111e-03, -2.82911301e-01, -1.15824871e-01, -1.19937859e-01,\n",
       "        4.15616296e-02, -3.56214315e-01,  1.11397065e-01,  2.56553888e-01,\n",
       "        3.62761915e-02, -1.48582742e-01, -3.58752497e-02, -2.79988870e-02,\n",
       "        2.96103567e-01, -4.10834402e-01,  2.29040608e-02, -4.44002599e-02,\n",
       "        3.86954188e-01, -4.46675688e-01,  2.90188998e-01, -1.71134830e-01],\n",
       "      dtype=float32)"
      ]
     },
     "execution_count": 21,
     "metadata": {},
     "output_type": "execute_result"
    }
   ],
   "source": [
    "soyeong_vector"
   ]
  },
  {
   "cell_type": "code",
   "execution_count": 22,
   "id": "17713dea",
   "metadata": {},
   "outputs": [
    {
     "data": {
      "text/plain": [
       "array([ 2.52168681e-02, -1.58746541e-03, -1.19246291e-02,  2.26705987e-02,\n",
       "        6.04182307e-04,  3.25270859e-03,  1.23828491e-02, -1.44051742e-02,\n",
       "        1.31014157e-02, -2.21344884e-02,  1.06206127e-02,  2.24387683e-02,\n",
       "       -2.43929075e-03,  1.67114718e-03,  1.24537572e-02,  2.98927855e-02,\n",
       "        3.31712849e-02,  8.11032671e-03,  3.95060629e-02, -9.86091327e-03,\n",
       "        2.91005224e-02,  3.64965089e-02,  1.21319694e-02,  2.91423197e-03,\n",
       "       -4.08412814e-02, -2.71479487e-02, -4.45987750e-03,  2.02973224e-02,\n",
       "       -6.81105210e-03, -3.89305428e-02, -1.94082875e-03,  1.08393263e-02,\n",
       "        1.32187214e-02, -3.47698443e-02,  1.58060566e-02, -1.27871362e-02,\n",
       "        1.17232082e-02,  4.22341051e-03,  4.41566750e-04,  1.93621293e-02,\n",
       "       -1.12591428e-03, -9.56149772e-03,  5.37085580e-03,  8.41210131e-03,\n",
       "       -1.01212040e-02, -2.42170338e-02, -2.05530250e-03,  1.60018429e-02,\n",
       "       -7.66364392e-03, -1.64587423e-02,  1.58251394e-02, -5.87527780e-03,\n",
       "       -4.30398062e-03,  1.69794150e-02, -9.52319335e-03,  2.88466122e-02,\n",
       "       -2.54593883e-03, -3.84466350e-02, -2.96575092e-02, -1.76924840e-02,\n",
       "       -2.98461150e-02,  1.33413244e-02,  8.62090290e-03,  1.07509028e-02,\n",
       "        9.72621422e-03, -3.41522768e-02,  2.15925220e-02,  7.78541574e-03,\n",
       "        1.90278906e-02, -3.59327570e-02,  1.18547836e-02, -2.44169816e-04,\n",
       "        1.51648484e-02,  8.14845413e-03, -1.74490027e-02,  1.26046734e-02,\n",
       "        1.21585662e-02, -2.81314813e-02,  1.65223777e-02,  2.10404918e-02,\n",
       "        2.11018194e-02,  8.14695843e-03,  3.41911335e-03,  1.77459978e-02,\n",
       "        1.78282324e-03,  3.01745883e-03,  1.31476889e-04,  5.41511551e-03,\n",
       "        8.25663004e-03,  2.44095810e-02, -1.44182863e-02,  9.41667054e-03,\n",
       "       -2.51798742e-02, -1.36564812e-02,  9.15301964e-03,  4.52948036e-03,\n",
       "        1.79991312e-02,  2.50208173e-02, -6.80130208e-03, -1.98600218e-02,\n",
       "        5.77201024e-02, -2.06462131e-03,  1.06758624e-02,  3.30944285e-02,\n",
       "        9.92184971e-03,  1.81447975e-02, -3.29760425e-02, -2.14860607e-02,\n",
       "        1.26299039e-02, -2.03239527e-02,  1.38512999e-03,  6.92172023e-03,\n",
       "        2.46429574e-02,  1.21941566e-02,  7.24613387e-03,  1.85568910e-02,\n",
       "        2.36701150e-03,  2.94062868e-02, -6.75906893e-03,  1.14531210e-02,\n",
       "       -8.29829834e-03,  8.21730215e-03,  6.60637766e-03,  1.00262109e-02,\n",
       "       -1.25289066e-02, -5.41184470e-03, -2.27136444e-02, -5.37463115e-04,\n",
       "        4.49761562e-02, -1.06766066e-02, -8.29573721e-03,  3.21676470e-02,\n",
       "        2.61590853e-02, -1.24844036e-03,  5.91542944e-03,  3.54989171e-02,\n",
       "        5.79339359e-03,  7.84128718e-03, -4.27768752e-03,  2.41224281e-02,\n",
       "        2.18988815e-03, -1.41028911e-02, -3.08926739e-02,  8.34983680e-03,\n",
       "       -7.55409291e-03, -1.77850276e-02, -2.71474067e-02,  5.27005363e-03,\n",
       "       -1.10350456e-02, -2.11531036e-02,  2.12199707e-02,  3.07676345e-02,\n",
       "        6.05089869e-03,  2.03960463e-02,  2.91790254e-02,  2.08184160e-02,\n",
       "       -1.38366614e-02,  2.94324048e-02,  3.36500667e-02,  2.29551680e-02,\n",
       "        1.48996329e-02,  1.74212363e-02,  2.95809861e-02, -1.72911100e-02,\n",
       "        1.58774629e-02,  1.27533032e-02, -1.15505643e-02,  1.13988845e-02,\n",
       "       -1.39643755e-02, -4.25502881e-02, -5.12809539e-03, -2.39028101e-04,\n",
       "        1.02605652e-02, -1.05974115e-02,  2.24312721e-03,  7.06809852e-03,\n",
       "       -5.03074704e-03, -1.63242556e-02,  8.61428771e-03,  8.79138801e-03,\n",
       "        2.19757156e-03,  1.97190885e-02, -1.23327617e-02,  3.17291208e-02,\n",
       "        4.08031186e-03,  2.28385497e-02, -1.52585320e-02,  1.37521001e-03,\n",
       "        1.05480608e-02,  8.59138370e-03,  5.37077524e-03,  6.25899411e-05,\n",
       "       -5.32577373e-03,  8.00539646e-03,  1.38518251e-02, -3.76669839e-02,\n",
       "        1.74430422e-02,  1.03072366e-02, -3.91522376e-03,  1.10792331e-02,\n",
       "       -1.86248347e-02,  1.69056642e-03,  1.21721963e-03, -5.89750661e-03,\n",
       "        2.08740253e-02, -4.51405672e-03,  1.66306067e-02,  1.13851717e-02,\n",
       "        5.04087191e-03,  1.66593604e-02,  7.16987997e-03, -1.00438800e-02,\n",
       "       -3.03192157e-03,  2.45856252e-02,  1.12006152e-02,  1.11756716e-02,\n",
       "        7.58718280e-03, -5.28374687e-03, -1.75023079e-02, -1.79639366e-02,\n",
       "        7.95463007e-03, -2.05965862e-02,  2.37626787e-02,  8.36795103e-03,\n",
       "       -3.45946569e-03,  1.47020062e-02, -1.66877825e-03,  1.42372694e-04,\n",
       "        1.37766097e-02,  5.05003333e-02, -1.55919539e-02,  3.27450708e-02,\n",
       "        2.09730119e-03, -8.13669525e-03,  1.96332298e-02,  1.22288548e-04,\n",
       "       -4.51443996e-03,  1.99582539e-02, -6.89460896e-03, -1.00508109e-02,\n",
       "        1.99700100e-03,  8.09585676e-03,  2.40708850e-02, -1.32480720e-02,\n",
       "        6.13131337e-02, -7.88250379e-03,  4.37315181e-03,  3.43653671e-02,\n",
       "        2.72278599e-02,  1.88713614e-02,  2.38561295e-02, -1.14146096e-03,\n",
       "       -3.83903459e-03, -2.01147725e-03,  2.65628248e-02, -2.67027523e-02,\n",
       "        1.07709216e-02, -1.35292746e-02,  1.21276788e-02,  5.43170050e-03,\n",
       "        2.26383712e-02,  4.67244983e-02,  1.60715019e-03,  1.66266765e-02,\n",
       "        2.14619488e-02,  2.54236422e-02,  1.37148220e-02, -2.34534983e-02,\n",
       "        2.56214701e-02,  2.43559331e-02,  1.22349374e-02, -3.06531927e-03,\n",
       "        1.53100928e-02,  2.89084390e-02, -2.44035805e-03, -1.22185024e-02,\n",
       "       -7.50952680e-03,  6.37528440e-03,  1.27374958e-02,  1.63741615e-02,\n",
       "        3.19801504e-03,  1.09766042e-02, -5.78050595e-03,  1.01959277e-02,\n",
       "        2.27572210e-02, -3.84895727e-02, -2.22203657e-02,  1.74009483e-02,\n",
       "        2.64913626e-02,  1.18672960e-02,  1.61647107e-02, -1.59516465e-03,\n",
       "        3.01090325e-03, -2.49796845e-02,  2.84135882e-02,  1.42700337e-02,\n",
       "        1.52950315e-03, -2.78916233e-03,  1.66228376e-02,  4.74666944e-03],\n",
       "      dtype=float32)"
      ]
     },
     "execution_count": 22,
     "metadata": {},
     "output_type": "execute_result"
    }
   ],
   "source": [
    "toy_story_vector"
   ]
  },
  {
   "cell_type": "code",
   "execution_count": 23,
   "id": "bd0ad325",
   "metadata": {},
   "outputs": [
    {
     "data": {
      "text/plain": [
       "0.8949164"
      ]
     },
     "execution_count": 23,
     "metadata": {},
     "output_type": "execute_result"
    }
   ],
   "source": [
    "np.dot(soyeong_vector, toy_story_vector)"
   ]
  },
  {
   "cell_type": "markdown",
   "id": "b78ac941",
   "metadata": {},
   "source": [
    "## 7. 내가 좋아하는 영화와 비슷한 영화 추천 받기\n",
    "- 옛날 영화를 잘 몰라서 `movies` 데이터프레임에서 장르까지 가져와서 비교해보았다..."
   ]
  },
  {
   "cell_type": "code",
   "execution_count": 24,
   "id": "d171e06c",
   "metadata": {},
   "outputs": [],
   "source": [
    "idx_to_title = {v:k for k,v in title_to_idx.items()}\n",
    "\n",
    "def get_similar_movie(movie_name: str):\n",
    "    movie_id = title_to_idx[movie_name]\n",
    "    similar_movie = als_model.similar_items(movie_id)\n",
    "    similar_movie = [idx_to_title[i[0]] for i in similar_movie]\n",
    "    return similar_movie"
   ]
  },
  {
   "cell_type": "code",
   "execution_count": 41,
   "id": "83815467",
   "metadata": {},
   "outputs": [
    {
     "data": {
      "text/plain": [
       "['Toy Story 2 (1999)',\n",
       " 'Toy Story (1995)',\n",
       " \"Bug's Life, A (1998)\",\n",
       " 'Tigger Movie, The (2000)',\n",
       " 'Screwed (2000)',\n",
       " 'Careful (1992)',\n",
       " 'Big Bully (1996)',\n",
       " 'Amityville Curse, The (1990)',\n",
       " 'Paris, France (1993)',\n",
       " 'Air Bud: Golden Receiver (1998)']"
      ]
     },
     "execution_count": 41,
     "metadata": {},
     "output_type": "execute_result"
    }
   ],
   "source": [
    "get_similar_movie(\"Toy Story 2 (1999)\")"
   ]
  },
  {
   "cell_type": "code",
   "execution_count": 36,
   "id": "f15ded3f",
   "metadata": {},
   "outputs": [
    {
     "data": {
      "text/html": [
       "<div>\n",
       "<style scoped>\n",
       "    .dataframe tbody tr th:only-of-type {\n",
       "        vertical-align: middle;\n",
       "    }\n",
       "\n",
       "    .dataframe tbody tr th {\n",
       "        vertical-align: top;\n",
       "    }\n",
       "\n",
       "    .dataframe thead th {\n",
       "        text-align: right;\n",
       "    }\n",
       "</style>\n",
       "<table border=\"1\" class=\"dataframe\">\n",
       "  <thead>\n",
       "    <tr style=\"text-align: right;\">\n",
       "      <th></th>\n",
       "      <th>movie_id</th>\n",
       "      <th>title</th>\n",
       "      <th>genre</th>\n",
       "    </tr>\n",
       "  </thead>\n",
       "  <tbody>\n",
       "    <tr>\n",
       "      <th>0</th>\n",
       "      <td>1</td>\n",
       "      <td>Toy Story (1995)</td>\n",
       "      <td>Animation|Children's|Comedy</td>\n",
       "    </tr>\n",
       "    <tr>\n",
       "      <th>74</th>\n",
       "      <td>75</td>\n",
       "      <td>Big Bully (1996)</td>\n",
       "      <td>Comedy|Drama</td>\n",
       "    </tr>\n",
       "    <tr>\n",
       "      <th>555</th>\n",
       "      <td>559</td>\n",
       "      <td>Paris, France (1993)</td>\n",
       "      <td>Comedy</td>\n",
       "    </tr>\n",
       "    <tr>\n",
       "      <th>741</th>\n",
       "      <td>751</td>\n",
       "      <td>Careful (1992)</td>\n",
       "      <td>Comedy</td>\n",
       "    </tr>\n",
       "    <tr>\n",
       "      <th>1308</th>\n",
       "      <td>1328</td>\n",
       "      <td>Amityville Curse, The (1990)</td>\n",
       "      <td>Horror</td>\n",
       "    </tr>\n",
       "    <tr>\n",
       "      <th>2083</th>\n",
       "      <td>2152</td>\n",
       "      <td>Air Bud: Golden Receiver (1998)</td>\n",
       "      <td>Children's|Comedy</td>\n",
       "    </tr>\n",
       "    <tr>\n",
       "      <th>2286</th>\n",
       "      <td>2355</td>\n",
       "      <td>Bug's Life, A (1998)</td>\n",
       "      <td>Animation|Children's|Comedy</td>\n",
       "    </tr>\n",
       "    <tr>\n",
       "      <th>3045</th>\n",
       "      <td>3114</td>\n",
       "      <td>Toy Story 2 (1999)</td>\n",
       "      <td>Animation|Children's|Comedy</td>\n",
       "    </tr>\n",
       "    <tr>\n",
       "      <th>3218</th>\n",
       "      <td>3287</td>\n",
       "      <td>Tigger Movie, The (2000)</td>\n",
       "      <td>Animation|Children's</td>\n",
       "    </tr>\n",
       "    <tr>\n",
       "      <th>3527</th>\n",
       "      <td>3596</td>\n",
       "      <td>Screwed (2000)</td>\n",
       "      <td>Comedy</td>\n",
       "    </tr>\n",
       "  </tbody>\n",
       "</table>\n",
       "</div>"
      ],
      "text/plain": [
       "      movie_id                            title                        genre\n",
       "0            1                 Toy Story (1995)  Animation|Children's|Comedy\n",
       "74          75                 Big Bully (1996)                 Comedy|Drama\n",
       "555        559             Paris, France (1993)                       Comedy\n",
       "741        751                   Careful (1992)                       Comedy\n",
       "1308      1328     Amityville Curse, The (1990)                       Horror\n",
       "2083      2152  Air Bud: Golden Receiver (1998)            Children's|Comedy\n",
       "2286      2355             Bug's Life, A (1998)  Animation|Children's|Comedy\n",
       "3045      3114               Toy Story 2 (1999)  Animation|Children's|Comedy\n",
       "3218      3287         Tigger Movie, The (2000)         Animation|Children's\n",
       "3527      3596                   Screwed (2000)                       Comedy"
      ]
     },
     "execution_count": 36,
     "metadata": {},
     "output_type": "execute_result"
    }
   ],
   "source": [
    "movies.loc[movies.title.isin(get_similar_movie(\"Toy Story 2 (1999)\"))]"
   ]
  },
  {
   "cell_type": "code",
   "execution_count": 42,
   "id": "09060d5e",
   "metadata": {},
   "outputs": [
    {
     "data": {
      "text/plain": [
       "['Toy Story 2 (1999)',\n",
       " 'Toy Story (1995)',\n",
       " \"Bug's Life, A (1998)\",\n",
       " 'Tigger Movie, The (2000)',\n",
       " 'Screwed (2000)',\n",
       " 'Careful (1992)',\n",
       " 'Big Bully (1996)',\n",
       " 'Amityville Curse, The (1990)',\n",
       " 'Paris, France (1993)',\n",
       " 'Air Bud: Golden Receiver (1998)']"
      ]
     },
     "execution_count": 42,
     "metadata": {},
     "output_type": "execute_result"
    }
   ],
   "source": [
    "get_similar_movie(\"Toy Story 2 (1999)\")"
   ]
  },
  {
   "cell_type": "code",
   "execution_count": 35,
   "id": "c491bac2",
   "metadata": {},
   "outputs": [
    {
     "data": {
      "text/html": [
       "<div>\n",
       "<style scoped>\n",
       "    .dataframe tbody tr th:only-of-type {\n",
       "        vertical-align: middle;\n",
       "    }\n",
       "\n",
       "    .dataframe tbody tr th {\n",
       "        vertical-align: top;\n",
       "    }\n",
       "\n",
       "    .dataframe thead th {\n",
       "        text-align: right;\n",
       "    }\n",
       "</style>\n",
       "<table border=\"1\" class=\"dataframe\">\n",
       "  <thead>\n",
       "    <tr style=\"text-align: right;\">\n",
       "      <th></th>\n",
       "      <th>movie_id</th>\n",
       "      <th>title</th>\n",
       "      <th>genre</th>\n",
       "    </tr>\n",
       "  </thead>\n",
       "  <tbody>\n",
       "    <tr>\n",
       "      <th>0</th>\n",
       "      <td>1</td>\n",
       "      <td>Toy Story (1995)</td>\n",
       "      <td>Animation|Children's|Comedy</td>\n",
       "    </tr>\n",
       "    <tr>\n",
       "      <th>74</th>\n",
       "      <td>75</td>\n",
       "      <td>Big Bully (1996)</td>\n",
       "      <td>Comedy|Drama</td>\n",
       "    </tr>\n",
       "    <tr>\n",
       "      <th>555</th>\n",
       "      <td>559</td>\n",
       "      <td>Paris, France (1993)</td>\n",
       "      <td>Comedy</td>\n",
       "    </tr>\n",
       "    <tr>\n",
       "      <th>741</th>\n",
       "      <td>751</td>\n",
       "      <td>Careful (1992)</td>\n",
       "      <td>Comedy</td>\n",
       "    </tr>\n",
       "    <tr>\n",
       "      <th>1308</th>\n",
       "      <td>1328</td>\n",
       "      <td>Amityville Curse, The (1990)</td>\n",
       "      <td>Horror</td>\n",
       "    </tr>\n",
       "    <tr>\n",
       "      <th>2083</th>\n",
       "      <td>2152</td>\n",
       "      <td>Air Bud: Golden Receiver (1998)</td>\n",
       "      <td>Children's|Comedy</td>\n",
       "    </tr>\n",
       "    <tr>\n",
       "      <th>2286</th>\n",
       "      <td>2355</td>\n",
       "      <td>Bug's Life, A (1998)</td>\n",
       "      <td>Animation|Children's|Comedy</td>\n",
       "    </tr>\n",
       "    <tr>\n",
       "      <th>3045</th>\n",
       "      <td>3114</td>\n",
       "      <td>Toy Story 2 (1999)</td>\n",
       "      <td>Animation|Children's|Comedy</td>\n",
       "    </tr>\n",
       "    <tr>\n",
       "      <th>3218</th>\n",
       "      <td>3287</td>\n",
       "      <td>Tigger Movie, The (2000)</td>\n",
       "      <td>Animation|Children's</td>\n",
       "    </tr>\n",
       "    <tr>\n",
       "      <th>3527</th>\n",
       "      <td>3596</td>\n",
       "      <td>Screwed (2000)</td>\n",
       "      <td>Comedy</td>\n",
       "    </tr>\n",
       "  </tbody>\n",
       "</table>\n",
       "</div>"
      ],
      "text/plain": [
       "      movie_id                            title                        genre\n",
       "0            1                 Toy Story (1995)  Animation|Children's|Comedy\n",
       "74          75                 Big Bully (1996)                 Comedy|Drama\n",
       "555        559             Paris, France (1993)                       Comedy\n",
       "741        751                   Careful (1992)                       Comedy\n",
       "1308      1328     Amityville Curse, The (1990)                       Horror\n",
       "2083      2152  Air Bud: Golden Receiver (1998)            Children's|Comedy\n",
       "2286      2355             Bug's Life, A (1998)  Animation|Children's|Comedy\n",
       "3045      3114               Toy Story 2 (1999)  Animation|Children's|Comedy\n",
       "3218      3287         Tigger Movie, The (2000)         Animation|Children's\n",
       "3527      3596                   Screwed (2000)                       Comedy"
      ]
     },
     "execution_count": 35,
     "metadata": {},
     "output_type": "execute_result"
    }
   ],
   "source": [
    "movies.loc[movies.title.isin(get_similar_movie(\"Toy Story 2 (1999)\"))]"
   ]
  },
  {
   "cell_type": "code",
   "execution_count": 43,
   "id": "20042e4d",
   "metadata": {},
   "outputs": [
    {
     "data": {
      "text/plain": [
       "['Life Is Beautiful (La Vita è bella) (1997)',\n",
       " 'Other Side of Sunday, The (Søndagsengler) (1996)',\n",
       " 'Misérables, Les (1998)',\n",
       " 'Mary Reilly (1996)',\n",
       " 'Commandments (1997)',\n",
       " 'Before the Rain (Pred dozhdot) (1994)',\n",
       " 'Very Thought of You, The (1998)',\n",
       " 'Bitter Sugar (Azucar Amargo) (1996)',\n",
       " 'Snows of Kilimanjaro, The (1952)',\n",
       " 'Nosferatu a Venezia (1986)']"
      ]
     },
     "execution_count": 43,
     "metadata": {},
     "output_type": "execute_result"
    }
   ],
   "source": [
    "get_similar_movie(\"Life Is Beautiful (La Vita è bella) (1997)\")"
   ]
  },
  {
   "cell_type": "code",
   "execution_count": 37,
   "id": "456f50f1",
   "metadata": {
    "scrolled": true
   },
   "outputs": [
    {
     "data": {
      "text/html": [
       "<div>\n",
       "<style scoped>\n",
       "    .dataframe tbody tr th:only-of-type {\n",
       "        vertical-align: middle;\n",
       "    }\n",
       "\n",
       "    .dataframe tbody tr th {\n",
       "        vertical-align: top;\n",
       "    }\n",
       "\n",
       "    .dataframe thead th {\n",
       "        text-align: right;\n",
       "    }\n",
       "</style>\n",
       "<table border=\"1\" class=\"dataframe\">\n",
       "  <thead>\n",
       "    <tr style=\"text-align: right;\">\n",
       "      <th></th>\n",
       "      <th>movie_id</th>\n",
       "      <th>title</th>\n",
       "      <th>genre</th>\n",
       "    </tr>\n",
       "  </thead>\n",
       "  <tbody>\n",
       "    <tr>\n",
       "      <th>90</th>\n",
       "      <td>92</td>\n",
       "      <td>Mary Reilly (1996)</td>\n",
       "      <td>Drama|Thriller</td>\n",
       "    </tr>\n",
       "    <tr>\n",
       "      <th>212</th>\n",
       "      <td>214</td>\n",
       "      <td>Before the Rain (Pred dozhdot) (1994)</td>\n",
       "      <td>Drama</td>\n",
       "    </tr>\n",
       "    <tr>\n",
       "      <th>1044</th>\n",
       "      <td>1058</td>\n",
       "      <td>Bitter Sugar (Azucar Amargo) (1996)</td>\n",
       "      <td>Drama</td>\n",
       "    </tr>\n",
       "    <tr>\n",
       "      <th>1328</th>\n",
       "      <td>1349</td>\n",
       "      <td>Nosferatu a Venezia (1986)</td>\n",
       "      <td>Horror</td>\n",
       "    </tr>\n",
       "    <tr>\n",
       "      <th>1485</th>\n",
       "      <td>1520</td>\n",
       "      <td>Commandments (1997)</td>\n",
       "      <td>Romance</td>\n",
       "    </tr>\n",
       "    <tr>\n",
       "      <th>1804</th>\n",
       "      <td>1873</td>\n",
       "      <td>Misérables, Les (1998)</td>\n",
       "      <td>Drama</td>\n",
       "    </tr>\n",
       "    <tr>\n",
       "      <th>2255</th>\n",
       "      <td>2324</td>\n",
       "      <td>Life Is Beautiful (La Vita è bella) (1997)</td>\n",
       "      <td>Comedy|Drama</td>\n",
       "    </tr>\n",
       "    <tr>\n",
       "      <th>2765</th>\n",
       "      <td>2834</td>\n",
       "      <td>Very Thought of You, The (1998)</td>\n",
       "      <td>Comedy|Romance</td>\n",
       "    </tr>\n",
       "    <tr>\n",
       "      <th>3138</th>\n",
       "      <td>3207</td>\n",
       "      <td>Snows of Kilimanjaro, The (1952)</td>\n",
       "      <td>Adventure</td>\n",
       "    </tr>\n",
       "    <tr>\n",
       "      <th>3747</th>\n",
       "      <td>3817</td>\n",
       "      <td>Other Side of Sunday, The (Søndagsengler) (1996)</td>\n",
       "      <td>Comedy|Drama</td>\n",
       "    </tr>\n",
       "  </tbody>\n",
       "</table>\n",
       "</div>"
      ],
      "text/plain": [
       "      movie_id                                             title  \\\n",
       "90          92                                Mary Reilly (1996)   \n",
       "212        214             Before the Rain (Pred dozhdot) (1994)   \n",
       "1044      1058               Bitter Sugar (Azucar Amargo) (1996)   \n",
       "1328      1349                        Nosferatu a Venezia (1986)   \n",
       "1485      1520                               Commandments (1997)   \n",
       "1804      1873                            Misérables, Les (1998)   \n",
       "2255      2324        Life Is Beautiful (La Vita è bella) (1997)   \n",
       "2765      2834                   Very Thought of You, The (1998)   \n",
       "3138      3207                  Snows of Kilimanjaro, The (1952)   \n",
       "3747      3817  Other Side of Sunday, The (Søndagsengler) (1996)   \n",
       "\n",
       "               genre  \n",
       "90    Drama|Thriller  \n",
       "212            Drama  \n",
       "1044           Drama  \n",
       "1328          Horror  \n",
       "1485         Romance  \n",
       "1804           Drama  \n",
       "2255    Comedy|Drama  \n",
       "2765  Comedy|Romance  \n",
       "3138       Adventure  \n",
       "3747    Comedy|Drama  "
      ]
     },
     "execution_count": 37,
     "metadata": {},
     "output_type": "execute_result"
    }
   ],
   "source": [
    "movies.loc[movies.title.isin(get_similar_movie(\"Life Is Beautiful (La Vita è bella) (1997)\"))]"
   ]
  },
  {
   "cell_type": "code",
   "execution_count": 44,
   "id": "4e4934c9",
   "metadata": {},
   "outputs": [
    {
     "data": {
      "text/plain": [
       "['Truman Show, The (1998)',\n",
       " 'Fried Green Tomatoes (1991)',\n",
       " 'Apollo 13 (1995)',\n",
       " \"Mr. Holland's Opus (1995)\",\n",
       " 'Maybe, Maybe Not (Bewegte Mann, Der) (1994)',\n",
       " 'Jamaica Inn (1939)',\n",
       " 'Lady of Burlesque (1943)',\n",
       " 'Ashes of Time (1994)',\n",
       " \"Gone Fishin' (1997)\",\n",
       " \"Enfer, L' (1994)\"]"
      ]
     },
     "execution_count": 44,
     "metadata": {},
     "output_type": "execute_result"
    }
   ],
   "source": [
    "get_similar_movie(\"Truman Show, The (1998)\")"
   ]
  },
  {
   "cell_type": "code",
   "execution_count": 40,
   "id": "8d557d9f",
   "metadata": {},
   "outputs": [
    {
     "data": {
      "text/html": [
       "<div>\n",
       "<style scoped>\n",
       "    .dataframe tbody tr th:only-of-type {\n",
       "        vertical-align: middle;\n",
       "    }\n",
       "\n",
       "    .dataframe tbody tr th {\n",
       "        vertical-align: top;\n",
       "    }\n",
       "\n",
       "    .dataframe thead th {\n",
       "        text-align: right;\n",
       "    }\n",
       "</style>\n",
       "<table border=\"1\" class=\"dataframe\">\n",
       "  <thead>\n",
       "    <tr style=\"text-align: right;\">\n",
       "      <th></th>\n",
       "      <th>movie_id</th>\n",
       "      <th>title</th>\n",
       "      <th>genre</th>\n",
       "    </tr>\n",
       "  </thead>\n",
       "  <tbody>\n",
       "    <tr>\n",
       "      <th>61</th>\n",
       "      <td>62</td>\n",
       "      <td>Mr. Holland's Opus (1995)</td>\n",
       "      <td>Drama</td>\n",
       "    </tr>\n",
       "    <tr>\n",
       "      <th>148</th>\n",
       "      <td>150</td>\n",
       "      <td>Apollo 13 (1995)</td>\n",
       "      <td>Drama</td>\n",
       "    </tr>\n",
       "    <tr>\n",
       "      <th>261</th>\n",
       "      <td>264</td>\n",
       "      <td>Enfer, L' (1994)</td>\n",
       "      <td>Drama</td>\n",
       "    </tr>\n",
       "    <tr>\n",
       "      <th>747</th>\n",
       "      <td>757</td>\n",
       "      <td>Ashes of Time (1994)</td>\n",
       "      <td>Drama</td>\n",
       "    </tr>\n",
       "    <tr>\n",
       "      <th>849</th>\n",
       "      <td>860</td>\n",
       "      <td>Maybe, Maybe Not (Bewegte Mann, Der) (1994)</td>\n",
       "      <td>Comedy</td>\n",
       "    </tr>\n",
       "    <tr>\n",
       "      <th>859</th>\n",
       "      <td>870</td>\n",
       "      <td>Gone Fishin' (1997)</td>\n",
       "      <td>Comedy</td>\n",
       "    </tr>\n",
       "    <tr>\n",
       "      <th>946</th>\n",
       "      <td>958</td>\n",
       "      <td>Lady of Burlesque (1943)</td>\n",
       "      <td>Comedy|Mystery</td>\n",
       "    </tr>\n",
       "    <tr>\n",
       "      <th>1251</th>\n",
       "      <td>1271</td>\n",
       "      <td>Fried Green Tomatoes (1991)</td>\n",
       "      <td>Drama</td>\n",
       "    </tr>\n",
       "    <tr>\n",
       "      <th>1636</th>\n",
       "      <td>1682</td>\n",
       "      <td>Truman Show, The (1998)</td>\n",
       "      <td>Drama</td>\n",
       "    </tr>\n",
       "    <tr>\n",
       "      <th>2138</th>\n",
       "      <td>2207</td>\n",
       "      <td>Jamaica Inn (1939)</td>\n",
       "      <td>Drama</td>\n",
       "    </tr>\n",
       "  </tbody>\n",
       "</table>\n",
       "</div>"
      ],
      "text/plain": [
       "      movie_id                                        title           genre\n",
       "61          62                    Mr. Holland's Opus (1995)           Drama\n",
       "148        150                             Apollo 13 (1995)           Drama\n",
       "261        264                             Enfer, L' (1994)           Drama\n",
       "747        757                         Ashes of Time (1994)           Drama\n",
       "849        860  Maybe, Maybe Not (Bewegte Mann, Der) (1994)          Comedy\n",
       "859        870                          Gone Fishin' (1997)          Comedy\n",
       "946        958                     Lady of Burlesque (1943)  Comedy|Mystery\n",
       "1251      1271                  Fried Green Tomatoes (1991)           Drama\n",
       "1636      1682                      Truman Show, The (1998)           Drama\n",
       "2138      2207                           Jamaica Inn (1939)           Drama"
      ]
     },
     "execution_count": 40,
     "metadata": {},
     "output_type": "execute_result"
    }
   ],
   "source": [
    "movies.loc[movies.title.isin(get_similar_movie(\"Truman Show, The (1998)\"))]"
   ]
  },
  {
   "cell_type": "code",
   "execution_count": 45,
   "id": "2ba2c83b",
   "metadata": {},
   "outputs": [
    {
     "data": {
      "text/plain": [
       "['Lion King, The (1994)',\n",
       " 'Beauty and the Beast (1991)',\n",
       " 'Aladdin (1992)',\n",
       " 'Anastasia (1997)',\n",
       " 'Hunchback of Notre Dame, The (1996)',\n",
       " 'Mulan (1998)',\n",
       " 'Antz (1998)',\n",
       " 'Cinderella (1950)',\n",
       " 'Tarzan (1999)',\n",
       " 'Snow White and the Seven Dwarfs (1937)']"
      ]
     },
     "execution_count": 45,
     "metadata": {},
     "output_type": "execute_result"
    }
   ],
   "source": [
    "get_similar_movie(\"Lion King, The (1994)\")"
   ]
  },
  {
   "cell_type": "code",
   "execution_count": 39,
   "id": "718d5214",
   "metadata": {},
   "outputs": [
    {
     "data": {
      "text/html": [
       "<div>\n",
       "<style scoped>\n",
       "    .dataframe tbody tr th:only-of-type {\n",
       "        vertical-align: middle;\n",
       "    }\n",
       "\n",
       "    .dataframe tbody tr th {\n",
       "        vertical-align: top;\n",
       "    }\n",
       "\n",
       "    .dataframe thead th {\n",
       "        text-align: right;\n",
       "    }\n",
       "</style>\n",
       "<table border=\"1\" class=\"dataframe\">\n",
       "  <thead>\n",
       "    <tr style=\"text-align: right;\">\n",
       "      <th></th>\n",
       "      <th>movie_id</th>\n",
       "      <th>title</th>\n",
       "      <th>genre</th>\n",
       "    </tr>\n",
       "  </thead>\n",
       "  <tbody>\n",
       "    <tr>\n",
       "      <th>360</th>\n",
       "      <td>364</td>\n",
       "      <td>Lion King, The (1994)</td>\n",
       "      <td>Animation|Children's|Musical</td>\n",
       "    </tr>\n",
       "    <tr>\n",
       "      <th>584</th>\n",
       "      <td>588</td>\n",
       "      <td>Aladdin (1992)</td>\n",
       "      <td>Animation|Children's|Comedy|Musical</td>\n",
       "    </tr>\n",
       "    <tr>\n",
       "      <th>590</th>\n",
       "      <td>594</td>\n",
       "      <td>Snow White and the Seven Dwarfs (1937)</td>\n",
       "      <td>Animation|Children's|Musical</td>\n",
       "    </tr>\n",
       "    <tr>\n",
       "      <th>591</th>\n",
       "      <td>595</td>\n",
       "      <td>Beauty and the Beast (1991)</td>\n",
       "      <td>Animation|Children's|Musical</td>\n",
       "    </tr>\n",
       "    <tr>\n",
       "      <th>773</th>\n",
       "      <td>783</td>\n",
       "      <td>Hunchback of Notre Dame, The (1996)</td>\n",
       "      <td>Animation|Children's|Musical</td>\n",
       "    </tr>\n",
       "    <tr>\n",
       "      <th>1009</th>\n",
       "      <td>1022</td>\n",
       "      <td>Cinderella (1950)</td>\n",
       "      <td>Animation|Children's|Musical</td>\n",
       "    </tr>\n",
       "    <tr>\n",
       "      <th>1642</th>\n",
       "      <td>1688</td>\n",
       "      <td>Anastasia (1997)</td>\n",
       "      <td>Animation|Children's|Musical</td>\n",
       "    </tr>\n",
       "    <tr>\n",
       "      <th>1838</th>\n",
       "      <td>1907</td>\n",
       "      <td>Mulan (1998)</td>\n",
       "      <td>Animation|Children's</td>\n",
       "    </tr>\n",
       "    <tr>\n",
       "      <th>2225</th>\n",
       "      <td>2294</td>\n",
       "      <td>Antz (1998)</td>\n",
       "      <td>Animation|Children's</td>\n",
       "    </tr>\n",
       "    <tr>\n",
       "      <th>2618</th>\n",
       "      <td>2687</td>\n",
       "      <td>Tarzan (1999)</td>\n",
       "      <td>Animation|Children's</td>\n",
       "    </tr>\n",
       "  </tbody>\n",
       "</table>\n",
       "</div>"
      ],
      "text/plain": [
       "      movie_id                                   title  \\\n",
       "360        364                   Lion King, The (1994)   \n",
       "584        588                          Aladdin (1992)   \n",
       "590        594  Snow White and the Seven Dwarfs (1937)   \n",
       "591        595             Beauty and the Beast (1991)   \n",
       "773        783     Hunchback of Notre Dame, The (1996)   \n",
       "1009      1022                       Cinderella (1950)   \n",
       "1642      1688                        Anastasia (1997)   \n",
       "1838      1907                            Mulan (1998)   \n",
       "2225      2294                             Antz (1998)   \n",
       "2618      2687                           Tarzan (1999)   \n",
       "\n",
       "                                    genre  \n",
       "360          Animation|Children's|Musical  \n",
       "584   Animation|Children's|Comedy|Musical  \n",
       "590          Animation|Children's|Musical  \n",
       "591          Animation|Children's|Musical  \n",
       "773          Animation|Children's|Musical  \n",
       "1009         Animation|Children's|Musical  \n",
       "1642         Animation|Children's|Musical  \n",
       "1838                 Animation|Children's  \n",
       "2225                 Animation|Children's  \n",
       "2618                 Animation|Children's  "
      ]
     },
     "execution_count": 39,
     "metadata": {},
     "output_type": "execute_result"
    }
   ],
   "source": [
    "movies.loc[movies.title.isin(get_similar_movie(\"Lion King, The (1994)\"))]"
   ]
  },
  {
   "cell_type": "markdown",
   "id": "8cd0b450",
   "metadata": {},
   "source": [
    "- 대체로 비슷한 장르의 영화가 유사도가 높게 나온 것을 확인할 수 있다.\n",
    "- 시리즈 영화인 토이스토리의 경우 당연하게도 서로가 유사도가 높게 나온 것을 확인할 수 있다.\n",
    "- 라이온킹의 경우 다른 디즈니 영화가 유사도가 높게 나왔다는 점이 인상 깊다."
   ]
  },
  {
   "cell_type": "markdown",
   "id": "15bc3b69",
   "metadata": {},
   "source": [
    "## 8. 내가 가장 좋아할 만한 영화들 추천 받기"
   ]
  },
  {
   "cell_type": "code",
   "execution_count": 30,
   "id": "b8cad326",
   "metadata": {},
   "outputs": [
    {
     "name": "stdout",
     "output_type": "stream",
     "text": [
      "Beauty and the Beast (1991): 0.341\n",
      "Aladdin (1992): 0.322\n",
      "Good Will Hunting (1997): 0.263\n",
      "Bug's Life, A (1998): 0.243\n",
      "Fried Green Tomatoes (1991): 0.183\n",
      "Iron Giant, The (1999): 0.174\n",
      "Antz (1998): 0.169\n",
      "Apollo 13 (1995): 0.165\n",
      "Three Kings (1999): 0.165\n",
      "Tarzan (1999): 0.163\n",
      "Mulan (1998): 0.151\n",
      "Planet of the Apes (1968): 0.150\n",
      "Ghostbusters (1984): 0.148\n",
      "Babe (1995): 0.146\n",
      "Home Alone (1990): 0.145\n",
      "Star Wars: Episode I - The Phantom Menace (1999): 0.143\n",
      "Star Wars: Episode IV - A New Hope (1977): 0.140\n",
      "Full Monty, The (1997): 0.139\n",
      "Forrest Gump (1994): 0.134\n",
      "Quiz Show (1994): 0.133\n"
     ]
    }
   ],
   "source": [
    "user = user_to_idx[\"soyeong\"]\n",
    "movie_recommended = als_model.recommend(user, csr_data, N=20, filter_already_liked_items=True)\n",
    "for i in movie_recommended:\n",
    "    print(f\"{idx_to_title[i[0]]}: {i[1]:.3f}\")"
   ]
  },
  {
   "cell_type": "markdown",
   "id": "855cf397",
   "metadata": {},
   "source": [
    "- 디즈니 영화 포함 애니메이션이 많이 보이는 것 같다. 아무래도 토이스토리1, 2, 라이온킹이 애니메이션이다보니 애니메이션을 많이 추천해준 것 같다.\n",
    "- 대체로 내가 좋아한다고 넣어 놓은 영화와 비슷한 특성을 가진 영화들이 추천된 것을 확인할 수 있다."
   ]
  },
  {
   "cell_type": "markdown",
   "id": "07f52456",
   "metadata": {},
   "source": [
    "## 회고"
   ]
  },
  {
   "cell_type": "markdown",
   "id": "6a9508cf",
   "metadata": {},
   "source": [
    "- 다양한 값으로 실험을 한 결과 `factor`나 `iterations`를 너무 키운 경우 내적은 1에 가까워지지만 비슷한 영화를 추천해줄 때 제대로 추천된건지를 모르겠다는 문제가 생긴다는 것을 발견했다. (예를 들면 토이스토리에 청불 영화를 추천한다던가...) 따라서 적절한 `factor` 값과 `iterations` 값을 설정할 필요가 있다.\n",
    "- 데이터셋이 오래돼서 그런지 잘 모르는 영화가 더 많아서 결과 분석이 너무 어려웠다. 사실 5개 영화 선정하는 것부터 어려웠다...\n",
    "- 더 최신 데이터셋으로 분석을 한다면 아는 영화가 많아서 좀 더 결과 분석을 잘 할 수 있을 것 같다는 생각이 들었다."
   ]
  }
 ],
 "metadata": {
  "kernelspec": {
   "display_name": "Python 3 (ipykernel)",
   "language": "python",
   "name": "python3"
  },
  "language_info": {
   "codemirror_mode": {
    "name": "ipython",
    "version": 3
   },
   "file_extension": ".py",
   "mimetype": "text/x-python",
   "name": "python",
   "nbconvert_exporter": "python",
   "pygments_lexer": "ipython3",
   "version": "3.9.7"
  }
 },
 "nbformat": 4,
 "nbformat_minor": 5
}
