{
 "cells": [
  {
   "cell_type": "markdown",
   "id": "e3ffb4e4",
   "metadata": {},
   "source": [
    "# Project: 가위바위보 분류기\n",
    "[링크](https://teachablemachine.withgoogle.com/train)에서 직접 데이터셋을 생성하여 가위바위보를 분류한다"
   ]
  },
  {
   "cell_type": "markdown",
   "id": "09192a02",
   "metadata": {},
   "source": [
    "## 1. 데이터셋 준비"
   ]
  },
  {
   "cell_type": "code",
   "execution_count": 1,
   "id": "1e57ff17",
   "metadata": {},
   "outputs": [],
   "source": [
    "import tensorflow as tf\n",
    "from tensorflow import keras\n",
    "import numpy as np\n",
    "import random\n",
    "from PIL import Image\n",
    "import glob\n",
    "import os\n",
    "from tensorflow.keras.preprocessing.image import ImageDataGenerator\n",
    "from tensorflow.keras.callbacks import ModelCheckpoint, EarlyStopping, ReduceLROnPlateau\n",
    "\n",
    "import matplotlib.pyplot as plt\n",
    "%matplotlib inline"
   ]
  },
  {
   "cell_type": "code",
   "execution_count": 2,
   "id": "0cb2be42",
   "metadata": {},
   "outputs": [
    {
     "name": "stdout",
     "output_type": "stream",
     "text": [
      "1222  images resized.\n",
      "1222  images resized.\n",
      "1222  images resized.\n"
     ]
    }
   ],
   "source": [
    "def resize_images(img_path):\n",
    "    formats = [\"jpg\", \"png\"]\n",
    "    n_images = 0\n",
    "    for f in formats:\n",
    "        images=glob.glob(img_path + f\"/*.{f}\")  \n",
    "        n_images += len(images)\n",
    "        \n",
    "\n",
    "        # 파일마다 모두 28x28 사이즈로 바꾸어 저장합니다.\n",
    "        target_size=(28,28)\n",
    "        for img in images:\n",
    "            old_img=Image.open(img)\n",
    "            new_img=old_img.resize(target_size,Image.ANTIALIAS)\n",
    "            new_img.save(img, \"JPEG\")\n",
    "    print(n_images, \" images resized.\")\n",
    "\n",
    "for i in [\"rock\", \"scissor\", \"paper\"]:\n",
    "    image_dir_path = os.getenv(\"HOME\") + f\"/aiffel/rock_scissor_paper/{i}\"\n",
    "    resize_images(image_dir_path)\n"
   ]
  },
  {
   "cell_type": "code",
   "execution_count": 3,
   "id": "0a073ff1",
   "metadata": {},
   "outputs": [
    {
     "name": "stdout",
     "output_type": "stream",
     "text": [
      "x_train shape: (3366, 28, 28, 3)\n",
      "y_train shape: (3366,)\n"
     ]
    }
   ],
   "source": [
    "# 데이터 라벨링\n",
    "def load_data(img_path, number_of_data=3366):  # 가위바위보 이미지 개수 총합에 주의할 것!\n",
    "    # 가위 : 0, 바위 : 1, 보 : 2\n",
    "    img_size=28\n",
    "    color=3\n",
    "    #이미지 데이터와 라벨(가위 : 0, 바위 : 1, 보 : 2) 데이터를 담을 행렬(matrix) 영역을 생성\n",
    "    imgs=np.zeros(number_of_data*img_size*img_size*color,dtype=np.int32).reshape(number_of_data,img_size,img_size,color)\n",
    "    labels=np.zeros(number_of_data,dtype=np.int32)\n",
    "\n",
    "    idx=0\n",
    "    for file in glob.iglob(img_path+'/scissor/*.jpg'):\n",
    "        img = np.array(Image.open(file),dtype=np.int32)\n",
    "        imgs[idx,:,:,:]=img    # 데이터 영역에 이미지 행렬을 복사\n",
    "        labels[idx]=0   # 가위 : 0\n",
    "        idx=idx+1\n",
    "\n",
    "    for file in glob.iglob(img_path+'/rock/*.jpg'):\n",
    "        img = np.array(Image.open(file),dtype=np.int32)\n",
    "        imgs[idx,:,:,:]=img    # 데이터 영역에 이미지 행렬을 복사\n",
    "        labels[idx]=1   # 바위 : 1\n",
    "        idx=idx+1  \n",
    "    \n",
    "    for file in glob.iglob(img_path+'/paper/*.jpg'):\n",
    "        img = np.array(Image.open(file),dtype=np.int32)\n",
    "        imgs[idx,:,:,:]=img    # 데이터 영역에 이미지 행렬을 복사\n",
    "        labels[idx]=2   # 보 : 2\n",
    "        idx=idx+1\n",
    "        \n",
    "    return imgs, labels\n",
    "\n",
    "image_dir_path = os.getenv(\"HOME\") + \"/aiffel/rock_scissor_paper/\"\n",
    "(x_train, y_train)=load_data(image_dir_path)\n",
    "x_train_norm = x_train/255.0   # 입력은 0~1 사이의 값으로 정규화\n",
    "\n",
    "print(\"x_train shape: {}\".format(x_train.shape))\n",
    "print(\"y_train shape: {}\".format(y_train.shape))"
   ]
  },
  {
   "cell_type": "code",
   "execution_count": 4,
   "id": "77237b9a",
   "metadata": {},
   "outputs": [
    {
     "name": "stdout",
     "output_type": "stream",
     "text": [
      "100  images resized.\n",
      "100  images resized.\n",
      "100  images resized.\n"
     ]
    }
   ],
   "source": [
    "# test set 만들기\n",
    "image_dir_path = os.getenv(\"HOME\") + \"/aiffel/rock_scissor_paper/test\"\n",
    "for i in [\"rock\", \"scissor\", \"paper\"]:\n",
    "    resize_images(image_dir_path +\"/\" + i)\n",
    "\n",
    "(x_test, y_test)=load_data(image_dir_path, 300)"
   ]
  },
  {
   "cell_type": "code",
   "execution_count": 5,
   "id": "4bc0ada4",
   "metadata": {},
   "outputs": [],
   "source": [
    "datagen = ImageDataGenerator(horizontal_flip=True, vertical_flip=True,\n",
    "                            rotation_range=20, zoom_range=0.2,\n",
    "                            width_shift_range=0.2, height_shift_range=0.2,\n",
    "                            shear_range=0.1, fill_mode=\"nearest\", rescale=1./255)\n",
    "testgen = ImageDataGenerator(rescale=1./255)\n",
    "datagen.fit(x_train)\n",
    "testgen.fit(x_test)"
   ]
  },
  {
   "cell_type": "markdown",
   "id": "002ecaee",
   "metadata": {},
   "source": [
    "## 2. 모델 설계"
   ]
  },
  {
   "cell_type": "code",
   "execution_count": 31,
   "id": "efc2b530",
   "metadata": {},
   "outputs": [
    {
     "name": "stdout",
     "output_type": "stream",
     "text": [
      "Model: \"sequential_7\"\n",
      "_________________________________________________________________\n",
      "Layer (type)                 Output Shape              Param #   \n",
      "=================================================================\n",
      "conv2d_21 (Conv2D)           (None, 24, 24, 32)        2432      \n",
      "_________________________________________________________________\n",
      "batch_normalization_7 (Batch (None, 24, 24, 32)        128       \n",
      "_________________________________________________________________\n",
      "conv2d_22 (Conv2D)           (None, 22, 22, 64)        18496     \n",
      "_________________________________________________________________\n",
      "max_pooling2d_14 (MaxPooling (None, 11, 11, 64)        0         \n",
      "_________________________________________________________________\n",
      "conv2d_23 (Conv2D)           (None, 9, 9, 64)          36928     \n",
      "_________________________________________________________________\n",
      "max_pooling2d_15 (MaxPooling (None, 4, 4, 64)          0         \n",
      "_________________________________________________________________\n",
      "flatten_7 (Flatten)          (None, 1024)              0         \n",
      "_________________________________________________________________\n",
      "dense_14 (Dense)             (None, 128)               131200    \n",
      "_________________________________________________________________\n",
      "dense_15 (Dense)             (None, 3)                 387       \n",
      "=================================================================\n",
      "Total params: 189,571\n",
      "Trainable params: 189,507\n",
      "Non-trainable params: 64\n",
      "_________________________________________________________________\n"
     ]
    }
   ],
   "source": [
    "n_channel_1=32\n",
    "n_channel_2=64\n",
    "n_channel_3=64\n",
    "n_dense=128\n",
    "n_train_epoch=25\n",
    "\n",
    "model=keras.models.Sequential()\n",
    "model.add(keras.layers.Conv2D(n_channel_1, (5,5), activation='relu', input_shape=(28,28,3)))\n",
    "model.add(keras.layers.BatchNormalization())\n",
    "model.add(keras.layers.Conv2D(n_channel_2, (3,3), activation='relu'))\n",
    "model.add(keras.layers.MaxPool2D(2,2))\n",
    "model.add(keras.layers.Conv2D(n_channel_3, (3,3), activation='relu'))\n",
    "model.add(keras.layers.MaxPooling2D((2,2)))\n",
    "model.add(keras.layers.Flatten())\n",
    "model.add(keras.layers.Dense(n_dense, activation='relu'))\n",
    "model.add(keras.layers.Dense(3, activation='softmax'))\n",
    "\n",
    "model.summary()"
   ]
  },
  {
   "cell_type": "markdown",
   "id": "7cdc531e",
   "metadata": {},
   "source": [
    "## 3. 모델 학습"
   ]
  },
  {
   "cell_type": "code",
   "execution_count": 32,
   "id": "56fda7ac",
   "metadata": {
    "scrolled": false
   },
   "outputs": [
    {
     "name": "stdout",
     "output_type": "stream",
     "text": [
      "Epoch 1/25\n",
      "211/211 [==============================] - 2s 9ms/step - loss: 0.5393 - accuracy: 0.7002\n",
      "Epoch 2/25\n",
      "211/211 [==============================] - 2s 8ms/step - loss: 0.4914 - accuracy: 0.7335\n",
      "Epoch 3/25\n",
      "211/211 [==============================] - 2s 8ms/step - loss: 0.4730 - accuracy: 0.7585\n",
      "Epoch 4/25\n",
      "211/211 [==============================] - 2s 8ms/step - loss: 0.4455 - accuracy: 0.7837\n",
      "Epoch 5/25\n",
      "211/211 [==============================] - 2s 8ms/step - loss: 0.4232 - accuracy: 0.7941\n",
      "Epoch 6/25\n",
      "211/211 [==============================] - 2s 8ms/step - loss: 0.3900 - accuracy: 0.8182\n",
      "Epoch 7/25\n",
      "211/211 [==============================] - 2s 8ms/step - loss: 0.3799 - accuracy: 0.8247\n",
      "Epoch 8/25\n",
      "211/211 [==============================] - 2s 8ms/step - loss: 0.3528 - accuracy: 0.8381\n",
      "Epoch 9/25\n",
      "211/211 [==============================] - 2s 8ms/step - loss: 0.3479 - accuracy: 0.8461\n",
      "Epoch 10/25\n",
      "211/211 [==============================] - 2s 8ms/step - loss: 0.3232 - accuracy: 0.8583\n",
      "Epoch 11/25\n",
      "211/211 [==============================] - 2s 8ms/step - loss: 0.3154 - accuracy: 0.8648\n",
      "Epoch 12/25\n",
      "211/211 [==============================] - 2s 8ms/step - loss: 0.2956 - accuracy: 0.8693\n",
      "Epoch 13/25\n",
      "211/211 [==============================] - 2s 8ms/step - loss: 0.2961 - accuracy: 0.8687\n",
      "Epoch 14/25\n",
      "211/211 [==============================] - 2s 8ms/step - loss: 0.2934 - accuracy: 0.8761\n",
      "Epoch 15/25\n",
      "211/211 [==============================] - 2s 8ms/step - loss: 0.2647 - accuracy: 0.8838\n",
      "Epoch 16/25\n",
      "211/211 [==============================] - 2s 8ms/step - loss: 0.2581 - accuracy: 0.8936\n",
      "Epoch 17/25\n",
      "211/211 [==============================] - 2s 8ms/step - loss: 0.2710 - accuracy: 0.8856\n",
      "Epoch 18/25\n",
      "211/211 [==============================] - 2s 8ms/step - loss: 0.2504 - accuracy: 0.8925\n",
      "Epoch 19/25\n",
      "211/211 [==============================] - 2s 8ms/step - loss: 0.2526 - accuracy: 0.8993\n",
      "Epoch 20/25\n",
      "211/211 [==============================] - 2s 8ms/step - loss: 0.2418 - accuracy: 0.8966\n",
      "Epoch 21/25\n",
      "211/211 [==============================] - 2s 8ms/step - loss: 0.2262 - accuracy: 0.9061\n",
      "Epoch 22/25\n",
      "211/211 [==============================] - 2s 8ms/step - loss: 0.2217 - accuracy: 0.9073\n",
      "Epoch 23/25\n",
      "211/211 [==============================] - 2s 8ms/step - loss: 0.2137 - accuracy: 0.9124\n",
      "Epoch 24/25\n",
      "211/211 [==============================] - 2s 8ms/step - loss: 0.2211 - accuracy: 0.9073\n",
      "Epoch 25/25\n",
      "211/211 [==============================] - 2s 8ms/step - loss: 0.2110 - accuracy: 0.9144\n"
     ]
    }
   ],
   "source": [
    "optimizer = keras.optimizers.Adam(learning_rate=0.0001)\n",
    "model.compile(optimizer=optimizer,\n",
    "             loss='sparse_categorical_crossentropy',\n",
    "             metrics=['accuracy'])\n",
    "\n",
    "\n",
    "history = model.fit(datagen.flow(x_train, y_train, batch_size=16), epochs=n_train_epoch)"
   ]
  },
  {
   "cell_type": "markdown",
   "id": "9b3b7f9c",
   "metadata": {},
   "source": [
    "## 4. 모델 평가"
   ]
  },
  {
   "cell_type": "code",
   "execution_count": 33,
   "id": "657ff35f",
   "metadata": {
    "scrolled": true
   },
   "outputs": [
    {
     "name": "stdout",
     "output_type": "stream",
     "text": [
      "10/10 - 0s - loss: 0.8389 - accuracy: 0.6800\n",
      "test_loss: 0.8388828039169312 \n",
      "test_accuracy: 0.6800000071525574\n"
     ]
    }
   ],
   "source": [
    "test_loss, test_accuracy = model.evaluate(testgen.flow(x_test, y_test, batch_size=32), verbose=2)\n",
    "print(f\"test_loss: {test_loss} \")\n",
    "print(f\"test_accuracy: {test_accuracy}\") "
   ]
  },
  {
   "cell_type": "code",
   "execution_count": 34,
   "id": "322af1a9",
   "metadata": {},
   "outputs": [
    {
     "data": {
      "image/png": "[encoded data removed]",
      "text/plain": [
       "<Figure size 720x576 with 2 Axes>"
      ]
     },
     "metadata": {
      "needs_background": "light"
     },
     "output_type": "display_data"
    }
   ],
   "source": [
    "fig, ax = plt.subplots(1, 2, figsize=(10, 8))\n",
    "\n",
    "ax[0].plot(history.history['loss'], 'y', label = 'train loss')\n",
    "\n",
    "ax[1].plot(history.history['accuracy'], 'b', label = 'train accuracy')\n",
    "\n",
    "ax[0].set_xlabel('epoch')\n",
    "ax[0].set_ylabel('loss')\n",
    "ax[1].set_xlabel('epoch')\n",
    "ax[1].set_ylabel('accuracy')\n",
    "\n",
    "ax[0].legend(loc='upper left')\n",
    "ax[1].legend(loc='lower left')\n",
    "\n",
    "plt.show()"
   ]
  },
  {
   "cell_type": "markdown",
   "id": "a01f2388",
   "metadata": {},
   "source": [
    "## 회고"
   ]
  },
  {
   "cell_type": "markdown",
   "id": "6b1bf1af",
   "metadata": {},
   "source": [
    "- 처음 클래스 별 100장의 데이터만 사용했을 때는 학습이 되지 않았다.\n",
    "- 데이터를 추가하고, `tensorflow.keras.preprocessing.image` 의 `ImageDataGeneratoraugmentation`을 사용하여 augmentation도 해주었다. \n",
    "- MNIST와 다르게 RGB 채널로 되어있고, 다양한 환경에서 제작된 데이터를 가져와서 채널 수를 많이 주면 더 학습이 잘될 것이라고 예측했지만, 오히려 채널 수를 너무 늘리면 정확도가 떨어졌다. 그래서 적절한 값을 찾기 위해 고군분투하였다.\n",
    "- 오버피팅 방지를 위해 BatchNormalization을 추가하였다.\n",
    "- Dropout 등의 다른 오버피팅 방지 기법을 사용해봐도 좋을 것 같다.\n",
    "- Valid set을 만들어서 early stopping이나, learning rate scheduler를 사용하는 것도 좋은 방법일 것 같다.\n",
    "- 수업 하나를 제외하고 나머지 수업, 그리고 프로젝트에서 모두 `pytorch`를 사용해서 `keras`를 오랜만에 사용하는 것이 어색했지만, 그래도 기본적인 모델 구축은 어렵지 않게 할 수 있었다.\n"
   ]
  }
 ],
 "metadata": {
  "kernelspec": {
   "display_name": "Python 3 (ipykernel)",
   "language": "python",
   "name": "python3"
  },
  "language_info": {
   "codemirror_mode": {
    "name": "ipython",
    "version": 3
   },
   "file_extension": ".py",
   "mimetype": "text/x-python",
   "name": "python",
   "nbconvert_exporter": "python",
   "pygments_lexer": "ipython3",
   "version": "3.9.7"
  }
 },
 "nbformat": 4,
 "nbformat_minor": 5
}
