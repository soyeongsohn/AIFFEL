{
 "cells": [
  {
   "cell_type": "markdown",
   "id": "da686714",
   "metadata": {},
   "source": [
    "# Project: 네이버 영화 리뷰 감성 분석"
   ]
  },
  {
   "cell_type": "code",
   "execution_count": 1,
   "id": "24875991",
   "metadata": {},
   "outputs": [],
   "source": [
    "import pandas as pd\n",
    "from konlpy.tag import Mecab\n",
    "import numpy as np\n",
    "from collections import Counter\n",
    "import gensim\n",
    "from gensim.models.keyedvectors import Word2VecKeyedVectors\n",
    "import re\n",
    "import matplotlib.pyplot as plt\n",
    "%matplotlib inline\n",
    "import tensorflow as tf\n",
    "from tensorflow import keras\n",
    "from tensorflow.keras.callbacks import EarlyStopping\n",
    "from tensorflow.keras.initializers import Constant\n",
    "from sklearn.model_selection import train_test_split"
   ]
  },
  {
   "cell_type": "markdown",
   "id": "2a977847",
   "metadata": {},
   "source": [
    "## 1. 데이터 준비와 확인"
   ]
  },
  {
   "cell_type": "code",
   "execution_count": 2,
   "id": "96b63ed9",
   "metadata": {
    "scrolled": true
   },
   "outputs": [
    {
     "data": {
      "text/html": [
       "<div>\n",
       "<style scoped>\n",
       "    .dataframe tbody tr th:only-of-type {\n",
       "        vertical-align: middle;\n",
       "    }\n",
       "\n",
       "    .dataframe tbody tr th {\n",
       "        vertical-align: top;\n",
       "    }\n",
       "\n",
       "    .dataframe thead th {\n",
       "        text-align: right;\n",
       "    }\n",
       "</style>\n",
       "<table border=\"1\" class=\"dataframe\">\n",
       "  <thead>\n",
       "    <tr style=\"text-align: right;\">\n",
       "      <th></th>\n",
       "      <th>id</th>\n",
       "      <th>document</th>\n",
       "      <th>label</th>\n",
       "    </tr>\n",
       "  </thead>\n",
       "  <tbody>\n",
       "    <tr>\n",
       "      <th>0</th>\n",
       "      <td>9976970</td>\n",
       "      <td>아 더빙.. 진짜 짜증나네요 목소리</td>\n",
       "      <td>0</td>\n",
       "    </tr>\n",
       "    <tr>\n",
       "      <th>1</th>\n",
       "      <td>3819312</td>\n",
       "      <td>흠...포스터보고 초딩영화줄....오버연기조차 가볍지 않구나</td>\n",
       "      <td>1</td>\n",
       "    </tr>\n",
       "    <tr>\n",
       "      <th>2</th>\n",
       "      <td>10265843</td>\n",
       "      <td>너무재밓었다그래서보는것을추천한다</td>\n",
       "      <td>0</td>\n",
       "    </tr>\n",
       "    <tr>\n",
       "      <th>3</th>\n",
       "      <td>9045019</td>\n",
       "      <td>교도소 이야기구먼 ..솔직히 재미는 없다..평점 조정</td>\n",
       "      <td>0</td>\n",
       "    </tr>\n",
       "    <tr>\n",
       "      <th>4</th>\n",
       "      <td>6483659</td>\n",
       "      <td>사이몬페그의 익살스런 연기가 돋보였던 영화!스파이더맨에서 늙어보이기만 했던 커스틴 ...</td>\n",
       "      <td>1</td>\n",
       "    </tr>\n",
       "  </tbody>\n",
       "</table>\n",
       "</div>"
      ],
      "text/plain": [
       "         id                                           document  label\n",
       "0   9976970                                아 더빙.. 진짜 짜증나네요 목소리      0\n",
       "1   3819312                  흠...포스터보고 초딩영화줄....오버연기조차 가볍지 않구나      1\n",
       "2  10265843                                  너무재밓었다그래서보는것을추천한다      0\n",
       "3   9045019                      교도소 이야기구먼 ..솔직히 재미는 없다..평점 조정      0\n",
       "4   6483659  사이몬페그의 익살스런 연기가 돋보였던 영화!스파이더맨에서 늙어보이기만 했던 커스틴 ...      1"
      ]
     },
     "execution_count": 2,
     "metadata": {},
     "output_type": "execute_result"
    }
   ],
   "source": [
    "import pandas as pd\n",
    "\n",
    "# 데이터를 읽어봅시다. \n",
    "train_data = pd.read_table('~/aiffel/sentiment_classification/data/ratings_train.txt')\n",
    "test_data = pd.read_table('~/aiffel/sentiment_classification/data/ratings_test.txt')\n",
    "\n",
    "train_data.head()"
   ]
  },
  {
   "cell_type": "markdown",
   "id": "f24f7b1d",
   "metadata": {},
   "source": [
    "## 2. 데이터 로더 구성\n",
    "- 데이터 중복 제거\n",
    "- NaN 결측치 제거\n",
    "- 한국어 토크나이저로 토큰화\n",
    "- 불용어(Stopwords) 제거\n",
    "- 사전 `word_to_index` 구성\n",
    "- 텍스트 스트링을 사전 인덱스 스트링으로 변환\n",
    "- `X_train`, `y_train`, `X_test`, `y_test`, `word_to_index` 리턴"
   ]
  },
  {
   "cell_type": "code",
   "execution_count": 3,
   "id": "0ee15f56",
   "metadata": {},
   "outputs": [],
   "source": [
    "tokenizer = Mecab()\n",
    "stopwords = ['의','가','이','은','들','는','좀','잘','걍','과','도','를','으로','자','에','와','한','하다']\n",
    "\n",
    "def load_data(train_data, test_data, num_words=10000):\n",
    "    train_data = train_data.drop_duplicates(subset=\"document\", keep=\"last\")\n",
    "    train_data = train_data.dropna(subset=[\"document\"], axis=0)\n",
    "    test_data = test_data.drop_duplicates(subset=\"document\", keep=\"last\")\n",
    "    test_data = test_data.dropna(subset=[\"document\"], axis=0)\n",
    "    X_train = []\n",
    "    for sentence in train_data.document.values:\n",
    "        sentence = re.sub(r\"[^ㄱ-ㅎ가-힣A-Za-z]\", \"\", sentence) # 특수문자, 문장부호 제거하고 순수 문자만 남김\n",
    "        token = tokenizer.morphs(sentence)\n",
    "        token_clean = list(filter(lambda x: x not in stopwords, token))\n",
    "        X_train.append(token_clean)\n",
    "\n",
    "    X_test = []\n",
    "    for sentence in test_data.document.values:\n",
    "        sentence = re.sub(r\"[^ㄱ-ㅎ가-힣A-Za-z]\", \"\", sentence)\n",
    "        token = tokenizer.morphs(sentence)\n",
    "        token_clean = list(filter(lambda x: x not in stopwords, token))\n",
    "        X_test.append(token_clean)\n",
    "    \n",
    "    words = np.concatenate(X_train).tolist()\n",
    "    counter = Counter(words)\n",
    "    counter = counter.most_common(num_words - 4)\n",
    "    vocab = ['<PAD>', '<BOS>', '<UNK>', '<UNUSED>'] + [key for key, _ in counter]\n",
    "    word_to_index = {word:index for index, word in enumerate(vocab)}\n",
    "    \n",
    "    def wordlist_to_indexlist(wordlist):\n",
    "        return [word_to_index[word] if word in word_to_index else word_to_index['<UNK>'] for word in wordlist]\n",
    "    \n",
    "    X_train = list(map(wordlist_to_indexlist, X_train))\n",
    "    X_test = list(map(wordlist_to_indexlist, X_test))\n",
    "\n",
    "    y_train = train_data.label.values\n",
    "    y_test = test_data.label.values\n",
    "    \n",
    "    return X_train, y_train, X_test, y_test, word_to_index\n",
    "\n",
    "X_train, y_train, X_test, y_test, word_to_index = load_data(train_data, test_data)"
   ]
  },
  {
   "cell_type": "code",
   "execution_count": 4,
   "id": "2ab096e0",
   "metadata": {},
   "outputs": [],
   "source": [
    "index_to_word = {index:word for word, index in word_to_index.items()}"
   ]
  },
  {
   "cell_type": "code",
   "execution_count": 5,
   "id": "4e8674a3",
   "metadata": {},
   "outputs": [],
   "source": [
    "# 문장 1개를 활용할 딕셔너리와 함께 주면, 단어 인덱스 리스트 벡터로 변환해 주는 함수\n",
    "def get_encoded_sentence(sentence, word_to_index):\n",
    "    return [word_to_index['<BOS>']]+[word_to_index[word] if word in word_to_index else word_to_index['<UNK>'] for word in sentence.split()]\n",
    "\n",
    "# 여러 개의 문장 리스트를 한꺼번에 단어 인덱스 리스트 벡터로 encode해 주는 함수\n",
    "def get_encoded_sentences(sentences, word_to_index):\n",
    "    return [get_encoded_sentence(sentence, word_to_index) for sentence in sentences]\n",
    "\n",
    "# 숫자 벡터로 encode된 문장을 원래대로 decode하는 함수\n",
    "def get_decoded_sentence(encoded_sentence, index_to_word):\n",
    "    return ' '.join(index_to_word[index] if index in index_to_word else '<UNK>' for index in encoded_sentence[1:])  #[1:]를 통해 <BOS>를 제외\n",
    "\n",
    "# 여러 개의 숫자 벡터로 encode된 문장을 한꺼번에 원래대로 decode하는 함수 \n",
    "def get_decoded_sentences(encoded_sentences, index_to_word):\n",
    "    return [get_decoded_sentence(encoded_sentence, index_to_word) for encoded_sentence in encoded_sentences]"
   ]
  },
  {
   "cell_type": "markdown",
   "id": "5c086556",
   "metadata": {},
   "source": [
    "## 3. 모델 구성을 위한 데이터 분석 및 가공\n",
    "- 데이터셋 내 문장 길이 분포\n",
    "- 적절한 최대 문장 길이 지정\n",
    "- `keras.preprocessing.sequence.pad_sequences`를 활용한 패딩 추가"
   ]
  },
  {
   "cell_type": "code",
   "execution_count": 6,
   "id": "0d5a2295",
   "metadata": {
    "scrolled": false
   },
   "outputs": [
    {
     "name": "stdout",
     "output_type": "stream",
     "text": [
      "문장길이 평균 :  13.499555348811755\n",
      "문장길이 최대 :  83\n",
      "문장길이 표준편차 :  11.421970984953274\n"
     ]
    }
   ],
   "source": [
    "num_tokens = [len(tokens) for tokens in X_train]\n",
    "num_tokens = np.array(num_tokens)\n",
    "\n",
    "print('문장길이 평균 : ', np.mean(num_tokens))\n",
    "print('문장길이 최대 : ', np.max(num_tokens))\n",
    "print('문장길이 표준편차 : ', np.std(num_tokens))"
   ]
  },
  {
   "cell_type": "code",
   "execution_count": 7,
   "id": "ac3a9aef",
   "metadata": {},
   "outputs": [
    {
     "name": "stdout",
     "output_type": "stream",
     "text": [
      "maxlen:  36\n",
      "전체 문장의 0.9349가 maxlen 설정값 이내에 포함됩니다.\n"
     ]
    }
   ],
   "source": [
    "max_tokens = np.mean(num_tokens) + 2 * np.std(num_tokens) # 일반적으로 정규분포에서 3 * std면 전체를 다 포함한 것으로 간주하므로 값을 이렇게 해본다.\n",
    "maxlen = int(max_tokens)\n",
    "print(\"maxlen: \", maxlen)\n",
    "print(f'전체 문장의 {np.sum(num_tokens < max_tokens) / len(num_tokens):.4f}가 maxlen 설정값 이내에 포함됩니다.')"
   ]
  },
  {
   "attachments": {
    "image.png": {
     "image/png": "[encoded data removed]"
    }
   },
   "cell_type": "markdown",
   "id": "12a3ff69",
   "metadata": {},
   "source": [
    "`max_tokens`의 기준은 다음 [링크](https://towardsdatascience.com/outlier-detection-part1-821d714524c)를 참고하였다. <br>\n",
    "![image.png](attachment:image.png)"
   ]
  },
  {
   "cell_type": "code",
   "execution_count": 8,
   "id": "b40cfc8e",
   "metadata": {},
   "outputs": [],
   "source": [
    "X_train = keras.preprocessing.sequence.pad_sequences(X_train,\n",
    "                                                        value=word_to_index[\"<PAD>\"],\n",
    "                                                        padding='pre',\n",
    "                                                        maxlen=maxlen)\n",
    "\n",
    "X_test = keras.preprocessing.sequence.pad_sequences(X_test,\n",
    "                                                       value=word_to_index[\"<PAD>\"],\n",
    "                                                       padding='pre',\n",
    "                                                       maxlen=maxlen)"
   ]
  },
  {
   "cell_type": "code",
   "execution_count": 9,
   "id": "19eb2e0f",
   "metadata": {},
   "outputs": [
    {
     "name": "stdout",
     "output_type": "stream",
     "text": [
      "X_train shape:  (146182, 36)\n",
      "X_test shape:  (49157, 36)\n"
     ]
    }
   ],
   "source": [
    "print(\"X_train shape: \", X_train.shape)\n",
    "print(\"X_test shape: \", X_test.shape)"
   ]
  },
  {
   "cell_type": "code",
   "execution_count": 10,
   "id": "01d548a0",
   "metadata": {},
   "outputs": [
    {
     "name": "stdout",
     "output_type": "stream",
     "text": [
      "X_train shape:  (116945, 36)\n",
      "X_valid shape:  (29237, 36)\n",
      "X_test shape:  (49157, 36)\n"
     ]
    }
   ],
   "source": [
    "# validation set 분리\n",
    "X_train, X_valid, y_train, y_valid = train_test_split(X_train, y_train, test_size=0.2, random_state=42)\n",
    "print(\"X_train shape: \", X_train.shape)\n",
    "print(\"X_valid shape: \", X_valid.shape)\n",
    "print(\"X_test shape: \", X_test.shape)"
   ]
  },
  {
   "cell_type": "markdown",
   "id": "d56c0ef5",
   "metadata": {},
   "source": [
    "## 4. 모델 구성 및 validation set 구성\n",
    "- 모델 3가지 이상"
   ]
  },
  {
   "cell_type": "code",
   "execution_count": 11,
   "id": "cf0e647d",
   "metadata": {},
   "outputs": [],
   "source": [
    "config = {\n",
    "    'vocab_size': 10000,\n",
    "    'word_vector_dim': 128\n",
    "}"
   ]
  },
  {
   "cell_type": "markdown",
   "id": "961b64a9",
   "metadata": {},
   "source": [
    "### 1) LSTM"
   ]
  },
  {
   "cell_type": "code",
   "execution_count": 12,
   "id": "09bda397",
   "metadata": {},
   "outputs": [
    {
     "name": "stdout",
     "output_type": "stream",
     "text": [
      "Model: \"sequential\"\n",
      "_________________________________________________________________\n",
      "Layer (type)                 Output Shape              Param #   \n",
      "=================================================================\n",
      "embedding (Embedding)        (None, None, 128)         1280000   \n",
      "_________________________________________________________________\n",
      "lstm (LSTM)                  (None, 8)                 4384      \n",
      "_________________________________________________________________\n",
      "dense (Dense)                (None, 8)                 72        \n",
      "_________________________________________________________________\n",
      "dense_1 (Dense)              (None, 1)                 9         \n",
      "=================================================================\n",
      "Total params: 1,284,465\n",
      "Trainable params: 1,284,465\n",
      "Non-trainable params: 0\n",
      "_________________________________________________________________\n"
     ]
    }
   ],
   "source": [
    "lstm = tf.keras.Sequential()\n",
    "lstm.add(tf.keras.layers.Embedding(config[\"vocab_size\"], config[\"word_vector_dim\"], input_shape=(None,)))\n",
    "lstm.add(tf.keras.layers.LSTM(8))  \n",
    "lstm.add(tf.keras.layers.Dense(8, activation='relu'))\n",
    "lstm.add(tf.keras.layers.Dense(1, activation='sigmoid')) \n",
    "\n",
    "lstm.summary()"
   ]
  },
  {
   "cell_type": "markdown",
   "id": "e0543f6d",
   "metadata": {},
   "source": [
    "### 2) 1D-CNN"
   ]
  },
  {
   "cell_type": "code",
   "execution_count": 13,
   "id": "40ddc82a",
   "metadata": {},
   "outputs": [
    {
     "name": "stdout",
     "output_type": "stream",
     "text": [
      "Model: \"sequential_1\"\n",
      "_________________________________________________________________\n",
      "Layer (type)                 Output Shape              Param #   \n",
      "=================================================================\n",
      "embedding_1 (Embedding)      (None, None, 128)         1280000   \n",
      "_________________________________________________________________\n",
      "conv1d (Conv1D)              (None, None, 16)          14352     \n",
      "_________________________________________________________________\n",
      "max_pooling1d (MaxPooling1D) (None, None, 16)          0         \n",
      "_________________________________________________________________\n",
      "conv1d_1 (Conv1D)            (None, None, 16)          1808      \n",
      "_________________________________________________________________\n",
      "global_max_pooling1d (Global (None, 16)                0         \n",
      "_________________________________________________________________\n",
      "dense_2 (Dense)              (None, 64)                1088      \n",
      "_________________________________________________________________\n",
      "dense_3 (Dense)              (None, 1)                 65        \n",
      "=================================================================\n",
      "Total params: 1,297,313\n",
      "Trainable params: 1,297,313\n",
      "Non-trainable params: 0\n",
      "_________________________________________________________________\n"
     ]
    }
   ],
   "source": [
    "cnn = tf.keras.Sequential()\n",
    "cnn.add(tf.keras.layers.Embedding(config[\"vocab_size\"], config[\"word_vector_dim\"], input_shape=(None,)))\n",
    "cnn.add(tf.keras.layers.Conv1D(16, 7, activation='relu'))\n",
    "cnn.add(tf.keras.layers.MaxPooling1D(5))\n",
    "cnn.add(tf.keras.layers.Conv1D(16, 7, activation='relu'))\n",
    "cnn.add(tf.keras.layers.GlobalMaxPooling1D())\n",
    "cnn.add(tf.keras.layers.Dense(64, activation='relu'))\n",
    "cnn.add(tf.keras.layers.Dense(1, activation='sigmoid'))\n",
    "\n",
    "cnn.summary()"
   ]
  },
  {
   "cell_type": "markdown",
   "id": "03f19cc0",
   "metadata": {},
   "source": [
    "### 3) RNN"
   ]
  },
  {
   "cell_type": "code",
   "execution_count": 14,
   "id": "27555ed7",
   "metadata": {},
   "outputs": [
    {
     "name": "stdout",
     "output_type": "stream",
     "text": [
      "Model: \"sequential_2\"\n",
      "_________________________________________________________________\n",
      "Layer (type)                 Output Shape              Param #   \n",
      "=================================================================\n",
      "embedding_2 (Embedding)      (None, None, 128)         1280000   \n",
      "_________________________________________________________________\n",
      "simple_rnn (SimpleRNN)       (None, 128)               32896     \n",
      "_________________________________________________________________\n",
      "dense_4 (Dense)              (None, 64)                8256      \n",
      "_________________________________________________________________\n",
      "dense_5 (Dense)              (None, 1)                 65        \n",
      "=================================================================\n",
      "Total params: 1,321,217\n",
      "Trainable params: 1,321,217\n",
      "Non-trainable params: 0\n",
      "_________________________________________________________________\n"
     ]
    }
   ],
   "source": [
    "rnn = tf.keras.Sequential()\n",
    "rnn.add(tf.keras.layers.Embedding(config[\"vocab_size\"], config[\"word_vector_dim\"], input_shape=(None,)))\n",
    "rnn.add(tf.keras.layers.SimpleRNN(128))  \n",
    "rnn.add(tf.keras.layers.Dense(64, activation='relu'))\n",
    "rnn.add(tf.keras.layers.Dense(1, activation='sigmoid')) \n",
    "\n",
    "rnn.summary()"
   ]
  },
  {
   "cell_type": "markdown",
   "id": "c9c36c4d",
   "metadata": {},
   "source": [
    "## 5. 모델 훈련 개시"
   ]
  },
  {
   "cell_type": "code",
   "execution_count": 15,
   "id": "7afc6bb8",
   "metadata": {},
   "outputs": [],
   "source": [
    "early_stopping = EarlyStopping(monitor=\"val_loss\", mode=\"min\", verbose=1, patience=3)\n",
    "\n",
    "def train(model):\n",
    "    model.compile(optimizer='adam',\n",
    "                  loss='binary_crossentropy',\n",
    "                  metrics=['accuracy'])\n",
    "\n",
    "    epochs = 10\n",
    "\n",
    "\n",
    "    history = model.fit(X_train,\n",
    "                        y_train,\n",
    "                        epochs=epochs,\n",
    "                        batch_size=512,\n",
    "                        validation_data=(X_valid, y_valid),\n",
    "                        callbacks=[early_stopping],\n",
    "                        verbose=1)\n",
    "\n",
    "    results = model.evaluate(X_test,  y_test, verbose=2)\n",
    "    \n",
    "    return history, results"
   ]
  },
  {
   "cell_type": "markdown",
   "id": "7b66f04c",
   "metadata": {},
   "source": [
    "### 1) LSTM"
   ]
  },
  {
   "cell_type": "code",
   "execution_count": 16,
   "id": "60cf51cb",
   "metadata": {
    "scrolled": true
   },
   "outputs": [
    {
     "name": "stdout",
     "output_type": "stream",
     "text": [
      "Epoch 1/10\n",
      "229/229 [==============================] - 5s 8ms/step - loss: 0.4629 - accuracy: 0.7993 - val_loss: 0.3784 - val_accuracy: 0.8313\n",
      "Epoch 2/10\n",
      "229/229 [==============================] - 1s 6ms/step - loss: 0.3449 - accuracy: 0.8508 - val_loss: 0.3661 - val_accuracy: 0.8353\n",
      "Epoch 3/10\n",
      "229/229 [==============================] - 1s 6ms/step - loss: 0.3174 - accuracy: 0.8641 - val_loss: 0.3644 - val_accuracy: 0.8371\n",
      "Epoch 4/10\n",
      "229/229 [==============================] - 1s 6ms/step - loss: 0.2968 - accuracy: 0.8735 - val_loss: 0.3657 - val_accuracy: 0.8389\n",
      "Epoch 5/10\n",
      "229/229 [==============================] - 1s 6ms/step - loss: 0.2770 - accuracy: 0.8841 - val_loss: 0.3753 - val_accuracy: 0.8364\n",
      "Epoch 6/10\n",
      "229/229 [==============================] - 1s 6ms/step - loss: 0.2568 - accuracy: 0.8931 - val_loss: 0.3839 - val_accuracy: 0.8376\n",
      "Epoch 00006: early stopping\n",
      "1537/1537 - 3s - loss: 0.3905 - accuracy: 0.8357\n"
     ]
    }
   ],
   "source": [
    "history_lstm, results_lstm = train(lstm)"
   ]
  },
  {
   "cell_type": "markdown",
   "id": "fe7fce79",
   "metadata": {},
   "source": [
    "### 2) 1D-CNN"
   ]
  },
  {
   "cell_type": "code",
   "execution_count": 17,
   "id": "c59e2bee",
   "metadata": {},
   "outputs": [
    {
     "name": "stdout",
     "output_type": "stream",
     "text": [
      "Epoch 1/10\n",
      "229/229 [==============================] - 3s 8ms/step - loss: 0.2392 - accuracy: 0.9023 - val_loss: 0.3919 - val_accuracy: 0.8373\n",
      "Epoch 2/10\n",
      "229/229 [==============================] - 1s 6ms/step - loss: 0.2209 - accuracy: 0.9104 - val_loss: 0.4133 - val_accuracy: 0.8359\n",
      "Epoch 3/10\n",
      "229/229 [==============================] - 1s 6ms/step - loss: 0.2058 - accuracy: 0.9174 - val_loss: 0.4253 - val_accuracy: 0.8352\n",
      "Epoch 4/10\n",
      "229/229 [==============================] - 1s 6ms/step - loss: 0.1912 - accuracy: 0.9241 - val_loss: 0.4450 - val_accuracy: 0.8323\n",
      "Epoch 00004: early stopping\n",
      "1537/1537 - 3s - loss: 0.4477 - accuracy: 0.8315\n"
     ]
    }
   ],
   "source": [
    "history_cnn, results_cnn = train(lstm)"
   ]
  },
  {
   "cell_type": "markdown",
   "id": "10d02567",
   "metadata": {},
   "source": [
    "### 3) RNN"
   ]
  },
  {
   "cell_type": "code",
   "execution_count": 18,
   "id": "24f3a6f3",
   "metadata": {
    "scrolled": true
   },
   "outputs": [
    {
     "name": "stdout",
     "output_type": "stream",
     "text": [
      "Epoch 1/10\n",
      "229/229 [==============================] - 10s 40ms/step - loss: 0.4419 - accuracy: 0.7844 - val_loss: 0.3709 - val_accuracy: 0.8322\n",
      "Epoch 2/10\n",
      "229/229 [==============================] - 9s 40ms/step - loss: 0.3245 - accuracy: 0.8605 - val_loss: 0.3861 - val_accuracy: 0.8236\n",
      "Epoch 3/10\n",
      "229/229 [==============================] - 9s 39ms/step - loss: 0.2468 - accuracy: 0.8983 - val_loss: 0.4187 - val_accuracy: 0.8249\n",
      "Epoch 4/10\n",
      "229/229 [==============================] - 9s 40ms/step - loss: 0.1767 - accuracy: 0.9301 - val_loss: 0.4921 - val_accuracy: 0.8228\n",
      "Epoch 00004: early stopping\n",
      "1537/1537 - 7s - loss: 0.4976 - accuracy: 0.8219\n"
     ]
    }
   ],
   "source": [
    "history_rnn, results_rnn = train(rnn)"
   ]
  },
  {
   "cell_type": "markdown",
   "id": "dbefd56d",
   "metadata": {},
   "source": [
    "## 6. Loss, Accuracy 그래프 시각화"
   ]
  },
  {
   "cell_type": "code",
   "execution_count": 19,
   "id": "6c92781d",
   "metadata": {},
   "outputs": [],
   "source": [
    "def plot(history):\n",
    "    history_dict = history.history\n",
    "\n",
    "    acc = history_dict['accuracy']\n",
    "    val_acc = history_dict['val_accuracy']\n",
    "    loss = history_dict['loss']\n",
    "    val_loss = history_dict['val_loss']\n",
    "\n",
    "    epochs = range(1, len(acc) + 1)\n",
    "\n",
    "    # \"bo\"는 \"파란색 점\"입니다\n",
    "    plt.plot(epochs, loss, 'bo', label='Training loss')\n",
    "    # b는 \"파란 실선\"입니다\n",
    "    plt.plot(epochs, val_loss, 'b', label='Validation loss')\n",
    "    plt.title('Training and validation loss')\n",
    "    plt.xlabel('Epochs')\n",
    "    plt.ylabel('Loss')\n",
    "    plt.legend()\n",
    "\n",
    "    plt.show()\n",
    "\n",
    "    plt.clf()   # 그림을 초기화합니다\n",
    "\n",
    "    plt.plot(epochs, acc, 'bo', label='Training acc')\n",
    "    plt.plot(epochs, val_acc, 'b', label='Validation acc')\n",
    "    plt.title('Training and validation accuracy')\n",
    "    plt.xlabel('Epochs')\n",
    "    plt.ylabel('Accuracy')\n",
    "    plt.legend()\n",
    "\n",
    "    plt.show()"
   ]
  },
  {
   "cell_type": "markdown",
   "id": "7d449acc",
   "metadata": {},
   "source": [
    "### 1) LSTM"
   ]
  },
  {
   "cell_type": "code",
   "execution_count": 20,
   "id": "7ca11a97",
   "metadata": {},
   "outputs": [
    {
     "data": {
      "image/png": "[encoded data removed]",
      "text/plain": [
       "<Figure size 432x288 with 1 Axes>"
      ]
     },
     "metadata": {
      "needs_background": "light"
     },
     "output_type": "display_data"
    },
    {
     "data": {
      "image/png": "[encoded data removed]",
      "text/plain": [
       "<Figure size 432x288 with 1 Axes>"
      ]
     },
     "metadata": {
      "needs_background": "light"
     },
     "output_type": "display_data"
    }
   ],
   "source": [
    "plot(history_lstm)"
   ]
  },
  {
   "cell_type": "markdown",
   "id": "8221a799",
   "metadata": {},
   "source": [
    "### 2) 1D-CNN"
   ]
  },
  {
   "cell_type": "code",
   "execution_count": 21,
   "id": "948d12f1",
   "metadata": {},
   "outputs": [
    {
     "data": {
      "image/png": "[encoded data removed]",
      "text/plain": [
       "<Figure size 432x288 with 1 Axes>"
      ]
     },
     "metadata": {
      "needs_background": "light"
     },
     "output_type": "display_data"
    },
    {
     "data": {
      "image/png": "[encoded data removed]",
      "text/plain": [
       "<Figure size 432x288 with 1 Axes>"
      ]
     },
     "metadata": {
      "needs_background": "light"
     },
     "output_type": "display_data"
    }
   ],
   "source": [
    "plot(history_cnn)"
   ]
  },
  {
   "cell_type": "markdown",
   "id": "9234f3c0",
   "metadata": {},
   "source": [
    "### 3) RNN"
   ]
  },
  {
   "cell_type": "code",
   "execution_count": 22,
   "id": "2630ea91",
   "metadata": {},
   "outputs": [
    {
     "data": {
      "image/png": "[encoded data removed]",
      "text/plain": [
       "<Figure size 432x288 with 1 Axes>"
      ]
     },
     "metadata": {
      "needs_background": "light"
     },
     "output_type": "display_data"
    },
    {
     "data": {
      "image/png": "[encoded data removed]",
      "text/plain": [
       "<Figure size 432x288 with 1 Axes>"
      ]
     },
     "metadata": {
      "needs_background": "light"
     },
     "output_type": "display_data"
    }
   ],
   "source": [
    "plot(history_rnn)"
   ]
  },
  {
   "cell_type": "markdown",
   "id": "51e7258f",
   "metadata": {},
   "source": [
    "## 7. 학습된 Embedding 레이어 분석"
   ]
  },
  {
   "cell_type": "code",
   "execution_count": 23,
   "id": "30ff8f57",
   "metadata": {},
   "outputs": [],
   "source": [
    "class EmbeddingVectors:\n",
    "    def __init__(self, model_name, config=config, index_to_word=index_to_word):\n",
    "        word_vector_dim = config[\"word_vector_dim\"]\n",
    "        vocab_size = config[\"vocab_size\"]\n",
    "        word2vec_file_path = f'./data/{model_name}_word2vec.txt'\n",
    "        f = open(word2vec_file_path, 'w')\n",
    "        f.write('{} {}\\n'.format(vocab_size-4, word_vector_dim))\n",
    "        vectors = lstm.get_weights()[0]\n",
    "        for i in range(4,vocab_size):\n",
    "            f.write('{} {}\\n'.format(index_to_word[i], ' '.join(map(str, list(vectors[i, :])))))\n",
    "        f.close()\n",
    "        \n",
    "        self.word_vectors = Word2VecKeyedVectors.load_word2vec_format(word2vec_file_path, binary=False)\n",
    "    \n",
    "    def get_vector(self, word):\n",
    "        return self.word_vectors[word]\n",
    "    \n",
    "    def get_sim_word(self, word):\n",
    "        return self.word_vectors.similar_by_word(word)\n",
    "        "
   ]
  },
  {
   "cell_type": "markdown",
   "id": "66e6069a",
   "metadata": {},
   "source": [
    "### 1) LSTM"
   ]
  },
  {
   "cell_type": "code",
   "execution_count": 24,
   "id": "e788a51a",
   "metadata": {},
   "outputs": [],
   "source": [
    "lstm_vectors = EmbeddingVectors(\"lstm\")"
   ]
  },
  {
   "cell_type": "code",
   "execution_count": 25,
   "id": "d99747ac",
   "metadata": {},
   "outputs": [
    {
     "data": {
      "text/plain": [
       "array([-0.09032015, -0.11591171,  0.03563363, -0.150908  ,  0.04944177,\n",
       "       -0.07876353, -0.03003184, -0.07607811,  0.02394297, -0.03308475,\n",
       "       -0.13448878,  0.11563107,  0.05052172, -0.0488967 , -0.04242554,\n",
       "       -0.10077093,  0.00325802, -0.09043743,  0.15326132,  0.04517024,\n",
       "        0.07094123, -0.07932679, -0.07441244, -0.12990294, -0.04387039,\n",
       "        0.02190417, -0.0376205 ,  0.06125014, -0.13349439,  0.09672344,\n",
       "        0.04976784,  0.10376678,  0.00635385,  0.03925119,  0.1438191 ,\n",
       "        0.12005281, -0.07492789,  0.01848096, -0.11570597, -0.11543367,\n",
       "       -0.08985272, -0.02164638,  0.03572014, -0.01258882, -0.004153  ,\n",
       "       -0.05109464,  0.0085358 ,  0.11088681, -0.08995178, -0.13035637,\n",
       "        0.03861919, -0.07650517,  0.10944166, -0.01639429, -0.03571844,\n",
       "        0.06841788,  0.09544164, -0.08286554,  0.08612747,  0.04497212,\n",
       "       -0.04579541,  0.00374681, -0.06289587,  0.03080116, -0.05383828,\n",
       "        0.02753477, -0.056099  ,  0.04087882,  0.06862266,  0.03207384,\n",
       "        0.09593943,  0.17564385, -0.08542582,  0.02854606,  0.09057675,\n",
       "        0.06878538,  0.0767808 ,  0.09911206, -0.1238412 , -0.03256833,\n",
       "       -0.05014688, -0.08152641,  0.00452403,  0.05753892,  0.13951199,\n",
       "        0.09071279, -0.02024242, -0.02091442, -0.03881717, -0.01068691,\n",
       "       -0.03690991,  0.12588118, -0.01750648, -0.07101697,  0.0642508 ,\n",
       "       -0.11727004,  0.01751305, -0.08943956, -0.01194283, -0.11554512,\n",
       "        0.14465114,  0.06627803, -0.01576423,  0.03699506,  0.09075975,\n",
       "       -0.07691392, -0.03780354, -0.12703723,  0.08162238,  0.06930539,\n",
       "        0.04477505, -0.07427264,  0.03325469,  0.03422958, -0.07443474,\n",
       "        0.08588142, -0.0599763 , -0.10697355,  0.03893515,  0.09139701,\n",
       "       -0.05773231,  0.0756232 , -0.03425475,  0.14331627, -0.06284424,\n",
       "        0.03018704, -0.0951108 , -0.08794194], dtype=float32)"
      ]
     },
     "execution_count": 25,
     "metadata": {},
     "output_type": "execute_result"
    }
   ],
   "source": [
    "lstm_vectors.get_vector(\"사랑\")"
   ]
  },
  {
   "cell_type": "code",
   "execution_count": 26,
   "id": "481932b8",
   "metadata": {},
   "outputs": [
    {
     "data": {
      "text/plain": [
       "[('재발견', 0.8463876843452454),\n",
       " ('개재', 0.8386300206184387),\n",
       " ('놓칠', 0.8366575837135315),\n",
       " ('첨가', 0.8361797332763672),\n",
       " ('엠마', 0.8329647183418274),\n",
       " ('사악', 0.8254464864730835),\n",
       " ('최고', 0.8248072862625122),\n",
       " ('깎아내리', 0.8225512504577637),\n",
       " ('고인', 0.8205704092979431),\n",
       " ('이제야', 0.8205412030220032)]"
      ]
     },
     "execution_count": 26,
     "metadata": {},
     "output_type": "execute_result"
    }
   ],
   "source": [
    "lstm_vectors.get_sim_word(\"사랑\")"
   ]
  },
  {
   "cell_type": "markdown",
   "id": "5a4213fe",
   "metadata": {},
   "source": [
    "### 2) 1D-CNN"
   ]
  },
  {
   "cell_type": "code",
   "execution_count": 27,
   "id": "d3c74f77",
   "metadata": {},
   "outputs": [],
   "source": [
    "cnn_vectors = EmbeddingVectors(\"cnn\")"
   ]
  },
  {
   "cell_type": "code",
   "execution_count": 28,
   "id": "0f7e92fb",
   "metadata": {},
   "outputs": [
    {
     "data": {
      "text/plain": [
       "array([-0.09032015, -0.11591171,  0.03563363, -0.150908  ,  0.04944177,\n",
       "       -0.07876353, -0.03003184, -0.07607811,  0.02394297, -0.03308475,\n",
       "       -0.13448878,  0.11563107,  0.05052172, -0.0488967 , -0.04242554,\n",
       "       -0.10077093,  0.00325802, -0.09043743,  0.15326132,  0.04517024,\n",
       "        0.07094123, -0.07932679, -0.07441244, -0.12990294, -0.04387039,\n",
       "        0.02190417, -0.0376205 ,  0.06125014, -0.13349439,  0.09672344,\n",
       "        0.04976784,  0.10376678,  0.00635385,  0.03925119,  0.1438191 ,\n",
       "        0.12005281, -0.07492789,  0.01848096, -0.11570597, -0.11543367,\n",
       "       -0.08985272, -0.02164638,  0.03572014, -0.01258882, -0.004153  ,\n",
       "       -0.05109464,  0.0085358 ,  0.11088681, -0.08995178, -0.13035637,\n",
       "        0.03861919, -0.07650517,  0.10944166, -0.01639429, -0.03571844,\n",
       "        0.06841788,  0.09544164, -0.08286554,  0.08612747,  0.04497212,\n",
       "       -0.04579541,  0.00374681, -0.06289587,  0.03080116, -0.05383828,\n",
       "        0.02753477, -0.056099  ,  0.04087882,  0.06862266,  0.03207384,\n",
       "        0.09593943,  0.17564385, -0.08542582,  0.02854606,  0.09057675,\n",
       "        0.06878538,  0.0767808 ,  0.09911206, -0.1238412 , -0.03256833,\n",
       "       -0.05014688, -0.08152641,  0.00452403,  0.05753892,  0.13951199,\n",
       "        0.09071279, -0.02024242, -0.02091442, -0.03881717, -0.01068691,\n",
       "       -0.03690991,  0.12588118, -0.01750648, -0.07101697,  0.0642508 ,\n",
       "       -0.11727004,  0.01751305, -0.08943956, -0.01194283, -0.11554512,\n",
       "        0.14465114,  0.06627803, -0.01576423,  0.03699506,  0.09075975,\n",
       "       -0.07691392, -0.03780354, -0.12703723,  0.08162238,  0.06930539,\n",
       "        0.04477505, -0.07427264,  0.03325469,  0.03422958, -0.07443474,\n",
       "        0.08588142, -0.0599763 , -0.10697355,  0.03893515,  0.09139701,\n",
       "       -0.05773231,  0.0756232 , -0.03425475,  0.14331627, -0.06284424,\n",
       "        0.03018704, -0.0951108 , -0.08794194], dtype=float32)"
      ]
     },
     "execution_count": 28,
     "metadata": {},
     "output_type": "execute_result"
    }
   ],
   "source": [
    "cnn_vectors.get_vector(\"사랑\")"
   ]
  },
  {
   "cell_type": "code",
   "execution_count": 29,
   "id": "c00e5c9f",
   "metadata": {},
   "outputs": [
    {
     "data": {
      "text/plain": [
       "[('재발견', 0.8463876843452454),\n",
       " ('개재', 0.8386300206184387),\n",
       " ('놓칠', 0.8366575837135315),\n",
       " ('첨가', 0.8361797332763672),\n",
       " ('엠마', 0.8329647183418274),\n",
       " ('사악', 0.8254464864730835),\n",
       " ('최고', 0.8248072862625122),\n",
       " ('깎아내리', 0.8225512504577637),\n",
       " ('고인', 0.8205704092979431),\n",
       " ('이제야', 0.8205412030220032)]"
      ]
     },
     "execution_count": 29,
     "metadata": {},
     "output_type": "execute_result"
    }
   ],
   "source": [
    "cnn_vectors.get_sim_word(\"사랑\")"
   ]
  },
  {
   "cell_type": "markdown",
   "id": "7b3eb6b1",
   "metadata": {},
   "source": [
    "### 3) RNN"
   ]
  },
  {
   "cell_type": "code",
   "execution_count": 30,
   "id": "ebe06c59",
   "metadata": {},
   "outputs": [],
   "source": [
    "rnn_vectors = EmbeddingVectors(\"rnn\")"
   ]
  },
  {
   "cell_type": "code",
   "execution_count": 31,
   "id": "1310563e",
   "metadata": {},
   "outputs": [
    {
     "data": {
      "text/plain": [
       "array([-0.09032015, -0.11591171,  0.03563363, -0.150908  ,  0.04944177,\n",
       "       -0.07876353, -0.03003184, -0.07607811,  0.02394297, -0.03308475,\n",
       "       -0.13448878,  0.11563107,  0.05052172, -0.0488967 , -0.04242554,\n",
       "       -0.10077093,  0.00325802, -0.09043743,  0.15326132,  0.04517024,\n",
       "        0.07094123, -0.07932679, -0.07441244, -0.12990294, -0.04387039,\n",
       "        0.02190417, -0.0376205 ,  0.06125014, -0.13349439,  0.09672344,\n",
       "        0.04976784,  0.10376678,  0.00635385,  0.03925119,  0.1438191 ,\n",
       "        0.12005281, -0.07492789,  0.01848096, -0.11570597, -0.11543367,\n",
       "       -0.08985272, -0.02164638,  0.03572014, -0.01258882, -0.004153  ,\n",
       "       -0.05109464,  0.0085358 ,  0.11088681, -0.08995178, -0.13035637,\n",
       "        0.03861919, -0.07650517,  0.10944166, -0.01639429, -0.03571844,\n",
       "        0.06841788,  0.09544164, -0.08286554,  0.08612747,  0.04497212,\n",
       "       -0.04579541,  0.00374681, -0.06289587,  0.03080116, -0.05383828,\n",
       "        0.02753477, -0.056099  ,  0.04087882,  0.06862266,  0.03207384,\n",
       "        0.09593943,  0.17564385, -0.08542582,  0.02854606,  0.09057675,\n",
       "        0.06878538,  0.0767808 ,  0.09911206, -0.1238412 , -0.03256833,\n",
       "       -0.05014688, -0.08152641,  0.00452403,  0.05753892,  0.13951199,\n",
       "        0.09071279, -0.02024242, -0.02091442, -0.03881717, -0.01068691,\n",
       "       -0.03690991,  0.12588118, -0.01750648, -0.07101697,  0.0642508 ,\n",
       "       -0.11727004,  0.01751305, -0.08943956, -0.01194283, -0.11554512,\n",
       "        0.14465114,  0.06627803, -0.01576423,  0.03699506,  0.09075975,\n",
       "       -0.07691392, -0.03780354, -0.12703723,  0.08162238,  0.06930539,\n",
       "        0.04477505, -0.07427264,  0.03325469,  0.03422958, -0.07443474,\n",
       "        0.08588142, -0.0599763 , -0.10697355,  0.03893515,  0.09139701,\n",
       "       -0.05773231,  0.0756232 , -0.03425475,  0.14331627, -0.06284424,\n",
       "        0.03018704, -0.0951108 , -0.08794194], dtype=float32)"
      ]
     },
     "execution_count": 31,
     "metadata": {},
     "output_type": "execute_result"
    }
   ],
   "source": [
    "rnn_vectors.get_vector(\"사랑\")"
   ]
  },
  {
   "cell_type": "code",
   "execution_count": 32,
   "id": "3064666a",
   "metadata": {},
   "outputs": [
    {
     "data": {
      "text/plain": [
       "[('재발견', 0.8463876843452454),\n",
       " ('개재', 0.8386300206184387),\n",
       " ('놓칠', 0.8366575837135315),\n",
       " ('첨가', 0.8361797332763672),\n",
       " ('엠마', 0.8329647183418274),\n",
       " ('사악', 0.8254464864730835),\n",
       " ('최고', 0.8248072862625122),\n",
       " ('깎아내리', 0.8225512504577637),\n",
       " ('고인', 0.8205704092979431),\n",
       " ('이제야', 0.8205412030220032)]"
      ]
     },
     "execution_count": 32,
     "metadata": {},
     "output_type": "execute_result"
    }
   ],
   "source": [
    "rnn_vectors.get_sim_word(\"사랑\")"
   ]
  },
  {
   "cell_type": "markdown",
   "id": "39762196",
   "metadata": {},
   "source": [
    "## 8. 한국어 Word2Vec 임베딩 활용하여 성능 개선"
   ]
  },
  {
   "cell_type": "code",
   "execution_count": 33,
   "id": "69d72527",
   "metadata": {},
   "outputs": [
    {
     "data": {
      "text/plain": [
       "array([ 3.2565942 , -0.85421413, -3.6964011 ,  1.0956469 ,  0.599815  ,\n",
       "       -1.9681435 ,  0.32379073, -1.0716053 , -1.1776937 ,  2.0442047 ,\n",
       "        2.2501915 , -2.7868037 , -2.702359  , -0.9775915 , -0.12478333,\n",
       "        0.28235647,  0.77683175, -1.5393747 ,  2.0879042 , -5.444462  ,\n",
       "       -4.931412  ,  0.8532094 ,  0.11118065, -2.743522  ,  0.7902363 ,\n",
       "        0.10469969, -0.56074625,  1.6684421 ,  1.0278419 , -3.8816829 ,\n",
       "       -3.606887  , -3.120771  , -1.2527398 , -0.77196646, -1.0102901 ,\n",
       "        3.331668  ,  0.30032924,  1.2074511 , -1.2813627 ,  2.6281219 ,\n",
       "       -1.4624823 , -1.1354805 ,  0.7605239 ,  2.83577   , -1.199358  ,\n",
       "        3.1347232 ,  4.062026  , -0.23413125,  3.205856  , -0.9567054 ,\n",
       "        0.77167803, -1.4300145 ,  2.9014013 , -3.940087  , -3.234169  ,\n",
       "       -5.5460634 ,  0.6185009 , -0.75793767,  2.1043491 ,  2.350599  ,\n",
       "        2.9313247 , -2.235593  ,  3.2084036 , -5.594638  ,  1.6516634 ,\n",
       "       -0.32628602, -1.8824683 , -1.5573231 , -1.8452163 , -1.4044309 ,\n",
       "        4.872565  , -2.1063929 , -0.32347348,  1.9946551 , -4.0967984 ,\n",
       "       -1.4509655 , -0.09111219, -4.458617  ,  0.06598099, -2.211754  ,\n",
       "        3.0731246 , -0.06910119,  2.2555242 ,  2.0823317 , -0.58695716,\n",
       "       -3.1035714 ,  2.4014452 ,  3.4731216 ,  1.424459  , -4.313935  ,\n",
       "       -3.5665336 , -6.5203366 , -2.1090846 , -3.2797608 ,  0.4331985 ,\n",
       "        1.1721823 ,  1.8870457 , -0.08832774,  5.423067  , -3.8484313 ],\n",
       "      dtype=float32)"
      ]
     },
     "execution_count": 33,
     "metadata": {},
     "output_type": "execute_result"
    }
   ],
   "source": [
    "word2vec_file_path = \"./data/word2vec_ko.model\"\n",
    "word2vec = gensim.models.Word2Vec.load(word2vec_file_path)\n",
    "vector = word2vec.wv[\"사랑\"]\n",
    "vector"
   ]
  },
  {
   "cell_type": "code",
   "execution_count": 34,
   "id": "62e186c4",
   "metadata": {},
   "outputs": [
    {
     "data": {
      "text/plain": [
       "[('이별', 0.7626414895057678),\n",
       " ('행복', 0.7550068497657776),\n",
       " ('슬픔', 0.7381505966186523),\n",
       " ('유혹', 0.7238055467605591),\n",
       " ('그리움', 0.7167419195175171),\n",
       " ('추억', 0.7143999338150024),\n",
       " ('꿈', 0.7089294195175171),\n",
       " ('애정', 0.7066588997840881),\n",
       " ('포옹', 0.7034594416618347),\n",
       " ('마음', 0.6972615718841553)]"
      ]
     },
     "execution_count": 34,
     "metadata": {},
     "output_type": "execute_result"
    }
   ],
   "source": [
    "word2vec.wv.similar_by_word(\"사랑\")"
   ]
  },
  {
   "cell_type": "code",
   "execution_count": 35,
   "id": "7194c9fd",
   "metadata": {},
   "outputs": [],
   "source": [
    "vocab_size = 10000\n",
    "word_vector_dim = 100\n",
    "embedding_matrix = np.random.rand(vocab_size, word_vector_dim)\n",
    "\n",
    "for i in range(4, vocab_size):\n",
    "    if index_to_word[i] in word2vec.wv:\n",
    "        embedding_matrix[i] = word2vec.wv[index_to_word[i]]"
   ]
  },
  {
   "cell_type": "code",
   "execution_count": 39,
   "id": "3df9fa02",
   "metadata": {
    "scrolled": false
   },
   "outputs": [
    {
     "name": "stdout",
     "output_type": "stream",
     "text": [
      "Model: \"sequential_4\"\n",
      "_________________________________________________________________\n",
      "Layer (type)                 Output Shape              Param #   \n",
      "=================================================================\n",
      "embedding_4 (Embedding)      (None, 36, 100)           1000000   \n",
      "_________________________________________________________________\n",
      "lstm_3 (LSTM)                (None, 36, 128)           117248    \n",
      "_________________________________________________________________\n",
      "lstm_4 (LSTM)                (None, 128)               131584    \n",
      "_________________________________________________________________\n",
      "dense_8 (Dense)              (None, 256)               33024     \n",
      "_________________________________________________________________\n",
      "dense_9 (Dense)              (None, 256)               65792     \n",
      "_________________________________________________________________\n",
      "dense_10 (Dense)             (None, 1)                 257       \n",
      "=================================================================\n",
      "Total params: 1,347,905\n",
      "Trainable params: 1,347,905\n",
      "Non-trainable params: 0\n",
      "_________________________________________________________________\n"
     ]
    }
   ],
   "source": [
    "lstm_w2v = keras.Sequential()\n",
    "lstm_w2v.add(keras.layers.Embedding(vocab_size,\n",
    "                                 word_vector_dim,\n",
    "                                 embeddings_initializer=Constant(embedding_matrix),\n",
    "                                 input_length=maxlen, \n",
    "                                 trainable=True))\n",
    "lstm_w2v.add(keras.layers.LSTM(128, return_sequences=True))\n",
    "lstm_w2v.add(keras.layers.LSTM(128))\n",
    "lstm_w2v.add(keras.layers.Dense(256, activation='relu'))\n",
    "lstm_w2v.add(keras.layers.Dense(256, activation='relu'))\n",
    "lstm_w2v.add(keras.layers.Dense(1, activation='sigmoid'))\n",
    "\n",
    "lstm_w2v.summary()"
   ]
  },
  {
   "cell_type": "code",
   "execution_count": 40,
   "id": "a8e397b7",
   "metadata": {},
   "outputs": [],
   "source": [
    "lstm_w2v.compile(optimizer='adam',\n",
    "              loss='binary_crossentropy',\n",
    "              metrics=['accuracy'])"
   ]
  },
  {
   "cell_type": "code",
   "execution_count": 41,
   "id": "f5312b90",
   "metadata": {},
   "outputs": [
    {
     "name": "stdout",
     "output_type": "stream",
     "text": [
      "Epoch 1/5\n",
      "229/229 [==============================] - 7s 20ms/step - loss: 0.4683 - accuracy: 0.7704 - val_loss: 0.3984 - val_accuracy: 0.8170\n",
      "Epoch 2/5\n",
      "229/229 [==============================] - 4s 18ms/step - loss: 0.3562 - accuracy: 0.8402 - val_loss: 0.3720 - val_accuracy: 0.8332\n",
      "Epoch 3/5\n",
      "229/229 [==============================] - 4s 18ms/step - loss: 0.3112 - accuracy: 0.8635 - val_loss: 0.3354 - val_accuracy: 0.8498\n",
      "Epoch 4/5\n",
      "229/229 [==============================] - 4s 18ms/step - loss: 0.2815 - accuracy: 0.8790 - val_loss: 0.3333 - val_accuracy: 0.8518\n",
      "Epoch 5/5\n",
      "229/229 [==============================] - 4s 18ms/step - loss: 0.2543 - accuracy: 0.8929 - val_loss: 0.3371 - val_accuracy: 0.8545\n",
      "1537/1537 - 5s - loss: 0.3436 - accuracy: 0.8524\n"
     ]
    }
   ],
   "source": [
    "history = lstm_w2v.fit(X_train,\n",
    "                    y_train,\n",
    "                    epochs=5,\n",
    "                    batch_size=512,\n",
    "                    validation_data=(X_valid, y_valid),\n",
    "                    callbacks=[early_stopping],\n",
    "                    verbose=1)\n",
    "\n",
    "results = lstm_w2v.evaluate(X_test,  y_test, verbose=2)"
   ]
  },
  {
   "cell_type": "markdown",
   "id": "d8b452b4",
   "metadata": {},
   "source": [
    "test 데이터로 evaluate한 결과 정확도가 `0.8524`가 나왔다."
   ]
  },
  {
   "cell_type": "code",
   "execution_count": 44,
   "id": "b4aec415",
   "metadata": {},
   "outputs": [
    {
     "data": {
      "image/png": "[encoded data removed]",
      "text/plain": [
       "<Figure size 432x288 with 1 Axes>"
      ]
     },
     "metadata": {
      "needs_background": "light"
     },
     "output_type": "display_data"
    },
    {
     "data": {
      "image/png": "[encoded data removed]",
      "text/plain": [
       "<Figure size 432x288 with 1 Axes>"
      ]
     },
     "metadata": {
      "needs_background": "light"
     },
     "output_type": "display_data"
    }
   ],
   "source": [
    "plot(history)"
   ]
  },
  {
   "cell_type": "markdown",
   "id": "1508d88c",
   "metadata": {},
   "source": [
    "## 회고"
   ]
  },
  {
   "cell_type": "markdown",
   "id": "f65ddd17",
   "metadata": {},
   "source": [
    "- `max_token`을 outlier 기준으로 잡는 `std`와 곱할 상수를  2 ~ 3 사이 중 `2`, `2.5`, `3`으로 테스트해봤다. 그 결과 `2 > 2.5 > 3` 순으로 성능이 좋게 나왔다. (word2vec 적용 기준) 따라서 `std`에 `2`를 곱해주었다.\n",
    "\n",
    "- `LSTM`, `1D-CNN`, `RNN` 중 `LSTM`이 성능이 좋게 나와서 `LSTM`에 `word2vec` 모델을 적용하였다.\n",
    "- 성능을 높이기 위해 다양한 실험을 해봤다.(레이어 추가, 유닛 수 조정 등) word2vec을 사용한 모델 기준 `LSTM`을 한 층 쌓았을 때보다 두 층 쌓았을 때 성능이 더 좋게 나왔다. 또한 `Dense` 레이어도 두 층 쌓았을 때 더 성능이 향상되었다."
   ]
  }
 ],
 "metadata": {
  "kernelspec": {
   "display_name": "Python 3 (ipykernel)",
   "language": "python",
   "name": "python3"
  },
  "language_info": {
   "codemirror_mode": {
    "name": "ipython",
    "version": 3
   },
   "file_extension": ".py",
   "mimetype": "text/x-python",
   "name": "python",
   "nbconvert_exporter": "python",
   "pygments_lexer": "ipython3",
   "version": "3.9.7"
  }
 },
 "nbformat": 4,
 "nbformat_minor": 5
}
