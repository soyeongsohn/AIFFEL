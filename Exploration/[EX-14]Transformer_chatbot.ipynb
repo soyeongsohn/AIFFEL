{
 "cells": [
  {
   "cell_type": "markdown",
   "id": "cfb9874a",
   "metadata": {},
   "source": [
    "# Project: 한국어 데이터로 챗봇 만들기\n",
    "- Transformer\n",
    "- Chatbot"
   ]
  },
  {
   "cell_type": "code",
   "execution_count": 1,
   "id": "5fc13fdc",
   "metadata": {},
   "outputs": [],
   "source": [
    "import tensorflow as tf\n",
    "from tensorflow.keras.callbacks import EarlyStopping\n",
    "import tensorflow_datasets as tfds\n",
    "import os\n",
    "import re\n",
    "import numpy as np\n",
    "import pandas as pd\n",
    "import matplotlib.pyplot as plt\n",
    "%matplotlib inline\n",
    "from sklearn.model_selection import train_test_split"
   ]
  },
  {
   "cell_type": "markdown",
   "id": "ef3592af",
   "metadata": {},
   "source": [
    "## 1. Load Data"
   ]
  },
  {
   "cell_type": "code",
   "execution_count": 2,
   "id": "191784db",
   "metadata": {},
   "outputs": [
    {
     "data": {
      "text/html": [
       "<div>\n",
       "<style scoped>\n",
       "    .dataframe tbody tr th:only-of-type {\n",
       "        vertical-align: middle;\n",
       "    }\n",
       "\n",
       "    .dataframe tbody tr th {\n",
       "        vertical-align: top;\n",
       "    }\n",
       "\n",
       "    .dataframe thead th {\n",
       "        text-align: right;\n",
       "    }\n",
       "</style>\n",
       "<table border=\"1\" class=\"dataframe\">\n",
       "  <thead>\n",
       "    <tr style=\"text-align: right;\">\n",
       "      <th></th>\n",
       "      <th>Q</th>\n",
       "      <th>A</th>\n",
       "      <th>label</th>\n",
       "    </tr>\n",
       "  </thead>\n",
       "  <tbody>\n",
       "    <tr>\n",
       "      <th>0</th>\n",
       "      <td>12시 땡!</td>\n",
       "      <td>하루가 또 가네요.</td>\n",
       "      <td>0</td>\n",
       "    </tr>\n",
       "    <tr>\n",
       "      <th>1</th>\n",
       "      <td>1지망 학교 떨어졌어</td>\n",
       "      <td>위로해 드립니다.</td>\n",
       "      <td>0</td>\n",
       "    </tr>\n",
       "    <tr>\n",
       "      <th>2</th>\n",
       "      <td>3박4일 놀러가고 싶다</td>\n",
       "      <td>여행은 언제나 좋죠.</td>\n",
       "      <td>0</td>\n",
       "    </tr>\n",
       "    <tr>\n",
       "      <th>3</th>\n",
       "      <td>3박4일 정도 놀러가고 싶다</td>\n",
       "      <td>여행은 언제나 좋죠.</td>\n",
       "      <td>0</td>\n",
       "    </tr>\n",
       "    <tr>\n",
       "      <th>4</th>\n",
       "      <td>PPL 심하네</td>\n",
       "      <td>눈살이 찌푸려지죠.</td>\n",
       "      <td>0</td>\n",
       "    </tr>\n",
       "  </tbody>\n",
       "</table>\n",
       "</div>"
      ],
      "text/plain": [
       "                 Q            A  label\n",
       "0           12시 땡!   하루가 또 가네요.      0\n",
       "1      1지망 학교 떨어졌어    위로해 드립니다.      0\n",
       "2     3박4일 놀러가고 싶다  여행은 언제나 좋죠.      0\n",
       "3  3박4일 정도 놀러가고 싶다  여행은 언제나 좋죠.      0\n",
       "4          PPL 심하네   눈살이 찌푸려지죠.      0"
      ]
     },
     "execution_count": 2,
     "metadata": {},
     "output_type": "execute_result"
    }
   ],
   "source": [
    "data = pd.read_csv(\"./data/ChatbotData.csv\")\n",
    "data.head()"
   ]
  },
  {
   "cell_type": "code",
   "execution_count": 3,
   "id": "cc302e13",
   "metadata": {},
   "outputs": [
    {
     "data": {
      "text/plain": [
       "11823"
      ]
     },
     "execution_count": 3,
     "metadata": {},
     "output_type": "execute_result"
    }
   ],
   "source": [
    "len(data)"
   ]
  },
  {
   "cell_type": "markdown",
   "id": "720c80e3",
   "metadata": {},
   "source": [
    "## 2. Data Preprocessing"
   ]
  },
  {
   "cell_type": "code",
   "execution_count": 4,
   "id": "2b8c311c",
   "metadata": {},
   "outputs": [],
   "source": [
    "def preprocessing(sentence):\n",
    "    sentence = re.sub(r\"([?.!,])\", r\" \\1 \", sentence)\n",
    "\n",
    "    # (a-z, A-Z, \".\", \"?\", \"!\", \",\")를 제외한 모든 문자를 공백인 ' '로 대체합니다.\n",
    "    sentence = re.sub(r\"[^가-힣ㄱ-ㅎa-zA-Z0-9?.!,]+\", \" \", sentence)\n",
    "    sentence = re.sub(r'[\" \"]+', \" \", sentence)\n",
    "    sentence = sentence.strip()\n",
    "    \n",
    "    return sentence"
   ]
  },
  {
   "cell_type": "code",
   "execution_count": 5,
   "id": "5452519e",
   "metadata": {},
   "outputs": [
    {
     "name": "stdout",
     "output_type": "stream",
     "text": [
      "12시 땡 !\n",
      "1지망 학교 떨어졌어\n",
      "3박4일 놀러가고 싶다\n",
      "3박4일 정도 놀러가고 싶다\n",
      "PPL 심하네\n",
      "SD카드 망가졌어\n",
      "SD카드 안돼\n",
      "SNS 맞팔 왜 안하지\n",
      "SNS 시간낭비인 거 아는데 매일 하는 중\n",
      "SNS 시간낭비인데 자꾸 보게됨\n"
     ]
    }
   ],
   "source": [
    "# 확인\n",
    "for i in range(10):\n",
    "    print(preprocessing(data.Q[i]))"
   ]
  },
  {
   "cell_type": "code",
   "execution_count": 6,
   "id": "4efa640e",
   "metadata": {},
   "outputs": [],
   "source": [
    "questions = data[\"Q\"].apply(lambda x: preprocessing(x)).values\n",
    "answers = data[\"A\"].apply(lambda x: preprocessing(x)).values"
   ]
  },
  {
   "cell_type": "markdown",
   "id": "f23b303b",
   "metadata": {},
   "source": [
    "## 3. Tokenizing"
   ]
  },
  {
   "cell_type": "markdown",
   "id": "78450a32",
   "metadata": {},
   "source": [
    "### 1) Set Tokenizer"
   ]
  },
  {
   "cell_type": "code",
   "execution_count": 7,
   "id": "7decc89a",
   "metadata": {},
   "outputs": [
    {
     "name": "stdout",
     "output_type": "stream",
     "text": [
      "START_TOKEN의 번호 : [8358]\n",
      "END_TOKEN의 번호 : [8359]\n"
     ]
    }
   ],
   "source": [
    "# train 데이터에 대해 Vocabulary 생성\n",
    "tokenizer = tfds.deprecated.text.SubwordTextEncoder.build_from_corpus(questions+answers, target_vocab_size=2**13)\n",
    "\n",
    "# 시작 토큰과 종료 토큰에 고유한 정수 부여\n",
    "START_TOKEN, END_TOKEN = [tokenizer.vocab_size], [tokenizer.vocab_size + 1]\n",
    "\n",
    "print('START_TOKEN의 번호 :' ,[tokenizer.vocab_size])\n",
    "print('END_TOKEN의 번호 :' ,[tokenizer.vocab_size + 1])"
   ]
  },
  {
   "cell_type": "code",
   "execution_count": 8,
   "id": "1864ada4",
   "metadata": {},
   "outputs": [
    {
     "name": "stdout",
     "output_type": "stream",
     "text": [
      "8360\n"
     ]
    }
   ],
   "source": [
    "VOCAB_SIZE = tokenizer.vocab_size + 2\n",
    "print(VOCAB_SIZE)"
   ]
  },
  {
   "cell_type": "markdown",
   "id": "167c7b38",
   "metadata": {},
   "source": [
    "### 2) Set Max Length"
   ]
  },
  {
   "cell_type": "code",
   "execution_count": 9,
   "id": "97469685",
   "metadata": {},
   "outputs": [
    {
     "name": "stdout",
     "output_type": "stream",
     "text": [
      "텍스트의 최소 길이 : 1\n",
      "텍스트의 최대 길이 : 16\n",
      "텍스트의 평균 길이 : 3.938509684513237\n",
      "헤드라인의 최소 길이 : 1\n",
      "헤드라인의 최대 길이 : 24\n",
      "헤드라인의 평균 길이 : 4.716146494121627\n"
     ]
    },
    {
     "data": {
      "image/png": "[encoded data removed]",
      "text/plain": [
       "<Figure size 432x288 with 2 Axes>"
      ]
     },
     "metadata": {
      "needs_background": "light"
     },
     "output_type": "display_data"
    },
    {
     "data": {
      "image/png": "[encoded data removed]",
      "text/plain": [
       "<Figure size 432x288 with 1 Axes>"
      ]
     },
     "metadata": {
      "needs_background": "light"
     },
     "output_type": "display_data"
    },
    {
     "data": {
      "image/png": "[encoded data removed]",
      "text/plain": [
       "<Figure size 432x288 with 1 Axes>"
      ]
     },
     "metadata": {
      "needs_background": "light"
     },
     "output_type": "display_data"
    }
   ],
   "source": [
    "# 길이 분포 출력\n",
    "question_len = [len(s.split()) for s in questions]\n",
    "answer_len = [len(s.split()) for s in answers]\n",
    "\n",
    "print('텍스트의 최소 길이 : {}'.format(np.min(question_len)))\n",
    "print('텍스트의 최대 길이 : {}'.format(np.max(question_len)))\n",
    "print('텍스트의 평균 길이 : {}'.format(np.mean(question_len)))\n",
    "print('헤드라인의 최소 길이 : {}'.format(np.min(answer_len)))\n",
    "print('헤드라인의 최대 길이 : {}'.format(np.max(answer_len)))\n",
    "print('헤드라인의 평균 길이 : {}'.format(np.mean(answer_len)))\n",
    "\n",
    "plt.subplot(1,2,1)\n",
    "plt.boxplot(question_len)\n",
    "plt.title('question')\n",
    "plt.subplot(1,2,2)\n",
    "plt.boxplot(answer_len)\n",
    "plt.title('answer')\n",
    "plt.tight_layout()\n",
    "plt.show()\n",
    "\n",
    "plt.title('question')\n",
    "plt.hist(question_len, bins = 40)\n",
    "plt.xlabel('length of samples')\n",
    "plt.ylabel('number of samples')\n",
    "plt.show()\n",
    "\n",
    "plt.title('answer')\n",
    "plt.hist(answer_len, bins = 40)\n",
    "plt.xlabel('length of samples')\n",
    "plt.ylabel('number of samples')\n",
    "plt.show()"
   ]
  },
  {
   "cell_type": "code",
   "execution_count": 10,
   "id": "73005507",
   "metadata": {},
   "outputs": [],
   "source": [
    "MAX_LENGTH = 10"
   ]
  },
  {
   "cell_type": "code",
   "execution_count": 11,
   "id": "d3d54a62",
   "metadata": {},
   "outputs": [],
   "source": [
    "def below_threshold_len(max_len, nested_list):\n",
    "    cnt = 0\n",
    "    for s in nested_list:\n",
    "        if(len(s.split()) <= max_len):\n",
    "            cnt = cnt + 1\n",
    "    print('전체 샘플 중 길이가 %s 이하인 샘플의 비율: %s'%(max_len, (cnt / len(nested_list))))"
   ]
  },
  {
   "cell_type": "code",
   "execution_count": 12,
   "id": "20f0b91e",
   "metadata": {},
   "outputs": [
    {
     "name": "stdout",
     "output_type": "stream",
     "text": [
      "전체 샘플 중 길이가 10 이하인 샘플의 비율: 0.9956017931151147\n",
      "전체 샘플 중 길이가 10 이하인 샘플의 비율: 0.9853675040175929\n"
     ]
    }
   ],
   "source": [
    "below_threshold_len(MAX_LENGTH, questions)\n",
    "below_threshold_len(MAX_LENGTH,  answers)"
   ]
  },
  {
   "cell_type": "markdown",
   "id": "987ba82e",
   "metadata": {},
   "source": [
    "### 3) Tokenizing and Padding"
   ]
  },
  {
   "cell_type": "code",
   "execution_count": 13,
   "id": "2d23c986",
   "metadata": {},
   "outputs": [],
   "source": [
    "# 정수 인코딩, 최대 길이를 초과하는 샘플 제거, 패딩\n",
    "def tokenize_and_filter(inputs, outputs):\n",
    "    tokenized_inputs, tokenized_outputs = [], []\n",
    "  \n",
    "    for (sentence1, sentence2) in zip(inputs, outputs):\n",
    "        # 정수 인코딩 과정에서 시작 토큰과 종료 토큰을 추가\n",
    "        sentence1 = START_TOKEN + tokenizer.encode(sentence1) + END_TOKEN\n",
    "        sentence2 = START_TOKEN + tokenizer.encode(sentence2) + END_TOKEN\n",
    "\n",
    "        # 최대 길이 40 이하인 경우에만 데이터셋으로 허용\n",
    "        if len(sentence1) <= MAX_LENGTH and len(sentence2) <= MAX_LENGTH:\n",
    "            tokenized_inputs.append(sentence1)\n",
    "            tokenized_outputs.append(sentence2)\n",
    "  \n",
    "    # 최대 길이 40으로 모든 데이터셋을 패딩\n",
    "    tokenized_inputs = tf.keras.preprocessing.sequence.pad_sequences(\n",
    "        tokenized_inputs, maxlen=MAX_LENGTH, padding='post')\n",
    "    tokenized_outputs = tf.keras.preprocessing.sequence.pad_sequences(\n",
    "        tokenized_outputs, maxlen=MAX_LENGTH, padding='post')\n",
    "  \n",
    "    return tokenized_inputs, tokenized_outputs"
   ]
  },
  {
   "cell_type": "code",
   "execution_count": 14,
   "id": "78c1915f",
   "metadata": {},
   "outputs": [
    {
     "name": "stdout",
     "output_type": "stream",
     "text": [
      "단어장의 크기 : 8360\n",
      "필터링 후의 질문 샘플 개수: 9107\n",
      "필터링 후의 답변 샘플 개수: 9107\n"
     ]
    }
   ],
   "source": [
    "questions, answers = tokenize_and_filter(questions, answers)\n",
    "print('단어장의 크기 :',(VOCAB_SIZE))\n",
    "print('필터링 후의 질문 샘플 개수: {}'.format(len(questions)))\n",
    "print('필터링 후의 답변 샘플 개수: {}'.format(len(answers)))"
   ]
  },
  {
   "cell_type": "code",
   "execution_count": 15,
   "id": "77e22fd2",
   "metadata": {},
   "outputs": [],
   "source": [
    "# 질문 답변 쌍을 tf.data.Dataset API의 입력으로 사용하여 파이프라인 구성\n",
    "BATCH_SIZE = 64\n",
    "BUFFER_SIZE = 20000\n",
    "\n",
    "# 디코더는 이전의 target을 다음의 input으로 사용합니다.\n",
    "# 이에 따라 outputs에서는 START_TOKEN을 제거하겠습니다.\n",
    "dataset = tf.data.Dataset.from_tensor_slices((\n",
    "    {\n",
    "        'inputs': questions,\n",
    "        'dec_inputs': answers[:, :-1]\n",
    "    },\n",
    "    {\n",
    "        'outputs': answers[:, 1:]\n",
    "    },\n",
    "))\n",
    "\n",
    "dataset = dataset.cache()\n",
    "dataset = dataset.shuffle(BUFFER_SIZE)\n",
    "dataset = dataset.batch(BATCH_SIZE)\n",
    "dataset = dataset.prefetch(tf.data.experimental.AUTOTUNE)"
   ]
  },
  {
   "cell_type": "code",
   "execution_count": 16,
   "id": "c34aaba4",
   "metadata": {},
   "outputs": [
    {
     "name": "stdout",
     "output_type": "stream",
     "text": [
      "기존 sample:  [8358 3846   72 8077    1 8359    0    0    0    0]\n",
      "input sample:  [8358 3846   72 8077    1 8359    0    0    0]\n",
      "output sample:  [3846   72 8077    1 8359    0    0    0    0]\n"
     ]
    }
   ],
   "source": [
    "print(\"기존 sample: \", answers[0, :])\n",
    "print(\"input sample: \", answers[0, :-1]) # 마지막 토큰 제거\n",
    "print(\"output sample: \", answers[0, 1:]) # 시작 토큰 제거"
   ]
  },
  {
   "cell_type": "markdown",
   "id": "45940ba9",
   "metadata": {},
   "source": [
    "## 4. Build Model"
   ]
  },
  {
   "cell_type": "markdown",
   "id": "57035afa",
   "metadata": {},
   "source": [
    "### 1) Positional Encoding"
   ]
  },
  {
   "cell_type": "code",
   "execution_count": 17,
   "id": "00b074a5",
   "metadata": {},
   "outputs": [],
   "source": [
    "class PositionalEncoding(tf.keras.layers.Layer):\n",
    "\n",
    "    def __init__(self, position, d_model):\n",
    "        super(PositionalEncoding, self).__init__()\n",
    "        self.pos_encoding = self.positional_encoding(position, d_model)\n",
    "\n",
    "    def get_angles(self, position, i, d_model):\n",
    "        angles = 1 / tf.pow(10000, (2 * (i // 2)) / tf.cast(d_model, tf.float32))\n",
    "        return position * angles\n",
    "\n",
    "    def positional_encoding(self, position, d_model):\n",
    "        # 각도 배열 생성\n",
    "        angle_rads = self.get_angles(\n",
    "            position=tf.range(position, dtype=tf.float32)[:, tf.newaxis],\n",
    "            i=tf.range(d_model, dtype=tf.float32)[tf.newaxis, :],\n",
    "            d_model=d_model)\n",
    "\n",
    "        # 배열의 짝수 인덱스에는 sin 함수 적용\n",
    "        sines = tf.math.sin(angle_rads[:, 0::2])\n",
    "        # 배열의 홀수 인덱스에는 cosine 함수 적용\n",
    "        cosines = tf.math.cos(angle_rads[:, 1::2])\n",
    "\n",
    "        # sin과 cosine이 교차되도록 재배열\n",
    "        pos_encoding = tf.stack([sines, cosines], axis=0)\n",
    "        pos_encoding = tf.transpose(pos_encoding,[1, 2, 0]) \n",
    "        pos_encoding = tf.reshape(pos_encoding, [position, d_model])\n",
    "\n",
    "        pos_encoding = pos_encoding[tf.newaxis, ...]\n",
    "        return tf.cast(pos_encoding, tf.float32)\n",
    "\n",
    "    def call(self, inputs):\n",
    "        return inputs + self.pos_encoding[:, :tf.shape(inputs)[1], :]"
   ]
  },
  {
   "cell_type": "markdown",
   "id": "a28f133c",
   "metadata": {},
   "source": [
    "### 2) Scaled Dot Product Attention"
   ]
  },
  {
   "cell_type": "code",
   "execution_count": 18,
   "id": "4695bde8",
   "metadata": {},
   "outputs": [],
   "source": [
    "def scaled_dot_product_attention(query, key, value, mask):\n",
    "    # 어텐션 가중치는 Q와 K의 닷 프로덕트\n",
    "    matmul_qk = tf.matmul(query, key, transpose_b=True)\n",
    "\n",
    "    # 가중치를 정규화\n",
    "    depth = tf.cast(tf.shape(key)[-1], tf.float32)\n",
    "    logits = matmul_qk / tf.math.sqrt(depth)\n",
    "\n",
    "    # 패딩에 마스크 추가\n",
    "    if mask is not None:\n",
    "        logits += (mask * -1e9)\n",
    "\n",
    "    # softmax적용\n",
    "    attention_weights = tf.nn.softmax(logits, axis=-1)\n",
    "\n",
    "    # 최종 어텐션은 가중치와 V의 닷 프로덕트\n",
    "    output = tf.matmul(attention_weights, value)\n",
    "    return output"
   ]
  },
  {
   "cell_type": "markdown",
   "id": "15dec73a",
   "metadata": {},
   "source": [
    "### 3) Multi Head Attention"
   ]
  },
  {
   "cell_type": "code",
   "execution_count": 19,
   "id": "42d6b119",
   "metadata": {},
   "outputs": [],
   "source": [
    "class MultiHeadAttention(tf.keras.layers.Layer):\n",
    "\n",
    "    def __init__(self, d_model, num_heads, name=\"multi_head_attention\"):\n",
    "        super(MultiHeadAttention, self).__init__(name=name)\n",
    "        self.num_heads = num_heads\n",
    "        self.d_model = d_model\n",
    "\n",
    "        assert d_model % self.num_heads == 0\n",
    "\n",
    "        self.depth = d_model // self.num_heads\n",
    "\n",
    "        self.query_dense = tf.keras.layers.Dense(units=d_model)\n",
    "        self.key_dense = tf.keras.layers.Dense(units=d_model)\n",
    "        self.value_dense = tf.keras.layers.Dense(units=d_model)\n",
    "\n",
    "        self.dense = tf.keras.layers.Dense(units=d_model)\n",
    "\n",
    "    def split_heads(self, inputs, batch_size):\n",
    "        inputs = tf.reshape(\n",
    "            inputs, shape=(batch_size, -1, self.num_heads, self.depth))\n",
    "        return tf.transpose(inputs, perm=[0, 2, 1, 3])\n",
    "\n",
    "    def call(self, inputs):\n",
    "        query, key, value, mask = inputs['query'], inputs['key'], inputs[\n",
    "            'value'], inputs['mask']\n",
    "        batch_size = tf.shape(query)[0]\n",
    "\n",
    "        # Q, K, V에 각각 Dense를 적용합니다\n",
    "        query = self.query_dense(query)\n",
    "        key = self.key_dense(key)\n",
    "        value = self.value_dense(value)\n",
    "\n",
    "        # 병렬 연산을 위한 머리를 여러 개 만듭니다\n",
    "        query = self.split_heads(query, batch_size)\n",
    "        key = self.split_heads(key, batch_size)\n",
    "        value = self.split_heads(value, batch_size)\n",
    "\n",
    "        # 스케일드 닷 프로덕트 어텐션 함수\n",
    "        scaled_attention = scaled_dot_product_attention(query, key, value, mask)\n",
    "\n",
    "        scaled_attention = tf.transpose(scaled_attention, perm=[0, 2, 1, 3])\n",
    "\n",
    "        # 어텐션 연산 후에 각 결과를 다시 연결(concatenate)합니다\n",
    "        concat_attention = tf.reshape(scaled_attention,\n",
    "                                      (batch_size, -1, self.d_model))\n",
    "\n",
    "        # 최종 결과에도 Dense를 한 번 더 적용합니다\n",
    "        outputs = self.dense(concat_attention)\n",
    "\n",
    "        return outputs"
   ]
  },
  {
   "cell_type": "markdown",
   "id": "b80bdf61",
   "metadata": {},
   "source": [
    "### 4) Masking"
   ]
  },
  {
   "cell_type": "code",
   "execution_count": 20,
   "id": "f1c41a88",
   "metadata": {},
   "outputs": [],
   "source": [
    "def create_padding_mask(x):\n",
    "    mask = tf.cast(tf.math.equal(x, 0), tf.float32)\n",
    "    # (batch_size, 1, 1, sequence length)\n",
    "    return mask[:, tf.newaxis, tf.newaxis, :]"
   ]
  },
  {
   "cell_type": "code",
   "execution_count": 21,
   "id": "8007e32a",
   "metadata": {},
   "outputs": [],
   "source": [
    "def create_look_ahead_mask(x):\n",
    "    seq_len = tf.shape(x)[1]\n",
    "    look_ahead_mask = 1 - tf.linalg.band_part(tf.ones((seq_len, seq_len)), -1, 0)\n",
    "    padding_mask = create_padding_mask(x)\n",
    "    return tf.maximum(look_ahead_mask, padding_mask)"
   ]
  },
  {
   "cell_type": "markdown",
   "id": "df64a8ba",
   "metadata": {},
   "source": [
    "### 5) Encoder"
   ]
  },
  {
   "cell_type": "code",
   "execution_count": 22,
   "id": "b422f6ac",
   "metadata": {},
   "outputs": [],
   "source": [
    "def encoder_layer(units, d_model, num_heads, dropout, name=\"encoder_layer\"):\n",
    "    inputs = tf.keras.Input(shape=(None, d_model), name=\"inputs\")\n",
    "\n",
    "    # 패딩 마스크 사용\n",
    "    padding_mask = tf.keras.Input(shape=(1, 1, None), name=\"padding_mask\")\n",
    "\n",
    "    # 첫 번째 서브 레이어 : 멀티 헤드 어텐션 수행 (셀프 어텐션)\n",
    "    attention = MultiHeadAttention(\n",
    "        d_model, num_heads, name=\"attention\")({\n",
    "            'query': inputs,\n",
    "            'key': inputs,\n",
    "            'value': inputs,\n",
    "            'mask': padding_mask\n",
    "        })\n",
    "\n",
    "    # 어텐션의 결과는 Dropout과 Layer Normalization이라는 훈련을 돕는 테크닉을 수행\n",
    "    attention = tf.keras.layers.Dropout(rate=dropout)(attention)\n",
    "    attention = tf.keras.layers.LayerNormalization(\n",
    "        epsilon=1e-6)(inputs + attention)\n",
    "\n",
    "    # 두 번째 서브 레이어 : 2개의 완전연결층\n",
    "    outputs = tf.keras.layers.Dense(units=units, activation='relu')(attention)\n",
    "    outputs = tf.keras.layers.Dense(units=d_model)(outputs)\n",
    "\n",
    "    # 완전연결층의 결과는 Dropout과 LayerNormalization이라는 훈련을 돕는 테크닉을 수행\n",
    "    outputs = tf.keras.layers.Dropout(rate=dropout)(outputs)\n",
    "    outputs = tf.keras.layers.LayerNormalization(\n",
    "        epsilon=1e-6)(attention + outputs)\n",
    "\n",
    "    return tf.keras.Model(\n",
    "        inputs=[inputs, padding_mask], outputs=outputs, name=name)"
   ]
  },
  {
   "cell_type": "code",
   "execution_count": 23,
   "id": "f879aa41",
   "metadata": {},
   "outputs": [],
   "source": [
    "def encoder(vocab_size,\n",
    "            num_layers,\n",
    "            units,\n",
    "            d_model,\n",
    "            num_heads,\n",
    "            dropout,\n",
    "            name=\"encoder\"):\n",
    "    inputs = tf.keras.Input(shape=(None,), name=\"inputs\")\n",
    "\n",
    "    # 패딩 마스크 사용\n",
    "    padding_mask = tf.keras.Input(shape=(1, 1, None), name=\"padding_mask\")\n",
    "\n",
    "    # 임베딩 레이어\n",
    "    embeddings = tf.keras.layers.Embedding(vocab_size, d_model)(inputs)\n",
    "    embeddings *= tf.math.sqrt(tf.cast(d_model, tf.float32))\n",
    "\n",
    "    # 포지셔널 인코딩\n",
    "    embeddings = PositionalEncoding(vocab_size, d_model)(embeddings)\n",
    "\n",
    "    outputs = tf.keras.layers.Dropout(rate=dropout)(embeddings)\n",
    "\n",
    "    # num_layers만큼 쌓아올린 인코더의 층.\n",
    "    for i in range(num_layers):\n",
    "        outputs = encoder_layer(\n",
    "            units=units,\n",
    "            d_model=d_model,\n",
    "            num_heads=num_heads,\n",
    "            dropout=dropout,\n",
    "            name=\"encoder_layer_{}\".format(i),\n",
    "        )([outputs, padding_mask])\n",
    "\n",
    "    return tf.keras.Model(\n",
    "        inputs=[inputs, padding_mask], outputs=outputs, name=name)"
   ]
  },
  {
   "cell_type": "markdown",
   "id": "9b755625",
   "metadata": {},
   "source": [
    "### 6) Decoder"
   ]
  },
  {
   "cell_type": "code",
   "execution_count": 24,
   "id": "51a7582f",
   "metadata": {},
   "outputs": [],
   "source": [
    "# 이 하나의 레이어 안에는 세 개의 서브 레이어가 존재합니다.\n",
    "def decoder_layer(units, d_model, num_heads, dropout, name=\"decoder_layer\"):\n",
    "    inputs = tf.keras.Input(shape=(None, d_model), name=\"inputs\")\n",
    "    enc_outputs = tf.keras.Input(shape=(None, d_model), name=\"encoder_outputs\")\n",
    "    look_ahead_mask = tf.keras.Input(\n",
    "        shape=(1, None, None), name=\"look_ahead_mask\")\n",
    "    padding_mask = tf.keras.Input(shape=(1, 1, None), name='padding_mask')\n",
    "\n",
    "    # 첫 번째 서브 레이어 : 멀티 헤드 어텐션 수행 (셀프 어텐션)\n",
    "    attention1 = MultiHeadAttention(\n",
    "        d_model, num_heads, name=\"attention_1\")(inputs={\n",
    "            'query': inputs,\n",
    "            'key': inputs,\n",
    "            'value': inputs,\n",
    "            'mask': look_ahead_mask\n",
    "        })\n",
    "\n",
    "    # 멀티 헤드 어텐션의 결과는 LayerNormalization이라는 훈련을 돕는 테크닉을 수행\n",
    "    attention1 = tf.keras.layers.LayerNormalization(\n",
    "        epsilon=1e-6)(attention1 + inputs)\n",
    "\n",
    "    # 두 번째 서브 레이어 : 마스크드 멀티 헤드 어텐션 수행 (인코더-디코더 어텐션)\n",
    "    attention2 = MultiHeadAttention(\n",
    "        d_model, num_heads, name=\"attention_2\")(inputs={\n",
    "            'query': attention1,\n",
    "            'key': enc_outputs,\n",
    "            'value': enc_outputs,\n",
    "            'mask': padding_mask\n",
    "        })\n",
    "\n",
    "    # 마스크드 멀티 헤드 어텐션의 결과는\n",
    "    # Dropout과 LayerNormalization이라는 훈련을 돕는 테크닉을 수행\n",
    "    attention2 = tf.keras.layers.Dropout(rate=dropout)(attention2)\n",
    "    attention2 = tf.keras.layers.LayerNormalization(\n",
    "        epsilon=1e-6)(attention2 + attention1)\n",
    "\n",
    "    # 세 번째 서브 레이어 : 2개의 완전연결층\n",
    "    outputs = tf.keras.layers.Dense(units=units, activation='relu')(attention2)\n",
    "    outputs = tf.keras.layers.Dense(units=d_model)(outputs)\n",
    "\n",
    "    # 완전연결층의 결과는 Dropout과 LayerNormalization 수행\n",
    "    outputs = tf.keras.layers.Dropout(rate=dropout)(outputs)\n",
    "    outputs = tf.keras.layers.LayerNormalization(\n",
    "        epsilon=1e-6)(outputs + attention2)\n",
    "\n",
    "    return tf.keras.Model(\n",
    "        inputs=[inputs, enc_outputs, look_ahead_mask, padding_mask],\n",
    "        outputs=outputs,\n",
    "        name=name)"
   ]
  },
  {
   "cell_type": "code",
   "execution_count": 25,
   "id": "d9abefb8",
   "metadata": {},
   "outputs": [],
   "source": [
    "def decoder(vocab_size,\n",
    "            num_layers,\n",
    "            units,\n",
    "            d_model,\n",
    "            num_heads,\n",
    "            dropout,\n",
    "            name='decoder'):\n",
    "    inputs = tf.keras.Input(shape=(None,), name='inputs')\n",
    "    enc_outputs = tf.keras.Input(shape=(None, d_model), name='encoder_outputs')\n",
    "    look_ahead_mask = tf.keras.Input(\n",
    "        shape=(1, None, None), name='look_ahead_mask')\n",
    "\n",
    "    # 패딩 마스크\n",
    "    padding_mask = tf.keras.Input(shape=(1, 1, None), name='padding_mask')\n",
    "  \n",
    "    # 임베딩 레이어\n",
    "    embeddings = tf.keras.layers.Embedding(vocab_size, d_model)(inputs)\n",
    "    embeddings *= tf.math.sqrt(tf.cast(d_model, tf.float32))\n",
    "\n",
    "    # 포지셔널 인코딩\n",
    "    embeddings = PositionalEncoding(vocab_size, d_model)(embeddings)\n",
    "\n",
    "    # Dropout이라는 훈련을 돕는 테크닉을 수행\n",
    "    outputs = tf.keras.layers.Dropout(rate=dropout)(embeddings)\n",
    "\n",
    "    for i in range(num_layers):\n",
    "        outputs = decoder_layer(\n",
    "            units=units,\n",
    "            d_model=d_model,\n",
    "            num_heads=num_heads,\n",
    "            dropout=dropout,\n",
    "            name='decoder_layer_{}'.format(i),\n",
    "        )(inputs=[outputs, enc_outputs, look_ahead_mask, padding_mask])\n",
    "\n",
    "    return tf.keras.Model(\n",
    "        inputs=[inputs, enc_outputs, look_ahead_mask, padding_mask],\n",
    "        outputs=outputs,\n",
    "        name=name)"
   ]
  },
  {
   "cell_type": "markdown",
   "id": "bd2e01b6",
   "metadata": {},
   "source": [
    " ### 7) Transformer"
   ]
  },
  {
   "cell_type": "code",
   "execution_count": 26,
   "id": "d00e443b",
   "metadata": {},
   "outputs": [],
   "source": [
    "def transformer(vocab_size,\n",
    "                num_layers,\n",
    "                units,\n",
    "                d_model,\n",
    "                num_heads,\n",
    "                dropout,\n",
    "                name=\"transformer\"):\n",
    "    inputs = tf.keras.Input(shape=(None,), name=\"inputs\")\n",
    "    dec_inputs = tf.keras.Input(shape=(None,), name=\"dec_inputs\")\n",
    "\n",
    "    # 인코더에서 패딩을 위한 마스크\n",
    "    enc_padding_mask = tf.keras.layers.Lambda(\n",
    "        create_padding_mask, output_shape=(1, 1, None),\n",
    "        name='enc_padding_mask')(inputs)\n",
    "\n",
    "    # 디코더에서 미래의 토큰을 마스크 하기 위해서 사용합니다.\n",
    "    # 내부적으로 패딩 마스크도 포함되어져 있습니다.\n",
    "    look_ahead_mask = tf.keras.layers.Lambda(\n",
    "        create_look_ahead_mask,\n",
    "        output_shape=(1, None, None),\n",
    "        name='look_ahead_mask')(dec_inputs)\n",
    "\n",
    "    # 두 번째 어텐션 블록에서 인코더의 벡터들을 마스킹\n",
    "    # 디코더에서 패딩을 위한 마스크\n",
    "    dec_padding_mask = tf.keras.layers.Lambda(\n",
    "        create_padding_mask, output_shape=(1, 1, None),\n",
    "        name='dec_padding_mask')(inputs)\n",
    "\n",
    "    # 인코더\n",
    "    enc_outputs = encoder(\n",
    "        vocab_size=vocab_size,\n",
    "        num_layers=num_layers,\n",
    "        units=units,\n",
    "        d_model=d_model,\n",
    "        num_heads=num_heads,\n",
    "        dropout=dropout,\n",
    "    )(inputs=[inputs, enc_padding_mask])\n",
    "\n",
    "    # 디코더\n",
    "    dec_outputs = decoder(\n",
    "        vocab_size=vocab_size,\n",
    "        num_layers=num_layers,\n",
    "        units=units,\n",
    "        d_model=d_model,\n",
    "        num_heads=num_heads,\n",
    "        dropout=dropout,\n",
    "    )(inputs=[dec_inputs, enc_outputs, look_ahead_mask, dec_padding_mask])\n",
    "\n",
    "    # 완전연결층\n",
    "    outputs = tf.keras.layers.Dense(units=vocab_size, name=\"outputs\")(dec_outputs)\n",
    "\n",
    "    return tf.keras.Model(inputs=[inputs, dec_inputs], outputs=outputs, name=name)"
   ]
  },
  {
   "cell_type": "markdown",
   "id": "d7b03dbe",
   "metadata": {},
   "source": [
    "### 8) build model"
   ]
  },
  {
   "cell_type": "code",
   "execution_count": 59,
   "id": "c4a8f463",
   "metadata": {},
   "outputs": [
    {
     "name": "stdout",
     "output_type": "stream",
     "text": [
      "Model: \"transformer\"\n",
      "__________________________________________________________________________________________________\n",
      "Layer (type)                    Output Shape         Param #     Connected to                     \n",
      "==================================================================================================\n",
      "inputs (InputLayer)             [(None, None)]       0                                            \n",
      "__________________________________________________________________________________________________\n",
      "dec_inputs (InputLayer)         [(None, None)]       0                                            \n",
      "__________________________________________________________________________________________________\n",
      "enc_padding_mask (Lambda)       (None, 1, 1, None)   0           inputs[0][0]                     \n",
      "__________________________________________________________________________________________________\n",
      "encoder (Functional)            (None, None, 256)    3194368     inputs[0][0]                     \n",
      "                                                                 enc_padding_mask[0][0]           \n",
      "__________________________________________________________________________________________________\n",
      "look_ahead_mask (Lambda)        (None, 1, None, None 0           dec_inputs[0][0]                 \n",
      "__________________________________________________________________________________________________\n",
      "dec_padding_mask (Lambda)       (None, 1, 1, None)   0           inputs[0][0]                     \n",
      "__________________________________________________________________________________________________\n",
      "decoder (Functional)            (None, None, 256)    3721728     dec_inputs[0][0]                 \n",
      "                                                                 encoder[0][0]                    \n",
      "                                                                 look_ahead_mask[0][0]            \n",
      "                                                                 dec_padding_mask[0][0]           \n",
      "__________________________________________________________________________________________________\n",
      "outputs (Dense)                 (None, None, 8360)   2148520     decoder[0][0]                    \n",
      "==================================================================================================\n",
      "Total params: 9,064,616\n",
      "Trainable params: 9,064,616\n",
      "Non-trainable params: 0\n",
      "__________________________________________________________________________________________________\n"
     ]
    }
   ],
   "source": [
    "# 하이퍼파라미터\n",
    "NUM_LAYERS = 2 # 인코더와 디코더의 층의 개수\n",
    "D_MODEL = 256 # 인코더와 디코더 내부의 입, 출력의 고정 차원\n",
    "NUM_HEADS = 8 # 멀티 헤드 어텐션에서의 헤드 수 \n",
    "UNITS = 512 # 피드 포워드 신경망의 은닉층의 크기\n",
    "DROPOUT = 0.1 # 드롭아웃의 비율\n",
    "\n",
    "model = transformer(\n",
    "    vocab_size=VOCAB_SIZE,\n",
    "    num_layers=NUM_LAYERS,\n",
    "    units=UNITS,\n",
    "    d_model=D_MODEL,\n",
    "    num_heads=NUM_HEADS,\n",
    "    dropout=DROPOUT)\n",
    "\n",
    "model.summary()"
   ]
  },
  {
   "cell_type": "markdown",
   "id": "a7424bef",
   "metadata": {},
   "source": [
    "## 5. Train Model"
   ]
  },
  {
   "cell_type": "markdown",
   "id": "97f7ba6b",
   "metadata": {},
   "source": [
    "### 1) Loss Function"
   ]
  },
  {
   "cell_type": "code",
   "execution_count": 28,
   "id": "57810e5d",
   "metadata": {},
   "outputs": [],
   "source": [
    "def loss_function(y_true, y_pred):\n",
    "    y_true = tf.reshape(y_true, shape=(-1, MAX_LENGTH - 1))\n",
    "  \n",
    "    loss = tf.keras.losses.SparseCategoricalCrossentropy(\n",
    "        from_logits=True, reduction='none')(y_true, y_pred)\n",
    "\n",
    "    mask = tf.cast(tf.not_equal(y_true, 0), tf.float32)\n",
    "    loss = tf.multiply(loss, mask)\n",
    "\n",
    "    return tf.reduce_mean(loss)"
   ]
  },
  {
   "cell_type": "markdown",
   "id": "26154381",
   "metadata": {},
   "source": [
    "### 2) Custom Learning Rate Scheduling"
   ]
  },
  {
   "cell_type": "code",
   "execution_count": 29,
   "id": "d983f1d2",
   "metadata": {},
   "outputs": [],
   "source": [
    "class CustomSchedule(tf.keras.optimizers.schedules.LearningRateSchedule):\n",
    "\n",
    "    def __init__(self, d_model, warmup_steps=4000):\n",
    "        super(CustomSchedule, self).__init__()\n",
    "\n",
    "        self.d_model = d_model\n",
    "        self.d_model = tf.cast(self.d_model, tf.float32)\n",
    "\n",
    "        self.warmup_steps = warmup_steps\n",
    "\n",
    "    def __call__(self, step):\n",
    "        arg1 = tf.math.rsqrt(step)\n",
    "        arg2 = step * (self.warmup_steps**-1.5)\n",
    "\n",
    "        return tf.math.rsqrt(self.d_model) * tf.math.minimum(arg1, arg2)"
   ]
  },
  {
   "cell_type": "code",
   "execution_count": 30,
   "id": "2b277027",
   "metadata": {},
   "outputs": [
    {
     "data": {
      "image/png": "[encoded data removed]",
      "text/plain": [
       "<Figure size 432x288 with 1 Axes>"
      ]
     },
     "metadata": {
      "needs_background": "light"
     },
     "output_type": "display_data"
    }
   ],
   "source": [
    "# example\n",
    "sample_learning_rate = CustomSchedule(d_model=128)\n",
    "\n",
    "plt.plot(sample_learning_rate(tf.range(200000, dtype=tf.float32)))\n",
    "plt.ylabel(\"Learning Rate\")\n",
    "plt.xlabel(\"Train Step\")\n",
    "\n",
    "plt.show()"
   ]
  },
  {
   "cell_type": "markdown",
   "id": "0495047f",
   "metadata": {},
   "source": [
    "### 3) Model Compile"
   ]
  },
  {
   "cell_type": "code",
   "execution_count": 60,
   "id": "db973b9a",
   "metadata": {},
   "outputs": [],
   "source": [
    "learning_rate = CustomSchedule(D_MODEL)\n",
    "\n",
    "optimizer = tf.keras.optimizers.Adam(\n",
    "    learning_rate, beta_1=0.9, beta_2=0.98, epsilon=1e-9)\n",
    "\n",
    "def accuracy(y_true, y_pred):\n",
    "    y_true = tf.reshape(y_true, shape=(-1, MAX_LENGTH - 1))\n",
    "    return tf.keras.metrics.sparse_categorical_accuracy(y_true, y_pred)\n",
    "\n",
    "model.compile(optimizer=optimizer, loss=loss_function, metrics=[accuracy])"
   ]
  },
  {
   "cell_type": "markdown",
   "id": "6c733690",
   "metadata": {},
   "source": [
    "### 4) Train"
   ]
  },
  {
   "cell_type": "code",
   "execution_count": 61,
   "id": "530c3201",
   "metadata": {
    "scrolled": false
   },
   "outputs": [
    {
     "name": "stdout",
     "output_type": "stream",
     "text": [
      "Epoch 1/200\n",
      "143/143 [==============================] - 9s 27ms/step - loss: 5.5939 - accuracy: 0.1097\n",
      "Epoch 2/200\n",
      "143/143 [==============================] - 4s 26ms/step - loss: 4.7112 - accuracy: 0.2051\n",
      "Epoch 3/200\n",
      "143/143 [==============================] - 4s 26ms/step - loss: 3.9078 - accuracy: 0.2155\n",
      "Epoch 4/200\n",
      "143/143 [==============================] - 4s 27ms/step - loss: 3.5058 - accuracy: 0.2209\n",
      "Epoch 5/200\n",
      "143/143 [==============================] - 4s 27ms/step - loss: 3.2873 - accuracy: 0.2318\n",
      "Epoch 6/200\n",
      "143/143 [==============================] - 4s 26ms/step - loss: 3.0964 - accuracy: 0.2429\n",
      "Epoch 7/200\n",
      "143/143 [==============================] - 4s 26ms/step - loss: 2.8975 - accuracy: 0.2583\n",
      "Epoch 8/200\n",
      "143/143 [==============================] - 4s 27ms/step - loss: 2.6781 - accuracy: 0.2809\n",
      "Epoch 9/200\n",
      "143/143 [==============================] - 4s 26ms/step - loss: 2.4431 - accuracy: 0.3085\n",
      "Epoch 10/200\n",
      "143/143 [==============================] - 4s 26ms/step - loss: 2.1803 - accuracy: 0.3388\n",
      "Epoch 11/200\n",
      "143/143 [==============================] - 4s 26ms/step - loss: 1.9002 - accuracy: 0.3736\n",
      "Epoch 12/200\n",
      "143/143 [==============================] - 4s 26ms/step - loss: 1.6194 - accuracy: 0.4098\n",
      "Epoch 13/200\n",
      "143/143 [==============================] - 4s 26ms/step - loss: 1.3383 - accuracy: 0.4477\n",
      "Epoch 14/200\n",
      "143/143 [==============================] - 4s 26ms/step - loss: 1.0743 - accuracy: 0.4865\n",
      "Epoch 15/200\n",
      "143/143 [==============================] - 4s 27ms/step - loss: 0.8328 - accuracy: 0.5239\n",
      "Epoch 16/200\n",
      "143/143 [==============================] - 4s 27ms/step - loss: 0.6248 - accuracy: 0.5574\n",
      "Epoch 17/200\n",
      "143/143 [==============================] - 4s 26ms/step - loss: 0.4538 - accuracy: 0.5879\n",
      "Epoch 18/200\n",
      "143/143 [==============================] - 4s 26ms/step - loss: 0.3198 - accuracy: 0.6120\n",
      "Epoch 19/200\n",
      "143/143 [==============================] - 4s 26ms/step - loss: 0.2295 - accuracy: 0.6274\n",
      "Epoch 20/200\n",
      "143/143 [==============================] - 4s 27ms/step - loss: 0.1666 - accuracy: 0.6371\n",
      "Epoch 21/200\n",
      "143/143 [==============================] - 4s 26ms/step - loss: 0.1317 - accuracy: 0.6421\n",
      "Epoch 22/200\n",
      "143/143 [==============================] - 4s 26ms/step - loss: 0.1134 - accuracy: 0.6442\n",
      "Epoch 23/200\n",
      "143/143 [==============================] - 4s 26ms/step - loss: 0.1024 - accuracy: 0.6453\n",
      "Epoch 24/200\n",
      "143/143 [==============================] - 4s 26ms/step - loss: 0.0938 - accuracy: 0.6461\n",
      "Epoch 25/200\n",
      "143/143 [==============================] - 4s 26ms/step - loss: 0.0934 - accuracy: 0.6462\n",
      "Epoch 26/200\n",
      "143/143 [==============================] - 4s 26ms/step - loss: 0.0901 - accuracy: 0.6461\n",
      "Epoch 27/200\n",
      "143/143 [==============================] - 4s 27ms/step - loss: 0.0874 - accuracy: 0.6470\n",
      "Epoch 28/200\n",
      "143/143 [==============================] - 4s 27ms/step - loss: 0.0859 - accuracy: 0.6468\n",
      "Epoch 29/200\n",
      "143/143 [==============================] - 4s 27ms/step - loss: 0.0838 - accuracy: 0.6465\n",
      "Epoch 30/200\n",
      "143/143 [==============================] - 4s 27ms/step - loss: 0.0760 - accuracy: 0.6494\n",
      "Epoch 31/200\n",
      "143/143 [==============================] - 4s 26ms/step - loss: 0.0639 - accuracy: 0.6517\n",
      "Epoch 32/200\n",
      "143/143 [==============================] - 4s 27ms/step - loss: 0.0629 - accuracy: 0.6522\n",
      "Epoch 33/200\n",
      "143/143 [==============================] - 4s 27ms/step - loss: 0.0586 - accuracy: 0.6530\n",
      "Epoch 34/200\n",
      "143/143 [==============================] - 4s 26ms/step - loss: 0.0501 - accuracy: 0.6551\n",
      "Epoch 35/200\n",
      "143/143 [==============================] - 4s 26ms/step - loss: 0.0474 - accuracy: 0.6563\n",
      "Epoch 36/200\n",
      "143/143 [==============================] - 4s 26ms/step - loss: 0.0424 - accuracy: 0.6574\n",
      "Epoch 37/200\n",
      "143/143 [==============================] - 4s 27ms/step - loss: 0.0419 - accuracy: 0.6568\n",
      "Epoch 38/200\n",
      "143/143 [==============================] - 4s 26ms/step - loss: 0.0372 - accuracy: 0.6585\n",
      "Epoch 39/200\n",
      "143/143 [==============================] - 4s 26ms/step - loss: 0.0361 - accuracy: 0.6586\n",
      "Epoch 40/200\n",
      "143/143 [==============================] - 4s 27ms/step - loss: 0.0323 - accuracy: 0.6598\n",
      "Epoch 41/200\n",
      "143/143 [==============================] - 4s 27ms/step - loss: 0.0328 - accuracy: 0.6599\n",
      "Epoch 42/200\n",
      "143/143 [==============================] - 4s 27ms/step - loss: 0.0312 - accuracy: 0.6596\n",
      "Epoch 43/200\n",
      "143/143 [==============================] - 4s 26ms/step - loss: 0.0289 - accuracy: 0.6605\n",
      "Epoch 44/200\n",
      "143/143 [==============================] - 4s 26ms/step - loss: 0.0264 - accuracy: 0.6612\n",
      "Epoch 45/200\n",
      "143/143 [==============================] - 4s 26ms/step - loss: 0.0253 - accuracy: 0.6614\n",
      "Epoch 46/200\n",
      "143/143 [==============================] - 4s 26ms/step - loss: 0.0262 - accuracy: 0.6610\n",
      "Epoch 47/200\n",
      "143/143 [==============================] - 4s 26ms/step - loss: 0.0258 - accuracy: 0.6610\n",
      "Epoch 48/200\n",
      "143/143 [==============================] - 4s 27ms/step - loss: 0.0225 - accuracy: 0.6621\n",
      "Epoch 49/200\n",
      "143/143 [==============================] - 4s 27ms/step - loss: 0.0226 - accuracy: 0.6620\n",
      "Epoch 50/200\n",
      "143/143 [==============================] - 4s 27ms/step - loss: 0.0218 - accuracy: 0.6620\n",
      "Epoch 51/200\n",
      "143/143 [==============================] - 4s 26ms/step - loss: 0.0212 - accuracy: 0.6622\n",
      "Epoch 52/200\n",
      "143/143 [==============================] - 4s 26ms/step - loss: 0.0194 - accuracy: 0.6627\n",
      "Epoch 53/200\n",
      "143/143 [==============================] - 4s 26ms/step - loss: 0.0201 - accuracy: 0.6627\n",
      "Epoch 54/200\n",
      "143/143 [==============================] - 4s 26ms/step - loss: 0.0178 - accuracy: 0.6629\n",
      "Epoch 55/200\n",
      "143/143 [==============================] - 4s 26ms/step - loss: 0.0186 - accuracy: 0.6628\n",
      "Epoch 56/200\n",
      "143/143 [==============================] - 4s 27ms/step - loss: 0.0165 - accuracy: 0.6633\n",
      "Epoch 57/200\n",
      "143/143 [==============================] - 4s 26ms/step - loss: 0.0169 - accuracy: 0.6632\n",
      "Epoch 58/200\n",
      "143/143 [==============================] - 4s 26ms/step - loss: 0.0159 - accuracy: 0.6633\n",
      "Epoch 59/200\n",
      "143/143 [==============================] - 4s 27ms/step - loss: 0.0165 - accuracy: 0.6634\n",
      "Epoch 60/200\n",
      "143/143 [==============================] - 4s 26ms/step - loss: 0.0147 - accuracy: 0.6635\n",
      "Epoch 61/200\n",
      "143/143 [==============================] - 4s 26ms/step - loss: 0.0151 - accuracy: 0.6636\n",
      "Epoch 62/200\n",
      "143/143 [==============================] - 4s 27ms/step - loss: 0.0142 - accuracy: 0.6636\n",
      "Epoch 63/200\n",
      "143/143 [==============================] - 4s 26ms/step - loss: 0.0145 - accuracy: 0.6636\n",
      "Epoch 64/200\n",
      "143/143 [==============================] - 4s 27ms/step - loss: 0.0142 - accuracy: 0.6638\n",
      "Epoch 65/200\n",
      "143/143 [==============================] - 4s 27ms/step - loss: 0.0135 - accuracy: 0.6638\n",
      "Epoch 66/200\n",
      "143/143 [==============================] - 4s 26ms/step - loss: 0.0128 - accuracy: 0.6639\n",
      "Epoch 67/200\n",
      "143/143 [==============================] - 4s 26ms/step - loss: 0.0139 - accuracy: 0.6639\n",
      "Epoch 68/200\n",
      "143/143 [==============================] - 4s 27ms/step - loss: 0.0125 - accuracy: 0.6640\n",
      "Epoch 69/200\n",
      "143/143 [==============================] - 4s 27ms/step - loss: 0.0129 - accuracy: 0.6640\n",
      "Epoch 70/200\n",
      "143/143 [==============================] - 4s 26ms/step - loss: 0.0121 - accuracy: 0.6642\n",
      "Epoch 71/200\n",
      "143/143 [==============================] - 4s 27ms/step - loss: 0.0117 - accuracy: 0.6641\n",
      "Epoch 72/200\n",
      "143/143 [==============================] - 4s 27ms/step - loss: 0.0113 - accuracy: 0.6641\n",
      "Epoch 73/200\n",
      "143/143 [==============================] - 4s 26ms/step - loss: 0.0114 - accuracy: 0.6641\n",
      "Epoch 74/200\n",
      "143/143 [==============================] - 4s 26ms/step - loss: 0.0110 - accuracy: 0.6642\n",
      "Epoch 75/200\n",
      "143/143 [==============================] - 4s 26ms/step - loss: 0.0103 - accuracy: 0.6642\n",
      "Epoch 76/200\n",
      "143/143 [==============================] - 4s 27ms/step - loss: 0.0100 - accuracy: 0.6645\n",
      "Epoch 77/200\n",
      "143/143 [==============================] - 4s 26ms/step - loss: 0.0103 - accuracy: 0.6643\n",
      "Epoch 78/200\n",
      "143/143 [==============================] - 4s 26ms/step - loss: 0.0096 - accuracy: 0.6644\n",
      "Epoch 79/200\n",
      "143/143 [==============================] - 4s 27ms/step - loss: 0.0093 - accuracy: 0.6644\n",
      "Epoch 80/200\n"
     ]
    },
    {
     "name": "stdout",
     "output_type": "stream",
     "text": [
      "143/143 [==============================] - 4s 27ms/step - loss: 0.0091 - accuracy: 0.6645\n",
      "Epoch 81/200\n",
      "143/143 [==============================] - 4s 27ms/step - loss: 0.0087 - accuracy: 0.6644\n",
      "Epoch 82/200\n",
      "143/143 [==============================] - 4s 27ms/step - loss: 0.0086 - accuracy: 0.6646\n",
      "Epoch 83/200\n",
      "143/143 [==============================] - 4s 27ms/step - loss: 0.0084 - accuracy: 0.6644\n",
      "Epoch 84/200\n",
      "143/143 [==============================] - 4s 26ms/step - loss: 0.0090 - accuracy: 0.6643\n",
      "Epoch 85/200\n",
      "143/143 [==============================] - 4s 26ms/step - loss: 0.0077 - accuracy: 0.6646\n",
      "Epoch 86/200\n",
      "143/143 [==============================] - 4s 27ms/step - loss: 0.0090 - accuracy: 0.6644\n",
      "Epoch 87/200\n",
      "143/143 [==============================] - 4s 26ms/step - loss: 0.0080 - accuracy: 0.6646\n",
      "Epoch 88/200\n",
      "143/143 [==============================] - 4s 27ms/step - loss: 0.0072 - accuracy: 0.6648\n",
      "Epoch 89/200\n",
      "143/143 [==============================] - 4s 27ms/step - loss: 0.0080 - accuracy: 0.6646\n",
      "Epoch 90/200\n",
      "143/143 [==============================] - 4s 27ms/step - loss: 0.0063 - accuracy: 0.6650\n",
      "Epoch 91/200\n",
      "143/143 [==============================] - 4s 27ms/step - loss: 0.0070 - accuracy: 0.6647\n",
      "Epoch 92/200\n",
      "143/143 [==============================] - 4s 26ms/step - loss: 0.0084 - accuracy: 0.6645\n",
      "Epoch 93/200\n",
      "143/143 [==============================] - 4s 27ms/step - loss: 0.0060 - accuracy: 0.6649\n",
      "Epoch 94/200\n",
      "143/143 [==============================] - 4s 26ms/step - loss: 0.0068 - accuracy: 0.6648\n",
      "Epoch 95/200\n",
      "143/143 [==============================] - 4s 27ms/step - loss: 0.0072 - accuracy: 0.6646\n",
      "Epoch 96/200\n",
      "143/143 [==============================] - 4s 27ms/step - loss: 0.0061 - accuracy: 0.6650\n",
      "Epoch 00096: early stopping\n"
     ]
    }
   ],
   "source": [
    "EPOCHS = 200\n",
    "es = EarlyStopping(monitor='loss', patience=3, verbose=1)\n",
    "history = model.fit(dataset, epochs=EPOCHS, verbose=1, callbacks=[es])"
   ]
  },
  {
   "cell_type": "code",
   "execution_count": 62,
   "id": "9f7bd297",
   "metadata": {},
   "outputs": [
    {
     "data": {
      "image/png": "[encoded data removed]",
      "text/plain": [
       "<Figure size 432x288 with 2 Axes>"
      ]
     },
     "metadata": {
      "needs_background": "light"
     },
     "output_type": "display_data"
    }
   ],
   "source": [
    "ax1 = plt.subplot(1, 2, 1)\n",
    "ax1.plot(history.history['loss'], label='loss')\n",
    "ax1.set_title(\"loss\")\n",
    "ax1.legend()\n",
    "\n",
    "ax2 = plt.subplot(1, 2, 2)\n",
    "ax2.plot(history.history['accuracy'], label='accuracy', c=\"r\")\n",
    "ax2.set_title(\"accuracy\")\n",
    "ax2.legend()\n",
    "\n",
    "plt.show()"
   ]
  },
  {
   "cell_type": "markdown",
   "id": "20c54096",
   "metadata": {},
   "source": [
    "## 6. Evaluate Model"
   ]
  },
  {
   "cell_type": "code",
   "execution_count": 34,
   "id": "483a2152",
   "metadata": {},
   "outputs": [],
   "source": [
    "def decoder_inference(sentence):\n",
    "    sentence = preprocessing(sentence)\n",
    "\n",
    "    # 입력된 문장을 정수 인코딩 후 시작 토큰과 종료 토큰을 앞뒤로 추가\n",
    "    sentence = tf.expand_dims(\n",
    "        START_TOKEN + tokenizer.encode(sentence) + END_TOKEN, axis=0)\n",
    "\n",
    "    # 디코더의 현재까지의 예측한 출력 시퀀스가 지속적으로 저장되는 변수\n",
    "    # 처음에는 예측한 내용이 없으므로 시작 토큰만 별도 저장\n",
    "    output_sequence = tf.expand_dims(START_TOKEN, 0)\n",
    "\n",
    "    # 디코더의 인퍼런스 단계\n",
    "    for i in range(MAX_LENGTH):\n",
    "        # 디코더는 최대 MAX_LENGTH의 길이만큼 다음 단어 예측을 반복\n",
    "        predictions = model(inputs=[sentence, output_sequence], training=False)\n",
    "        predictions = predictions[:, -1:, :]\n",
    "\n",
    "        # 현재 예측한 단어의 정수\n",
    "        predicted_id = tf.cast(tf.argmax(predictions, axis=-1), tf.int32)\n",
    "\n",
    "        # 만약 현재 예측한 단어가 종료 토큰이라면 for문을 종료\n",
    "        if tf.equal(predicted_id, END_TOKEN[0]):\n",
    "            break\n",
    "\n",
    "        # 예측한 단어들은 지속적으로 output_sequence에 추가됨\n",
    "        # 이 output_sequence는 다시 디코더의 입력이 됨\n",
    "        output_sequence = tf.concat([output_sequence, predicted_id], axis=-1)\n",
    "\n",
    "    return tf.squeeze(output_sequence, axis=0)"
   ]
  },
  {
   "cell_type": "code",
   "execution_count": 35,
   "id": "dfbbf20e",
   "metadata": {},
   "outputs": [],
   "source": [
    "def sentence_generation(sentence):\n",
    "    # 입력 문장에 대해서 디코더를 동작 시켜 예측된 정수 시퀀스를 리턴받음\n",
    "    prediction = decoder_inference(sentence)\n",
    "\n",
    "    # 정수 시퀀스를 다시 텍스트 시퀀스로 변환\n",
    "    predicted_sentence = tokenizer.decode(\n",
    "        [i for i in prediction if i < tokenizer.vocab_size])\n",
    "\n",
    "    print('입력 : {}'.format(sentence))\n",
    "    print('출력 : {}'.format(predicted_sentence))\n",
    "\n",
    "    return predicted_sentence"
   ]
  },
  {
   "cell_type": "code",
   "execution_count": 63,
   "id": "c25b9d2c",
   "metadata": {},
   "outputs": [
    {
     "name": "stdout",
     "output_type": "stream",
     "text": [
      "입력 : 안녕\n",
      "출력 : 안녕하세요 .\n"
     ]
    },
    {
     "data": {
      "text/plain": [
       "'안녕하세요 .'"
      ]
     },
     "execution_count": 63,
     "metadata": {},
     "output_type": "execute_result"
    }
   ],
   "source": [
    "sentence_generation('안녕')"
   ]
  },
  {
   "cell_type": "code",
   "execution_count": 64,
   "id": "55c2d83f",
   "metadata": {},
   "outputs": [
    {
     "name": "stdout",
     "output_type": "stream",
     "text": [
      "입력 : 뭐해?\n",
      "출력 : 냉장고 파먹기 해보세요 .\n"
     ]
    },
    {
     "data": {
      "text/plain": [
       "'냉장고 파먹기 해보세요 .'"
      ]
     },
     "execution_count": 64,
     "metadata": {},
     "output_type": "execute_result"
    }
   ],
   "source": [
    "sentence_generation('뭐해?')"
   ]
  },
  {
   "cell_type": "code",
   "execution_count": 65,
   "id": "d64fd065",
   "metadata": {},
   "outputs": [
    {
     "name": "stdout",
     "output_type": "stream",
     "text": [
      "입력 : 넌 꿈이 뭐야?\n",
      "출력 : 저는 위로봇입니다 .\n"
     ]
    },
    {
     "data": {
      "text/plain": [
       "'저는 위로봇입니다 .'"
      ]
     },
     "execution_count": 65,
     "metadata": {},
     "output_type": "execute_result"
    }
   ],
   "source": [
    "sentence_generation('넌 꿈이 뭐야?')"
   ]
  },
  {
   "cell_type": "code",
   "execution_count": 66,
   "id": "8c7bd4e3",
   "metadata": {},
   "outputs": [
    {
     "name": "stdout",
     "output_type": "stream",
     "text": [
      "입력 : 너는 누구야?\n",
      "출력 : 저는 마음을 이어주는 위로봇입니다 .\n"
     ]
    },
    {
     "data": {
      "text/plain": [
       "'저는 마음을 이어주는 위로봇입니다 .'"
      ]
     },
     "execution_count": 66,
     "metadata": {},
     "output_type": "execute_result"
    }
   ],
   "source": [
    "sentence_generation('너는 누구야?')"
   ]
  },
  {
   "cell_type": "code",
   "execution_count": 67,
   "id": "2d34a654",
   "metadata": {},
   "outputs": [
    {
     "name": "stdout",
     "output_type": "stream",
     "text": [
      "입력 : 오늘 밥 뭐 먹을까?\n",
      "출력 : 맛있는 거 드세요 .\n"
     ]
    },
    {
     "data": {
      "text/plain": [
       "'맛있는 거 드세요 .'"
      ]
     },
     "execution_count": 67,
     "metadata": {},
     "output_type": "execute_result"
    }
   ],
   "source": [
    "sentence_generation('오늘 밥 뭐 먹을까?')"
   ]
  },
  {
   "cell_type": "code",
   "execution_count": 70,
   "id": "f6e0a4d4",
   "metadata": {},
   "outputs": [
    {
     "name": "stdout",
     "output_type": "stream",
     "text": [
      "입력 : 오늘 모하까\n",
      "출력 : 쓰지 않으면 모여요 .\n"
     ]
    },
    {
     "data": {
      "text/plain": [
       "'쓰지 않으면 모여요 .'"
      ]
     },
     "execution_count": 70,
     "metadata": {},
     "output_type": "execute_result"
    }
   ],
   "source": [
    "# 일부러 오타내보기\n",
    "sentence_generation('오늘 모하까')"
   ]
  },
  {
   "cell_type": "code",
   "execution_count": 72,
   "id": "6b527353",
   "metadata": {},
   "outputs": [
    {
     "name": "stdout",
     "output_type": "stream",
     "text": [
      "입력 : 오늘뭐먹지\n",
      "출력 : 나랑 같이 놀아요 .\n"
     ]
    },
    {
     "data": {
      "text/plain": [
       "'나랑 같이 놀아요 .'"
      ]
     },
     "execution_count": 72,
     "metadata": {},
     "output_type": "execute_result"
    }
   ],
   "source": [
    "# 일부러 띄어쓰기 안해보기\n",
    "sentence_generation('오늘뭐먹지')"
   ]
  },
  {
   "cell_type": "code",
   "execution_count": 73,
   "id": "b03b995f",
   "metadata": {},
   "outputs": [
    {
     "name": "stdout",
     "output_type": "stream",
     "text": [
      "입력 : 오늘 뭐 먹지\n",
      "출력 : 색다른걸 드셔보세요 .\n"
     ]
    },
    {
     "data": {
      "text/plain": [
       "'색다른걸 드셔보세요 .'"
      ]
     },
     "execution_count": 73,
     "metadata": {},
     "output_type": "execute_result"
    }
   ],
   "source": [
    "# 띄어쓰기 제대로 한 경우\n",
    "sentence_generation('오늘 뭐 먹지')"
   ]
  },
  {
   "cell_type": "markdown",
   "id": "4d6b0ebe",
   "metadata": {},
   "source": [
    "## 7. Experiments"
   ]
  },
  {
   "attachments": {
    "image-10.png": {
     "image/png": "[encoded data removed]"
    },
    "image-8.png": {
     "image/png": "[encoded data removed]"
    },
    "image-9.png": {
     "image/png": "[encoded data removed]"
    }
   },
   "cell_type": "markdown",
   "id": "d7e58582",
   "metadata": {},
   "source": [
    "### 1) 노드 파라미터 그대로 사용 (max_len=10)\n",
    "+) epoch 200에 early stopping 적용\n",
    "![image-8.png](attachment:image-8.png)\n",
    "#### loss, accuracy 그래프\n",
    "![image-9.png](attachment:image-9.png)\n",
    "#### 테스트 결과\n",
    "![image-10.png](attachment:image-10.png)"
   ]
  },
  {
   "attachments": {
    "image-4.png": {
     "image/png": "[encoded data removed]"
    },
    "image-5.png": {
     "image/png": "[encoded data removed]"
    },
    "image-6.png": {
     "image/png": "[encoded data removed]"
    }
   },
   "cell_type": "markdown",
   "id": "542cf236",
   "metadata": {},
   "source": [
    "### 2) num_layers를 논문대로 6으로 변경 (max_len=10)\n",
    "+) epoch 200에 early stopping 적용 <br>\n",
    "![image-6.png](attachment:image-6.png)\n",
    "#### loss, accuracy 그래프\n",
    "![image-5.png](attachment:image-5.png)\n",
    "#### 테스트 결과\n",
    "![image-4.png](attachment:image-4.png)"
   ]
  },
  {
   "attachments": {
    "image-3.png": {
     "image/png": "[encoded data removed]"
    },
    "image-4.png": {
     "image/png": "[encoded data removed]"
    },
    "image-5.png": {
     "image/png": "[encoded data removed]"
    }
   },
   "cell_type": "markdown",
   "id": "58988483",
   "metadata": {},
   "source": [
    "### 3) 논문대로 num_layers를 6으로, d_model을 512로, units를 2048로 (max_len=10)\n",
    "+) epoch 200에 early stopping 적용\n",
    "![image-5.png](attachment:image-5.png)\n",
    "#### loss, accuracy 그래프\n",
    "![image-4.png](attachment:image-4.png)\n",
    "#### 테스트 결과\n",
    "![image-3.png](attachment:image-3.png)"
   ]
  },
  {
   "cell_type": "markdown",
   "id": "3bc8d1b4",
   "metadata": {},
   "source": [
    "## 회고"
   ]
  },
  {
   "cell_type": "markdown",
   "id": "e0a0984a",
   "metadata": {},
   "source": [
    "- 데이터셋을 살펴봤을 때 숫자가 포함되어야 한다고 생각해서 숫자를 포함시켜서 전처리를 해줬다.\n",
    "- 논문에 나온대로 하이퍼파라미터를 적용해봤을 때 오히려 결과가 안좋게 나왔다. 작은 데이터셋에 복잡한 모델을 적용해서 그런 것 같다고 생각한다.\n",
    "- 모델이 비교적 단순한 첫 번째 실험에서 loss도 제일 낮고, 정확도는 제일 높고, 결과도 그럴싸하게 나왔다.\n",
    "- 띄어쓰기가 잘못된 경우, 오타가 난 경우에는 질문을 잘 이해하지 못하는 것 같다."
   ]
  }
 ],
 "metadata": {
  "kernelspec": {
   "display_name": "Python 3 (ipykernel)",
   "language": "python",
   "name": "python3"
  },
  "language_info": {
   "codemirror_mode": {
    "name": "ipython",
    "version": 3
   },
   "file_extension": ".py",
   "mimetype": "text/x-python",
   "name": "python",
   "nbconvert_exporter": "python",
   "pygments_lexer": "ipython3",
   "version": "3.9.7"
  }
 },
 "nbformat": 4,
 "nbformat_minor": 5
}
