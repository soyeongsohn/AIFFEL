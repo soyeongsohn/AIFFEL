{
 "cells": [
  {
   "cell_type": "markdown",
   "id": "25c5d34b",
   "metadata": {},
   "source": [
    "# Project: 멋진 작사가 만들기\n",
    "- 데이터셋을 학습하여 새로운 문장을 생성한다."
   ]
  },
  {
   "cell_type": "markdown",
   "id": "42d039bf",
   "metadata": {},
   "source": [
    "## 라이브러리 불러오기"
   ]
  },
  {
   "cell_type": "code",
   "execution_count": 31,
   "id": "604b3ed7",
   "metadata": {},
   "outputs": [],
   "source": [
    "import numpy as np\n",
    "import tensorflow as tf\n",
    "from tensorflow.keras.callbacks import EarlyStopping\n",
    "from sklearn.model_selection import train_test_split\n",
    "import matplotlib.pyplot as plt\n",
    "%matplotlib inline\n",
    "import glob\n",
    "import os\n",
    "import re"
   ]
  },
  {
   "cell_type": "markdown",
   "id": "2b02bc9e",
   "metadata": {},
   "source": [
    "## 데이터 읽어오기"
   ]
  },
  {
   "cell_type": "code",
   "execution_count": 16,
   "id": "6f8253ae",
   "metadata": {
    "scrolled": true
   },
   "outputs": [
    {
     "name": "stdout",
     "output_type": "stream",
     "text": [
      "데이터 크기: 187088\n",
      "Examples:\n",
      " ['', '', '[Spoken Intro:]']\n"
     ]
    }
   ],
   "source": [
    "txt_file_path = os.getenv('HOME')+'/aiffel/lyricist/data/lyrics/*' \n",
    "\n",
    "txt_list = glob.glob(txt_file_path)\n",
    "\n",
    "raw_corpus = [] \n",
    "\n",
    "for txt_file in txt_list:\n",
    "    with open(txt_file, \"r\") as f:\n",
    "        raw = f.read().splitlines()\n",
    "        raw_corpus.extend(raw)\n",
    "\n",
    "print(\"데이터 크기:\", len(raw_corpus))\n",
    "print(\"Examples:\\n\", raw_corpus[:3])"
   ]
  },
  {
   "cell_type": "markdown",
   "id": "65e2146a",
   "metadata": {},
   "source": [
    "## 데이터 정제 및 토큰화"
   ]
  },
  {
   "cell_type": "code",
   "execution_count": 17,
   "id": "cb3da859",
   "metadata": {},
   "outputs": [],
   "source": [
    "def preprocess_sentence(sentence):\n",
    "    sentence = sentence.lower().strip() # 모두 소문자로 변환하고 앞뒤 공백 제거\n",
    "    sentence = re.sub(r\"([?.!,¿])\", r\" \\1 \", sentence) # 해당 특수문자 앞뒤에 공백 넣기\n",
    "    sentence = re.sub(r'[\" \"]+', \" \", sentence) # 여러 개의 공백은 하나의 공백으로 바꾸기\n",
    "    sentence = re.sub(r\"[^a-zA-Z?.!,¿]+\", \" \", sentence) # 알파벳, 해당 특수문자 제외하고는 공백으로 바꾸기\n",
    "    sentence = sentence.strip() # 앞뒤 공백 제거\n",
    "    sentence = '<start> ' + sentence + ' <end>' # 문장 시작과 끝에 각각 <start>와 <end> 붙이기\n",
    "    return sentence"
   ]
  },
  {
   "cell_type": "code",
   "execution_count": 41,
   "id": "e29316a7",
   "metadata": {
    "scrolled": true
   },
   "outputs": [
    {
     "name": "stdout",
     "output_type": "stream",
     "text": [
      "<start> this is sample sentence . <end>\n"
     ]
    }
   ],
   "source": [
    "print(preprocess_sentence(\"This @_is ;;;sample        sentence.\")) # 필터링 잘되는지 확인"
   ]
  },
  {
   "cell_type": "code",
   "execution_count": 18,
   "id": "65fee2c5",
   "metadata": {},
   "outputs": [],
   "source": [
    "def tokenize(corpus):\n",
    "    tokenizer = tf.keras.preprocessing.text.Tokenizer(\n",
    "        num_words=7000, \n",
    "        filters=' ',\n",
    "        oov_token=\"<unk>\"\n",
    "    )\n",
    "    tokenizer.fit_on_texts(corpus)\n",
    "    tensor = tokenizer.texts_to_sequences(corpus)\n",
    "    tensor = tf.keras.preprocessing.sequence.pad_sequences(tensor, padding='post',maxlen=20) # maxlen보다 짧은 문장은 뒤에 패딩 추가\n",
    "    \n",
    "    print(tensor,tokenizer)\n",
    "    return tensor, tokenizer"
   ]
  },
  {
   "cell_type": "code",
   "execution_count": 19,
   "id": "5e2dc49e",
   "metadata": {},
   "outputs": [],
   "source": [
    "corpus = []\n",
    "\n",
    "for sentence in raw_corpus:\n",
    "    if len(sentence) == 0: # 길이가 0인 문장은 생략\n",
    "        continue\n",
    "    if sentence[-1] == \":\": # 문장의 끝이 \":\"인 문장은 생략\n",
    "        continue\n",
    "        \n",
    "    corpus.append(preprocess_sentence(sentence))"
   ]
  },
  {
   "cell_type": "code",
   "execution_count": 20,
   "id": "c9020e5a",
   "metadata": {
    "scrolled": true
   },
   "outputs": [
    {
     "name": "stdout",
     "output_type": "stream",
     "text": [
      "[[   2 2701 2584 ...    0    0    0]\n",
      " [   2    7  156 ...    0    0    0]\n",
      " [   2   17    7 ...    0    0    0]\n",
      " ...\n",
      " [   2  311    1 ...    0    0    0]\n",
      " [   2  735    5 ...    0    0    0]\n",
      " [   2  735    5 ...    0    0    0]] <keras_preprocessing.text.Tokenizer object at 0x7f79fcf77520>\n"
     ]
    }
   ],
   "source": [
    "tensor, tokenizer = tokenize(corpus)"
   ]
  },
  {
   "cell_type": "code",
   "execution_count": 21,
   "id": "1b79da3d",
   "metadata": {},
   "outputs": [],
   "source": [
    "src_input = tensor[:, :-1]  \n",
    "tgt_input = tensor[:, 1:]"
   ]
  },
  {
   "cell_type": "code",
   "execution_count": 22,
   "id": "75e1d232",
   "metadata": {},
   "outputs": [],
   "source": [
    "enc_train, enc_val, dec_train, dec_val = train_test_split(src_input, tgt_input, test_size=0.2,\n",
    "                                                            shuffle=True, random_state=42)"
   ]
  },
  {
   "cell_type": "markdown",
   "id": "80b64ff0",
   "metadata": {},
   "source": [
    "## 모델 구축 및 학습"
   ]
  },
  {
   "cell_type": "code",
   "execution_count": 34,
   "id": "1837f37a",
   "metadata": {},
   "outputs": [],
   "source": [
    "class TextGenerator(tf.keras.Model):\n",
    "    def __init__(self, vocab_size, embedding_size, hidden_size):\n",
    "        super().__init__()\n",
    "\n",
    "        self.embedding = tf.keras.layers.Embedding(vocab_size, embedding_size) \n",
    "        self.rnn_1 = tf.keras.layers.LSTM(hidden_size, return_sequences=True)  \n",
    "        self.rnn_2 = tf.keras.layers.LSTM(hidden_size, return_sequences=True)\n",
    "        self.linear = tf.keras.layers.Dense(vocab_size)\n",
    "        \n",
    "    def call(self, x):\n",
    "        out = self.embedding(x)\n",
    "        out = self.rnn_1(out)\n",
    "        out = self.rnn_2(out)\n",
    "        out = self.linear(out)\n",
    "        \n",
    "        return out"
   ]
  },
  {
   "cell_type": "code",
   "execution_count": 35,
   "id": "dcaa21f4",
   "metadata": {},
   "outputs": [],
   "source": [
    "embedding_size = 256\n",
    "hidden_size = 1024\n",
    "model = TextGenerator(tokenizer.num_words + 1, embedding_size , hidden_size)"
   ]
  },
  {
   "cell_type": "code",
   "execution_count": 36,
   "id": "c2214fbe",
   "metadata": {},
   "outputs": [],
   "source": [
    "early_stopping = EarlyStopping(monitor=\"val_loss\", mode=\"min\", verbose=1, patience=3)"
   ]
  },
  {
   "cell_type": "markdown",
   "id": "5c803622",
   "metadata": {},
   "source": [
    "과적합을 방지하고자 early stopping을 적용하였다."
   ]
  },
  {
   "cell_type": "code",
   "execution_count": 37,
   "id": "29c370d9",
   "metadata": {
    "scrolled": false
   },
   "outputs": [
    {
     "name": "stdout",
     "output_type": "stream",
     "text": [
      "Epoch 1/30\n",
      "4394/4394 [==============================] - 159s 35ms/step - loss: 2.4812 - val_loss: 2.2685\n",
      "Epoch 2/30\n",
      "4394/4394 [==============================] - 154s 35ms/step - loss: 2.1624 - val_loss: 2.1148\n",
      "Epoch 3/30\n",
      "4394/4394 [==============================] - 154s 35ms/step - loss: 1.9753 - val_loss: 2.0177\n",
      "Epoch 4/30\n",
      "4394/4394 [==============================] - 154s 35ms/step - loss: 1.8041 - val_loss: 1.9568\n",
      "Epoch 5/30\n",
      "4394/4394 [==============================] - 154s 35ms/step - loss: 1.6477 - val_loss: 1.9208\n",
      "Epoch 6/30\n",
      "4394/4394 [==============================] - 154s 35ms/step - loss: 1.5060 - val_loss: 1.8986\n",
      "Epoch 7/30\n",
      "4394/4394 [==============================] - 154s 35ms/step - loss: 1.3796 - val_loss: 1.8908\n",
      "Epoch 8/30\n",
      "4394/4394 [==============================] - 154s 35ms/step - loss: 1.2672 - val_loss: 1.8882\n",
      "Epoch 9/30\n",
      "4394/4394 [==============================] - 154s 35ms/step - loss: 1.1693 - val_loss: 1.9013\n",
      "Epoch 10/30\n",
      "4394/4394 [==============================] - 154s 35ms/step - loss: 1.0844 - val_loss: 1.9236\n",
      "Epoch 11/30\n",
      "4394/4394 [==============================] - 153s 35ms/step - loss: 1.0131 - val_loss: 1.9467\n",
      "Epoch 00011: early stopping\n"
     ]
    }
   ],
   "source": [
    "optimizer = tf.keras.optimizers.Adam()\n",
    "loss = tf.keras.losses.SparseCategoricalCrossentropy(\n",
    "    from_logits=True, \n",
    "    reduction='none')\n",
    "\n",
    "model.compile(loss=loss, optimizer=optimizer)\n",
    "history = model.fit(enc_train, dec_train, epochs=30, validation_data=(enc_val, dec_val), callbacks=[early_stopping])"
   ]
  },
  {
   "cell_type": "code",
   "execution_count": 38,
   "id": "99b641f7",
   "metadata": {
    "scrolled": false
   },
   "outputs": [
    {
     "data": {
      "image/png": "[encoded data removed]",
      "text/plain": [
       "<Figure size 720x576 with 1 Axes>"
      ]
     },
     "metadata": {
      "needs_background": "light"
     },
     "output_type": "display_data"
    }
   ],
   "source": [
    "fig, ax = plt.subplots(1, 1, figsize=(10, 8))\n",
    "\n",
    "ax.plot(history.history['loss'], 'y', label = 'train loss')\n",
    "ax.plot(history.history['val_loss'], 'y', label = 'valid loss')\n",
    "\n",
    "\n",
    "ax.set_xlabel('epoch')\n",
    "ax.set_ylabel('loss')\n",
    "\n",
    "ax.legend(loc='upper left')\n",
    "\n",
    "plt.show()"
   ]
  },
  {
   "cell_type": "markdown",
   "id": "a13acdb0",
   "metadata": {},
   "source": [
    "valid loss가 오르기 시작했고, 더 오르기 전에 학습을 중단하였다. train loss는 꾸준히 떨어진 걸로 보아 학습이 잘된 것을 알 수 있다."
   ]
  },
  {
   "cell_type": "code",
   "execution_count": 39,
   "id": "fbd8e3a1",
   "metadata": {},
   "outputs": [],
   "source": [
    "def generate_text(model, tokenizer, init_sentence=\"<start>\", max_len=20): \n",
    "\n",
    "    test_input = tokenizer.texts_to_sequences([init_sentence])\n",
    "    test_tensor = tf.convert_to_tensor(test_input, dtype=tf.int64)\n",
    "    end_token = tokenizer.word_index[\"<end>\"]\n",
    "\n",
    "\n",
    "    while True:\n",
    "        predict = model(test_tensor) \n",
    "        predict_word = tf.argmax(tf.nn.softmax(predict, axis=-1), axis=-1)[:, -1] \n",
    "        test_tensor = tf.concat([test_tensor, tf.expand_dims(predict_word, axis=0)], axis=-1)\n",
    "        if predict_word.numpy()[0] == end_token:\n",
    "            break\n",
    "        if test_tensor.shape[1] >= max_len: \n",
    "            break\n",
    "\n",
    "    generated = \"\"\n",
    "\n",
    "    for word_index in test_tensor[0].numpy():\n",
    "        generated += tokenizer.index_word[word_index] + \" \"\n",
    "\n",
    "    return generated"
   ]
  },
  {
   "cell_type": "code",
   "execution_count": 49,
   "id": "e86b5703",
   "metadata": {},
   "outputs": [
    {
     "data": {
      "text/plain": [
       "'<start> i hope that you can see , <end> '"
      ]
     },
     "execution_count": 49,
     "metadata": {},
     "output_type": "execute_result"
    }
   ],
   "source": [
    "generate_text(model, tokenizer, init_sentence=\"<start> i hope\", max_len=20)"
   ]
  },
  {
   "cell_type": "markdown",
   "id": "97abdeb0",
   "metadata": {},
   "source": [
    "해석 가능한 문장이 생성된 것을 확인할 수 있다"
   ]
  },
  {
   "cell_type": "markdown",
   "id": "759f2d81",
   "metadata": {},
   "source": [
    "# 회고"
   ]
  },
  {
   "cell_type": "markdown",
   "id": "86dbb331",
   "metadata": {},
   "source": [
    "- `maxlen`을 `None`으로 해봤는데, 소요시간이 한 epoch 당 30분 이상 소요되었다. loss는 빠르게 떨어졌지만, 낮은 loss에 비해 생성된 결과값은 불만족스러웠다. 학습이 덜 되어서 그런 것 같은데, epoch 당 소요 시간이 매우 길어서 더 길게 학습을 시킬 수는 없었다.\n",
    "- `LSTM` 대신 `RNN`을 사용해보았다. loss가 2.3대에서 더 떨어지지 않았다.\n",
    "- 같은 조건에서 `LSTM`으로 돌린 결과 loss가 1.9대까지 떨어졌다.\n",
    "- `LSTM`이나 `RNN`으로 분류 태스크만 해봤는데 생성을 처음 해봐서 재밌었다. 나중에 다른 생성모델을 사용해서도 문장 생성 태스크를 한 번 해보고 싶다."
   ]
  }
 ],
 "metadata": {
  "kernelspec": {
   "display_name": "Python 3 (ipykernel)",
   "language": "python",
   "name": "python3"
  },
  "language_info": {
   "codemirror_mode": {
    "name": "ipython",
    "version": 3
   },
   "file_extension": ".py",
   "mimetype": "text/x-python",
   "name": "python",
   "nbconvert_exporter": "python",
   "pygments_lexer": "ipython3",
   "version": "3.9.7"
  }
 },
 "nbformat": 4,
 "nbformat_minor": 5
}
